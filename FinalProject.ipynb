{
  "nbformat": 4,
  "nbformat_minor": 5,
  "metadata": {
    "kernelspec": {
      "display_name": "Python 3",
      "language": "python",
      "name": "python3"
    },
    "language_info": {
      "codemirror_mode": {
        "name": "ipython",
        "version": 3
      },
      "file_extension": ".py",
      "mimetype": "text/x-python",
      "name": "python",
      "nbconvert_exporter": "python",
      "pygments_lexer": "ipython3",
      "version": "3.7.10"
    },
    "colab": {
      "provenance": [],
      "include_colab_link": true
    }
  },
  "cells": [
    {
      "cell_type": "markdown",
      "metadata": {
        "id": "view-in-github",
        "colab_type": "text"
      },
      "source": [
        "<a href=\"https://colab.research.google.com/github/rexbrahh/Optimization-of-Machine-Learning-Models-for-Prediction-of-Personal-Loan-Default-Rate/blob/main/FinalProject.ipynb\" target=\"_parent\"><img src=\"https://colab.research.google.com/assets/colab-badge.svg\" alt=\"Open In Colab\"/></a>"
      ]
    },
    {
      "cell_type": "code",
      "metadata": {
        "id": "01e8e76c",
        "colab": {
          "base_uri": "https://localhost:8080/",
          "height": 35
        },
        "outputId": "388c5073-c3e8-4c29-dcc6-80394e051aca"
      },
      "source": [
        "import os\n",
        "\n",
        "os.getcwd()"
      ],
      "id": "01e8e76c",
      "execution_count": null,
      "outputs": [
        {
          "output_type": "execute_result",
          "data": {
            "application/vnd.google.colaboratory.intrinsic+json": {
              "type": "string"
            },
            "text/plain": [
              "'/content'"
            ]
          },
          "metadata": {},
          "execution_count": 1
        }
      ]
    },
    {
      "cell_type": "code",
      "metadata": {
        "id": "de725c27"
      },
      "source": [
        "import sys\n",
        "assert sys.version_info >= (3, 5)\n",
        "\n",
        "import sklearn\n",
        "assert sklearn.__version__ >= \"0.20\"\n",
        "\n",
        "try:\n",
        "    %tensorflow_version 2.x\n",
        "except Exception:\n",
        "    pass\n",
        "\n",
        "import tensorflow as tf\n",
        "assert tf.__version__ >= \"2.0\"\n",
        "\n",
        "import numpy as np\n",
        "import os\n",
        "\n",
        "np.random.seed(42)\n",
        "\n",
        "%matplotlib inline\n",
        "import matplotlib as mpl\n",
        "import matplotlib.pyplot as plt\n",
        "mpl.rc('axes', labelsize=14)\n",
        "mpl.rc('xtick', labelsize=12)\n",
        "mpl.rc('ytick', labelsize=12)\n",
        "\n",
        "PROJECT_ROOT_DIR = \".\"\n",
        "CHAPTER_ID = \"ann\"\n",
        "IMAGES_PATH = os.path.join(PROJECT_ROOT_DIR, \"images\", CHAPTER_ID)\n",
        "os.makedirs(IMAGES_PATH, exist_ok=True)\n",
        "\n",
        "def save_fig(fig_id, tight_layout=True, fig_extension=\"png\", resolution=300):\n",
        "    path = os.path.join(IMAGES_PATH, fig_id + \".\" + fig_extension)\n",
        "    print(\"Saving figure\", fig_id)\n",
        "    if tight_layout:\n",
        "        plt.tight_layout()\n",
        "    plt.savefig(path, format=fig_extension, dpi=resolution)"
      ],
      "id": "de725c27",
      "execution_count": null,
      "outputs": []
    },
    {
      "cell_type": "code",
      "metadata": {
        "id": "d3329683",
        "colab": {
          "base_uri": "https://localhost:8080/",
          "height": 483
        },
        "outputId": "1c57318f-1318-41ea-e5d6-0b13db2ac413"
      },
      "source": [
        "import pandas as pd\n",
        "\n",
        "proc = pd.read_csv('indexProcessed.csv')\n",
        "info = pd.read_csv('indexInfo.csv')\n",
        "data = pd.read_csv('indexData.csv')\n",
        "\n",
        "info"
      ],
      "id": "d3329683",
      "execution_count": null,
      "outputs": [
        {
          "output_type": "execute_result",
          "data": {
            "text/html": [
              "<div>\n",
              "<style scoped>\n",
              "    .dataframe tbody tr th:only-of-type {\n",
              "        vertical-align: middle;\n",
              "    }\n",
              "\n",
              "    .dataframe tbody tr th {\n",
              "        vertical-align: top;\n",
              "    }\n",
              "\n",
              "    .dataframe thead th {\n",
              "        text-align: right;\n",
              "    }\n",
              "</style>\n",
              "<table border=\"1\" class=\"dataframe\">\n",
              "  <thead>\n",
              "    <tr style=\"text-align: right;\">\n",
              "      <th></th>\n",
              "      <th>Region</th>\n",
              "      <th>Exchange</th>\n",
              "      <th>Index</th>\n",
              "      <th>Currency</th>\n",
              "    </tr>\n",
              "  </thead>\n",
              "  <tbody>\n",
              "    <tr>\n",
              "      <th>0</th>\n",
              "      <td>United States</td>\n",
              "      <td>New York Stock Exchange</td>\n",
              "      <td>NYA</td>\n",
              "      <td>USD</td>\n",
              "    </tr>\n",
              "    <tr>\n",
              "      <th>1</th>\n",
              "      <td>United States</td>\n",
              "      <td>NASDAQ</td>\n",
              "      <td>IXIC</td>\n",
              "      <td>USD</td>\n",
              "    </tr>\n",
              "    <tr>\n",
              "      <th>2</th>\n",
              "      <td>Hong Kong</td>\n",
              "      <td>Hong Kong Stock Exchange</td>\n",
              "      <td>HSI</td>\n",
              "      <td>HKD</td>\n",
              "    </tr>\n",
              "    <tr>\n",
              "      <th>3</th>\n",
              "      <td>China</td>\n",
              "      <td>Shanghai Stock Exchange</td>\n",
              "      <td>000001.SS</td>\n",
              "      <td>CNY</td>\n",
              "    </tr>\n",
              "    <tr>\n",
              "      <th>4</th>\n",
              "      <td>Japan</td>\n",
              "      <td>Tokyo Stock Exchange</td>\n",
              "      <td>N225</td>\n",
              "      <td>JPY</td>\n",
              "    </tr>\n",
              "    <tr>\n",
              "      <th>5</th>\n",
              "      <td>Europe</td>\n",
              "      <td>Euronext</td>\n",
              "      <td>N100</td>\n",
              "      <td>EUR</td>\n",
              "    </tr>\n",
              "    <tr>\n",
              "      <th>6</th>\n",
              "      <td>China</td>\n",
              "      <td>Shenzhen Stock Exchange</td>\n",
              "      <td>399001.SZ</td>\n",
              "      <td>CNY</td>\n",
              "    </tr>\n",
              "    <tr>\n",
              "      <th>7</th>\n",
              "      <td>Canada</td>\n",
              "      <td>Toronto Stock Exchange</td>\n",
              "      <td>GSPTSE</td>\n",
              "      <td>CAD</td>\n",
              "    </tr>\n",
              "    <tr>\n",
              "      <th>8</th>\n",
              "      <td>India</td>\n",
              "      <td>National Stock Exchange of India</td>\n",
              "      <td>NSEI</td>\n",
              "      <td>INR</td>\n",
              "    </tr>\n",
              "    <tr>\n",
              "      <th>9</th>\n",
              "      <td>Germany</td>\n",
              "      <td>Frankfurt Stock Exchange</td>\n",
              "      <td>GDAXI</td>\n",
              "      <td>EUR</td>\n",
              "    </tr>\n",
              "    <tr>\n",
              "      <th>10</th>\n",
              "      <td>Korea</td>\n",
              "      <td>Korea Exchange</td>\n",
              "      <td>KS11</td>\n",
              "      <td>KRW</td>\n",
              "    </tr>\n",
              "    <tr>\n",
              "      <th>11</th>\n",
              "      <td>Switzerland</td>\n",
              "      <td>SIX Swiss Exchange</td>\n",
              "      <td>SSMI</td>\n",
              "      <td>CHF</td>\n",
              "    </tr>\n",
              "    <tr>\n",
              "      <th>12</th>\n",
              "      <td>Taiwan</td>\n",
              "      <td>Taiwan Stock Exchange</td>\n",
              "      <td>TWII</td>\n",
              "      <td>TWD</td>\n",
              "    </tr>\n",
              "    <tr>\n",
              "      <th>13</th>\n",
              "      <td>South Africa</td>\n",
              "      <td>Johannesburg Stock Exchange</td>\n",
              "      <td>J203.JO</td>\n",
              "      <td>ZAR</td>\n",
              "    </tr>\n",
              "  </tbody>\n",
              "</table>\n",
              "</div>"
            ],
            "text/plain": [
              "           Region                          Exchange      Index Currency\n",
              "0   United States           New York Stock Exchange        NYA      USD\n",
              "1   United States                            NASDAQ       IXIC      USD\n",
              "2       Hong Kong          Hong Kong Stock Exchange        HSI      HKD\n",
              "3           China           Shanghai Stock Exchange  000001.SS      CNY\n",
              "4           Japan              Tokyo Stock Exchange       N225      JPY\n",
              "5          Europe                          Euronext       N100      EUR\n",
              "6           China           Shenzhen Stock Exchange  399001.SZ      CNY\n",
              "7          Canada            Toronto Stock Exchange     GSPTSE      CAD\n",
              "8           India  National Stock Exchange of India       NSEI      INR\n",
              "9         Germany          Frankfurt Stock Exchange      GDAXI      EUR\n",
              "10          Korea                    Korea Exchange       KS11      KRW\n",
              "11    Switzerland                SIX Swiss Exchange       SSMI      CHF\n",
              "12         Taiwan             Taiwan Stock Exchange       TWII      TWD\n",
              "13   South Africa       Johannesburg Stock Exchange    J203.JO      ZAR"
            ]
          },
          "metadata": {},
          "execution_count": 3
        }
      ]
    },
    {
      "cell_type": "code",
      "metadata": {
        "id": "1f5d44a9",
        "colab": {
          "base_uri": "https://localhost:8080/"
        },
        "outputId": "29214fa6-a815-409a-cc64-576464dde42d"
      },
      "source": [
        "proc.isnull().sum()"
      ],
      "id": "1f5d44a9",
      "execution_count": null,
      "outputs": [
        {
          "output_type": "execute_result",
          "data": {
            "text/plain": [
              "Index        0\n",
              "Date         0\n",
              "Open         0\n",
              "High         0\n",
              "Low          0\n",
              "Close        0\n",
              "Adj Close    0\n",
              "Volume       0\n",
              "CloseUSD     0\n",
              "dtype: int64"
            ]
          },
          "metadata": {},
          "execution_count": 4
        }
      ]
    },
    {
      "cell_type": "code",
      "metadata": {
        "id": "1fdc2970",
        "colab": {
          "base_uri": "https://localhost:8080/"
        },
        "outputId": "d0e5971f-898e-4229-e55f-47c4a8a4d4fe"
      },
      "source": [
        "info.isnull().sum()"
      ],
      "id": "1fdc2970",
      "execution_count": null,
      "outputs": [
        {
          "output_type": "execute_result",
          "data": {
            "text/plain": [
              "Region      0\n",
              "Exchange    0\n",
              "Index       0\n",
              "Currency    0\n",
              "dtype: int64"
            ]
          },
          "metadata": {},
          "execution_count": 5
        }
      ]
    },
    {
      "cell_type": "code",
      "metadata": {
        "id": "2f889f3d",
        "colab": {
          "base_uri": "https://localhost:8080/"
        },
        "outputId": "4b018e85-8ef5-4b2b-df87-6078be72fbc7"
      },
      "source": [
        "data.isnull().sum()"
      ],
      "id": "2f889f3d",
      "execution_count": null,
      "outputs": [
        {
          "output_type": "execute_result",
          "data": {
            "text/plain": [
              "Index           0\n",
              "Date            0\n",
              "Open         2204\n",
              "High         2204\n",
              "Low          2204\n",
              "Close        2204\n",
              "Adj Close    2204\n",
              "Volume       2204\n",
              "dtype: int64"
            ]
          },
          "metadata": {},
          "execution_count": 6
        }
      ]
    },
    {
      "cell_type": "code",
      "metadata": {
        "id": "102582f8",
        "colab": {
          "base_uri": "https://localhost:8080/"
        },
        "outputId": "b0409528-a9e4-46fd-e5c7-dbfb92147306"
      },
      "source": [
        "from numpy import nan\n",
        "\n",
        "data = data.replace(0,nan)\n",
        "data.fillna(data.mean(), inplace=True)\n",
        "\n",
        "print(data.isnull().sum())"
      ],
      "id": "102582f8",
      "execution_count": null,
      "outputs": [
        {
          "output_type": "stream",
          "name": "stdout",
          "text": [
            "Index        0\n",
            "Date         0\n",
            "Open         0\n",
            "High         0\n",
            "Low          0\n",
            "Close        0\n",
            "Adj Close    0\n",
            "Volume       0\n",
            "dtype: int64\n"
          ]
        }
      ]
    },
    {
      "cell_type": "code",
      "metadata": {
        "id": "53a3b991",
        "colab": {
          "base_uri": "https://localhost:8080/",
          "height": 589
        },
        "outputId": "cdc43233-f5fb-465e-9d4c-2ba9a74b5b8a"
      },
      "source": [
        "data"
      ],
      "id": "53a3b991",
      "execution_count": null,
      "outputs": [
        {
          "output_type": "execute_result",
          "data": {
            "text/html": [
              "<div>\n",
              "<style scoped>\n",
              "    .dataframe tbody tr th:only-of-type {\n",
              "        vertical-align: middle;\n",
              "    }\n",
              "\n",
              "    .dataframe tbody tr th {\n",
              "        vertical-align: top;\n",
              "    }\n",
              "\n",
              "    .dataframe thead th {\n",
              "        text-align: right;\n",
              "    }\n",
              "</style>\n",
              "<table border=\"1\" class=\"dataframe\">\n",
              "  <thead>\n",
              "    <tr style=\"text-align: right;\">\n",
              "      <th></th>\n",
              "      <th>Index</th>\n",
              "      <th>Date</th>\n",
              "      <th>Open</th>\n",
              "      <th>High</th>\n",
              "      <th>Low</th>\n",
              "      <th>Close</th>\n",
              "      <th>Adj Close</th>\n",
              "      <th>Volume</th>\n",
              "    </tr>\n",
              "  </thead>\n",
              "  <tbody>\n",
              "    <tr>\n",
              "      <th>0</th>\n",
              "      <td>NYA</td>\n",
              "      <td>1965-12-31</td>\n",
              "      <td>528.690002</td>\n",
              "      <td>528.690002</td>\n",
              "      <td>528.690002</td>\n",
              "      <td>528.690002</td>\n",
              "      <td>528.690002</td>\n",
              "      <td>2.060733e+09</td>\n",
              "    </tr>\n",
              "    <tr>\n",
              "      <th>1</th>\n",
              "      <td>NYA</td>\n",
              "      <td>1966-01-03</td>\n",
              "      <td>527.210022</td>\n",
              "      <td>527.210022</td>\n",
              "      <td>527.210022</td>\n",
              "      <td>527.210022</td>\n",
              "      <td>527.210022</td>\n",
              "      <td>2.060733e+09</td>\n",
              "    </tr>\n",
              "    <tr>\n",
              "      <th>2</th>\n",
              "      <td>NYA</td>\n",
              "      <td>1966-01-04</td>\n",
              "      <td>527.840027</td>\n",
              "      <td>527.840027</td>\n",
              "      <td>527.840027</td>\n",
              "      <td>527.840027</td>\n",
              "      <td>527.840027</td>\n",
              "      <td>2.060733e+09</td>\n",
              "    </tr>\n",
              "    <tr>\n",
              "      <th>3</th>\n",
              "      <td>NYA</td>\n",
              "      <td>1966-01-05</td>\n",
              "      <td>531.119995</td>\n",
              "      <td>531.119995</td>\n",
              "      <td>531.119995</td>\n",
              "      <td>531.119995</td>\n",
              "      <td>531.119995</td>\n",
              "      <td>2.060733e+09</td>\n",
              "    </tr>\n",
              "    <tr>\n",
              "      <th>4</th>\n",
              "      <td>NYA</td>\n",
              "      <td>1966-01-06</td>\n",
              "      <td>532.070007</td>\n",
              "      <td>532.070007</td>\n",
              "      <td>532.070007</td>\n",
              "      <td>532.070007</td>\n",
              "      <td>532.070007</td>\n",
              "      <td>2.060733e+09</td>\n",
              "    </tr>\n",
              "    <tr>\n",
              "      <th>...</th>\n",
              "      <td>...</td>\n",
              "      <td>...</td>\n",
              "      <td>...</td>\n",
              "      <td>...</td>\n",
              "      <td>...</td>\n",
              "      <td>...</td>\n",
              "      <td>...</td>\n",
              "      <td>...</td>\n",
              "    </tr>\n",
              "    <tr>\n",
              "      <th>112452</th>\n",
              "      <td>N100</td>\n",
              "      <td>2021-05-27</td>\n",
              "      <td>1241.119995</td>\n",
              "      <td>1251.910034</td>\n",
              "      <td>1241.119995</td>\n",
              "      <td>1247.069946</td>\n",
              "      <td>1247.069946</td>\n",
              "      <td>3.796964e+08</td>\n",
              "    </tr>\n",
              "    <tr>\n",
              "      <th>112453</th>\n",
              "      <td>N100</td>\n",
              "      <td>2021-05-28</td>\n",
              "      <td>1249.469971</td>\n",
              "      <td>1259.209961</td>\n",
              "      <td>1249.030029</td>\n",
              "      <td>1256.599976</td>\n",
              "      <td>1256.599976</td>\n",
              "      <td>1.607734e+08</td>\n",
              "    </tr>\n",
              "    <tr>\n",
              "      <th>112454</th>\n",
              "      <td>N100</td>\n",
              "      <td>2021-05-31</td>\n",
              "      <td>1256.079956</td>\n",
              "      <td>1258.880005</td>\n",
              "      <td>1248.140015</td>\n",
              "      <td>1248.930054</td>\n",
              "      <td>1248.930054</td>\n",
              "      <td>9.117370e+07</td>\n",
              "    </tr>\n",
              "    <tr>\n",
              "      <th>112455</th>\n",
              "      <td>N100</td>\n",
              "      <td>2021-06-01</td>\n",
              "      <td>1254.609985</td>\n",
              "      <td>1265.660034</td>\n",
              "      <td>1254.609985</td>\n",
              "      <td>1258.579956</td>\n",
              "      <td>1258.579956</td>\n",
              "      <td>1.551799e+08</td>\n",
              "    </tr>\n",
              "    <tr>\n",
              "      <th>112456</th>\n",
              "      <td>N100</td>\n",
              "      <td>2021-06-02</td>\n",
              "      <td>1258.489990</td>\n",
              "      <td>1263.709961</td>\n",
              "      <td>1258.239990</td>\n",
              "      <td>1263.619995</td>\n",
              "      <td>1263.619995</td>\n",
              "      <td>1.484650e+08</td>\n",
              "    </tr>\n",
              "  </tbody>\n",
              "</table>\n",
              "<p>112457 rows × 8 columns</p>\n",
              "</div>"
            ],
            "text/plain": [
              "       Index        Date         Open  ...        Close    Adj Close        Volume\n",
              "0        NYA  1965-12-31   528.690002  ...   528.690002   528.690002  2.060733e+09\n",
              "1        NYA  1966-01-03   527.210022  ...   527.210022   527.210022  2.060733e+09\n",
              "2        NYA  1966-01-04   527.840027  ...   527.840027   527.840027  2.060733e+09\n",
              "3        NYA  1966-01-05   531.119995  ...   531.119995   531.119995  2.060733e+09\n",
              "4        NYA  1966-01-06   532.070007  ...   532.070007   532.070007  2.060733e+09\n",
              "...      ...         ...          ...  ...          ...          ...           ...\n",
              "112452  N100  2021-05-27  1241.119995  ...  1247.069946  1247.069946  3.796964e+08\n",
              "112453  N100  2021-05-28  1249.469971  ...  1256.599976  1256.599976  1.607734e+08\n",
              "112454  N100  2021-05-31  1256.079956  ...  1248.930054  1248.930054  9.117370e+07\n",
              "112455  N100  2021-06-01  1254.609985  ...  1258.579956  1258.579956  1.551799e+08\n",
              "112456  N100  2021-06-02  1258.489990  ...  1263.619995  1263.619995  1.484650e+08\n",
              "\n",
              "[112457 rows x 8 columns]"
            ]
          },
          "metadata": {},
          "execution_count": 8
        }
      ]
    },
    {
      "cell_type": "code",
      "metadata": {
        "id": "2d008dcd",
        "colab": {
          "base_uri": "https://localhost:8080/"
        },
        "outputId": "b4ddd098-16dd-4900-919e-0f17ff39ae69"
      },
      "source": [
        "print(\"Index Info\")\n",
        "print(info.describe())\n",
        "print(info.info())\n",
        "print(\"Index Processed\")\n",
        "print(proc.describe())\n",
        "print(proc.info())\n",
        "print(\"Index Data\")\n",
        "print(data.describe())\n",
        "print(data.info())"
      ],
      "id": "2d008dcd",
      "execution_count": null,
      "outputs": [
        {
          "output_type": "stream",
          "name": "stdout",
          "text": [
            "Index Info\n",
            "       Region  Exchange    Index Currency\n",
            "count      14        14       14       14\n",
            "unique     12        14       14       11\n",
            "top     China  Euronext  J203.JO      EUR\n",
            "freq        2         1        1        2\n",
            "<class 'pandas.core.frame.DataFrame'>\n",
            "RangeIndex: 14 entries, 0 to 13\n",
            "Data columns (total 4 columns):\n",
            " #   Column    Non-Null Count  Dtype \n",
            "---  ------    --------------  ----- \n",
            " 0   Region    14 non-null     object\n",
            " 1   Exchange  14 non-null     object\n",
            " 2   Index     14 non-null     object\n",
            " 3   Currency  14 non-null     object\n",
            "dtypes: object(4)\n",
            "memory usage: 576.0+ bytes\n",
            "None\n",
            "Index Processed\n",
            "                Open           High  ...        Volume       CloseUSD\n",
            "count  104224.000000  104224.000000  ...  1.042240e+05  104224.000000\n",
            "mean     8015.353334    8063.324234  ...  1.347646e+09    3046.729177\n",
            "std      9140.563404    9196.575802  ...  4.427662e+09    3747.865623\n",
            "min        54.869999      54.869999  ...  0.000000e+00      10.204900\n",
            "25%      2046.887756    2057.213990  ...  0.000000e+00     320.460898\n",
            "50%      5772.140137    5812.764892  ...  9.529000e+05    1371.598486\n",
            "75%     10487.377445   10552.179690  ...  2.064676e+08    4383.045241\n",
            "max     68775.062500   69403.750000  ...  9.440374e+10   18934.376173\n",
            "\n",
            "[8 rows x 7 columns]\n",
            "<class 'pandas.core.frame.DataFrame'>\n",
            "RangeIndex: 104224 entries, 0 to 104223\n",
            "Data columns (total 9 columns):\n",
            " #   Column     Non-Null Count   Dtype  \n",
            "---  ------     --------------   -----  \n",
            " 0   Index      104224 non-null  object \n",
            " 1   Date       104224 non-null  object \n",
            " 2   Open       104224 non-null  float64\n",
            " 3   High       104224 non-null  float64\n",
            " 4   Low        104224 non-null  float64\n",
            " 5   Close      104224 non-null  float64\n",
            " 6   Adj Close  104224 non-null  float64\n",
            " 7   Volume     104224 non-null  float64\n",
            " 8   CloseUSD   104224 non-null  float64\n",
            "dtypes: float64(7), object(2)\n",
            "memory usage: 7.2+ MB\n",
            "None\n",
            "Index Data\n",
            "                Open           High  ...      Adj Close        Volume\n",
            "count  112457.000000  112457.000000  ...  112457.000000  1.124570e+05\n",
            "mean     7658.515222    7704.372961  ...    7657.351729  2.060733e+09\n",
            "std      8922.734963    8977.351393  ...    8922.863670  4.156713e+09\n",
            "min        54.869999      54.869999  ...      54.869999  1.000000e+02\n",
            "25%      1896.400024    1904.969971  ...    1896.089966  6.186250e+07\n",
            "50%      5392.000000    5432.399902  ...    5392.399902  2.060733e+09\n",
            "75%      9994.120117   10062.650390  ...    9992.558594  2.060733e+09\n",
            "max     68775.062500   69403.750000  ...   68775.062500  9.440374e+10\n",
            "\n",
            "[8 rows x 6 columns]\n",
            "<class 'pandas.core.frame.DataFrame'>\n",
            "RangeIndex: 112457 entries, 0 to 112456\n",
            "Data columns (total 8 columns):\n",
            " #   Column     Non-Null Count   Dtype  \n",
            "---  ------     --------------   -----  \n",
            " 0   Index      112457 non-null  object \n",
            " 1   Date       112457 non-null  object \n",
            " 2   Open       112457 non-null  float64\n",
            " 3   High       112457 non-null  float64\n",
            " 4   Low        112457 non-null  float64\n",
            " 5   Close      112457 non-null  float64\n",
            " 6   Adj Close  112457 non-null  float64\n",
            " 7   Volume     112457 non-null  float64\n",
            "dtypes: float64(6), object(2)\n",
            "memory usage: 6.9+ MB\n",
            "None\n"
          ]
        }
      ]
    },
    {
      "cell_type": "code",
      "metadata": {
        "id": "5e37e3bf",
        "colab": {
          "base_uri": "https://localhost:8080/",
          "height": 860
        },
        "outputId": "71d06f75-f85d-4867-a4ab-1a7990361bda"
      },
      "source": [
        "from sklearn.preprocessing import LabelEncoder, OneHotEncoder\n",
        "import numpy as np\n",
        "\n",
        "labelencoder = LabelEncoder()\n",
        "\n",
        "info['Region_enc'] = labelencoder.fit_transform(info['Region'])\n",
        "info['Exchange_enc'] = labelencoder.fit_transform(info['Exchange'])\n",
        "info['Index_enc'] = labelencoder.fit_transform(info['Index'])\n",
        "info['Currency_enc'] = labelencoder.fit_transform(info['Currency'])\n",
        "\n",
        "info"
      ],
      "id": "5e37e3bf",
      "execution_count": null,
      "outputs": [
        {
          "output_type": "execute_result",
          "data": {
            "text/html": [
              "<div>\n",
              "<style scoped>\n",
              "    .dataframe tbody tr th:only-of-type {\n",
              "        vertical-align: middle;\n",
              "    }\n",
              "\n",
              "    .dataframe tbody tr th {\n",
              "        vertical-align: top;\n",
              "    }\n",
              "\n",
              "    .dataframe thead th {\n",
              "        text-align: right;\n",
              "    }\n",
              "</style>\n",
              "<table border=\"1\" class=\"dataframe\">\n",
              "  <thead>\n",
              "    <tr style=\"text-align: right;\">\n",
              "      <th></th>\n",
              "      <th>Region</th>\n",
              "      <th>Exchange</th>\n",
              "      <th>Index</th>\n",
              "      <th>Currency</th>\n",
              "      <th>Region_enc</th>\n",
              "      <th>Exchange_enc</th>\n",
              "      <th>Index_enc</th>\n",
              "      <th>Currency_enc</th>\n",
              "    </tr>\n",
              "  </thead>\n",
              "  <tbody>\n",
              "    <tr>\n",
              "      <th>0</th>\n",
              "      <td>United States</td>\n",
              "      <td>New York Stock Exchange</td>\n",
              "      <td>NYA</td>\n",
              "      <td>USD</td>\n",
              "      <td>11</td>\n",
              "      <td>7</td>\n",
              "      <td>11</td>\n",
              "      <td>9</td>\n",
              "    </tr>\n",
              "    <tr>\n",
              "      <th>1</th>\n",
              "      <td>United States</td>\n",
              "      <td>NASDAQ</td>\n",
              "      <td>IXIC</td>\n",
              "      <td>USD</td>\n",
              "      <td>11</td>\n",
              "      <td>5</td>\n",
              "      <td>5</td>\n",
              "      <td>9</td>\n",
              "    </tr>\n",
              "    <tr>\n",
              "      <th>2</th>\n",
              "      <td>Hong Kong</td>\n",
              "      <td>Hong Kong Stock Exchange</td>\n",
              "      <td>HSI</td>\n",
              "      <td>HKD</td>\n",
              "      <td>4</td>\n",
              "      <td>2</td>\n",
              "      <td>4</td>\n",
              "      <td>4</td>\n",
              "    </tr>\n",
              "    <tr>\n",
              "      <th>3</th>\n",
              "      <td>China</td>\n",
              "      <td>Shanghai Stock Exchange</td>\n",
              "      <td>000001.SS</td>\n",
              "      <td>CNY</td>\n",
              "      <td>1</td>\n",
              "      <td>9</td>\n",
              "      <td>0</td>\n",
              "      <td>2</td>\n",
              "    </tr>\n",
              "    <tr>\n",
              "      <th>4</th>\n",
              "      <td>Japan</td>\n",
              "      <td>Tokyo Stock Exchange</td>\n",
              "      <td>N225</td>\n",
              "      <td>JPY</td>\n",
              "      <td>6</td>\n",
              "      <td>12</td>\n",
              "      <td>9</td>\n",
              "      <td>6</td>\n",
              "    </tr>\n",
              "    <tr>\n",
              "      <th>5</th>\n",
              "      <td>Europe</td>\n",
              "      <td>Euronext</td>\n",
              "      <td>N100</td>\n",
              "      <td>EUR</td>\n",
              "      <td>2</td>\n",
              "      <td>0</td>\n",
              "      <td>8</td>\n",
              "      <td>3</td>\n",
              "    </tr>\n",
              "    <tr>\n",
              "      <th>6</th>\n",
              "      <td>China</td>\n",
              "      <td>Shenzhen Stock Exchange</td>\n",
              "      <td>399001.SZ</td>\n",
              "      <td>CNY</td>\n",
              "      <td>1</td>\n",
              "      <td>10</td>\n",
              "      <td>1</td>\n",
              "      <td>2</td>\n",
              "    </tr>\n",
              "    <tr>\n",
              "      <th>7</th>\n",
              "      <td>Canada</td>\n",
              "      <td>Toronto Stock Exchange</td>\n",
              "      <td>GSPTSE</td>\n",
              "      <td>CAD</td>\n",
              "      <td>0</td>\n",
              "      <td>13</td>\n",
              "      <td>3</td>\n",
              "      <td>0</td>\n",
              "    </tr>\n",
              "    <tr>\n",
              "      <th>8</th>\n",
              "      <td>India</td>\n",
              "      <td>National Stock Exchange of India</td>\n",
              "      <td>NSEI</td>\n",
              "      <td>INR</td>\n",
              "      <td>5</td>\n",
              "      <td>6</td>\n",
              "      <td>10</td>\n",
              "      <td>5</td>\n",
              "    </tr>\n",
              "    <tr>\n",
              "      <th>9</th>\n",
              "      <td>Germany</td>\n",
              "      <td>Frankfurt Stock Exchange</td>\n",
              "      <td>GDAXI</td>\n",
              "      <td>EUR</td>\n",
              "      <td>3</td>\n",
              "      <td>1</td>\n",
              "      <td>2</td>\n",
              "      <td>3</td>\n",
              "    </tr>\n",
              "    <tr>\n",
              "      <th>10</th>\n",
              "      <td>Korea</td>\n",
              "      <td>Korea Exchange</td>\n",
              "      <td>KS11</td>\n",
              "      <td>KRW</td>\n",
              "      <td>7</td>\n",
              "      <td>4</td>\n",
              "      <td>7</td>\n",
              "      <td>7</td>\n",
              "    </tr>\n",
              "    <tr>\n",
              "      <th>11</th>\n",
              "      <td>Switzerland</td>\n",
              "      <td>SIX Swiss Exchange</td>\n",
              "      <td>SSMI</td>\n",
              "      <td>CHF</td>\n",
              "      <td>9</td>\n",
              "      <td>8</td>\n",
              "      <td>12</td>\n",
              "      <td>1</td>\n",
              "    </tr>\n",
              "    <tr>\n",
              "      <th>12</th>\n",
              "      <td>Taiwan</td>\n",
              "      <td>Taiwan Stock Exchange</td>\n",
              "      <td>TWII</td>\n",
              "      <td>TWD</td>\n",
              "      <td>10</td>\n",
              "      <td>11</td>\n",
              "      <td>13</td>\n",
              "      <td>8</td>\n",
              "    </tr>\n",
              "    <tr>\n",
              "      <th>13</th>\n",
              "      <td>South Africa</td>\n",
              "      <td>Johannesburg Stock Exchange</td>\n",
              "      <td>J203.JO</td>\n",
              "      <td>ZAR</td>\n",
              "      <td>8</td>\n",
              "      <td>3</td>\n",
              "      <td>6</td>\n",
              "      <td>10</td>\n",
              "    </tr>\n",
              "  </tbody>\n",
              "</table>\n",
              "</div>"
            ],
            "text/plain": [
              "           Region                          Exchange  ... Index_enc Currency_enc\n",
              "0   United States           New York Stock Exchange  ...        11            9\n",
              "1   United States                            NASDAQ  ...         5            9\n",
              "2       Hong Kong          Hong Kong Stock Exchange  ...         4            4\n",
              "3           China           Shanghai Stock Exchange  ...         0            2\n",
              "4           Japan              Tokyo Stock Exchange  ...         9            6\n",
              "5          Europe                          Euronext  ...         8            3\n",
              "6           China           Shenzhen Stock Exchange  ...         1            2\n",
              "7          Canada            Toronto Stock Exchange  ...         3            0\n",
              "8           India  National Stock Exchange of India  ...        10            5\n",
              "9         Germany          Frankfurt Stock Exchange  ...         2            3\n",
              "10          Korea                    Korea Exchange  ...         7            7\n",
              "11    Switzerland                SIX Swiss Exchange  ...        12            1\n",
              "12         Taiwan             Taiwan Stock Exchange  ...        13            8\n",
              "13   South Africa       Johannesburg Stock Exchange  ...         6           10\n",
              "\n",
              "[14 rows x 8 columns]"
            ]
          },
          "metadata": {},
          "execution_count": 10
        }
      ]
    },
    {
      "cell_type": "code",
      "metadata": {
        "id": "5b32c10f",
        "colab": {
          "base_uri": "https://localhost:8080/",
          "height": 483
        },
        "outputId": "b02a81e6-da93-4156-99ce-eef056ebe6f6"
      },
      "source": [
        "info = info.drop(['Region','Exchange','Index','Currency'], axis=1)\n",
        "info"
      ],
      "id": "5b32c10f",
      "execution_count": null,
      "outputs": [
        {
          "output_type": "execute_result",
          "data": {
            "text/html": [
              "<div>\n",
              "<style scoped>\n",
              "    .dataframe tbody tr th:only-of-type {\n",
              "        vertical-align: middle;\n",
              "    }\n",
              "\n",
              "    .dataframe tbody tr th {\n",
              "        vertical-align: top;\n",
              "    }\n",
              "\n",
              "    .dataframe thead th {\n",
              "        text-align: right;\n",
              "    }\n",
              "</style>\n",
              "<table border=\"1\" class=\"dataframe\">\n",
              "  <thead>\n",
              "    <tr style=\"text-align: right;\">\n",
              "      <th></th>\n",
              "      <th>Region_enc</th>\n",
              "      <th>Exchange_enc</th>\n",
              "      <th>Index_enc</th>\n",
              "      <th>Currency_enc</th>\n",
              "    </tr>\n",
              "  </thead>\n",
              "  <tbody>\n",
              "    <tr>\n",
              "      <th>0</th>\n",
              "      <td>11</td>\n",
              "      <td>7</td>\n",
              "      <td>11</td>\n",
              "      <td>9</td>\n",
              "    </tr>\n",
              "    <tr>\n",
              "      <th>1</th>\n",
              "      <td>11</td>\n",
              "      <td>5</td>\n",
              "      <td>5</td>\n",
              "      <td>9</td>\n",
              "    </tr>\n",
              "    <tr>\n",
              "      <th>2</th>\n",
              "      <td>4</td>\n",
              "      <td>2</td>\n",
              "      <td>4</td>\n",
              "      <td>4</td>\n",
              "    </tr>\n",
              "    <tr>\n",
              "      <th>3</th>\n",
              "      <td>1</td>\n",
              "      <td>9</td>\n",
              "      <td>0</td>\n",
              "      <td>2</td>\n",
              "    </tr>\n",
              "    <tr>\n",
              "      <th>4</th>\n",
              "      <td>6</td>\n",
              "      <td>12</td>\n",
              "      <td>9</td>\n",
              "      <td>6</td>\n",
              "    </tr>\n",
              "    <tr>\n",
              "      <th>5</th>\n",
              "      <td>2</td>\n",
              "      <td>0</td>\n",
              "      <td>8</td>\n",
              "      <td>3</td>\n",
              "    </tr>\n",
              "    <tr>\n",
              "      <th>6</th>\n",
              "      <td>1</td>\n",
              "      <td>10</td>\n",
              "      <td>1</td>\n",
              "      <td>2</td>\n",
              "    </tr>\n",
              "    <tr>\n",
              "      <th>7</th>\n",
              "      <td>0</td>\n",
              "      <td>13</td>\n",
              "      <td>3</td>\n",
              "      <td>0</td>\n",
              "    </tr>\n",
              "    <tr>\n",
              "      <th>8</th>\n",
              "      <td>5</td>\n",
              "      <td>6</td>\n",
              "      <td>10</td>\n",
              "      <td>5</td>\n",
              "    </tr>\n",
              "    <tr>\n",
              "      <th>9</th>\n",
              "      <td>3</td>\n",
              "      <td>1</td>\n",
              "      <td>2</td>\n",
              "      <td>3</td>\n",
              "    </tr>\n",
              "    <tr>\n",
              "      <th>10</th>\n",
              "      <td>7</td>\n",
              "      <td>4</td>\n",
              "      <td>7</td>\n",
              "      <td>7</td>\n",
              "    </tr>\n",
              "    <tr>\n",
              "      <th>11</th>\n",
              "      <td>9</td>\n",
              "      <td>8</td>\n",
              "      <td>12</td>\n",
              "      <td>1</td>\n",
              "    </tr>\n",
              "    <tr>\n",
              "      <th>12</th>\n",
              "      <td>10</td>\n",
              "      <td>11</td>\n",
              "      <td>13</td>\n",
              "      <td>8</td>\n",
              "    </tr>\n",
              "    <tr>\n",
              "      <th>13</th>\n",
              "      <td>8</td>\n",
              "      <td>3</td>\n",
              "      <td>6</td>\n",
              "      <td>10</td>\n",
              "    </tr>\n",
              "  </tbody>\n",
              "</table>\n",
              "</div>"
            ],
            "text/plain": [
              "    Region_enc  Exchange_enc  Index_enc  Currency_enc\n",
              "0           11             7         11             9\n",
              "1           11             5          5             9\n",
              "2            4             2          4             4\n",
              "3            1             9          0             2\n",
              "4            6            12          9             6\n",
              "5            2             0          8             3\n",
              "6            1            10          1             2\n",
              "7            0            13          3             0\n",
              "8            5             6         10             5\n",
              "9            3             1          2             3\n",
              "10           7             4          7             7\n",
              "11           9             8         12             1\n",
              "12          10            11         13             8\n",
              "13           8             3          6            10"
            ]
          },
          "metadata": {},
          "execution_count": 11
        }
      ]
    },
    {
      "cell_type": "code",
      "metadata": {
        "id": "09a74743",
        "colab": {
          "base_uri": "https://localhost:8080/",
          "height": 609
        },
        "outputId": "d6a10d50-2db7-4998-b5ea-53303030eaf6"
      },
      "source": [
        "proc['Index_enc'] = labelencoder.fit_transform(proc['Index'])\n",
        "proc['Date_enc'] = labelencoder.fit_transform(proc['Date'])\n",
        "proc"
      ],
      "id": "09a74743",
      "execution_count": null,
      "outputs": [
        {
          "output_type": "execute_result",
          "data": {
            "text/html": [
              "<div>\n",
              "<style scoped>\n",
              "    .dataframe tbody tr th:only-of-type {\n",
              "        vertical-align: middle;\n",
              "    }\n",
              "\n",
              "    .dataframe tbody tr th {\n",
              "        vertical-align: top;\n",
              "    }\n",
              "\n",
              "    .dataframe thead th {\n",
              "        text-align: right;\n",
              "    }\n",
              "</style>\n",
              "<table border=\"1\" class=\"dataframe\">\n",
              "  <thead>\n",
              "    <tr style=\"text-align: right;\">\n",
              "      <th></th>\n",
              "      <th>Index</th>\n",
              "      <th>Date</th>\n",
              "      <th>Open</th>\n",
              "      <th>High</th>\n",
              "      <th>Low</th>\n",
              "      <th>Close</th>\n",
              "      <th>Adj Close</th>\n",
              "      <th>Volume</th>\n",
              "      <th>CloseUSD</th>\n",
              "      <th>Index_enc</th>\n",
              "      <th>Date_enc</th>\n",
              "    </tr>\n",
              "  </thead>\n",
              "  <tbody>\n",
              "    <tr>\n",
              "      <th>0</th>\n",
              "      <td>HSI</td>\n",
              "      <td>1986-12-31</td>\n",
              "      <td>2568.300049</td>\n",
              "      <td>2568.300049</td>\n",
              "      <td>2568.300049</td>\n",
              "      <td>2568.300049</td>\n",
              "      <td>2568.300049</td>\n",
              "      <td>0.0</td>\n",
              "      <td>333.879006</td>\n",
              "      <td>4</td>\n",
              "      <td>5699</td>\n",
              "    </tr>\n",
              "    <tr>\n",
              "      <th>1</th>\n",
              "      <td>HSI</td>\n",
              "      <td>1987-01-02</td>\n",
              "      <td>2540.100098</td>\n",
              "      <td>2540.100098</td>\n",
              "      <td>2540.100098</td>\n",
              "      <td>2540.100098</td>\n",
              "      <td>2540.100098</td>\n",
              "      <td>0.0</td>\n",
              "      <td>330.213013</td>\n",
              "      <td>4</td>\n",
              "      <td>5700</td>\n",
              "    </tr>\n",
              "    <tr>\n",
              "      <th>2</th>\n",
              "      <td>HSI</td>\n",
              "      <td>1987-01-05</td>\n",
              "      <td>2552.399902</td>\n",
              "      <td>2552.399902</td>\n",
              "      <td>2552.399902</td>\n",
              "      <td>2552.399902</td>\n",
              "      <td>2552.399902</td>\n",
              "      <td>0.0</td>\n",
              "      <td>331.811987</td>\n",
              "      <td>4</td>\n",
              "      <td>5701</td>\n",
              "    </tr>\n",
              "    <tr>\n",
              "      <th>3</th>\n",
              "      <td>HSI</td>\n",
              "      <td>1987-01-06</td>\n",
              "      <td>2583.899902</td>\n",
              "      <td>2583.899902</td>\n",
              "      <td>2583.899902</td>\n",
              "      <td>2583.899902</td>\n",
              "      <td>2583.899902</td>\n",
              "      <td>0.0</td>\n",
              "      <td>335.906987</td>\n",
              "      <td>4</td>\n",
              "      <td>5702</td>\n",
              "    </tr>\n",
              "    <tr>\n",
              "      <th>4</th>\n",
              "      <td>HSI</td>\n",
              "      <td>1987-01-07</td>\n",
              "      <td>2607.100098</td>\n",
              "      <td>2607.100098</td>\n",
              "      <td>2607.100098</td>\n",
              "      <td>2607.100098</td>\n",
              "      <td>2607.100098</td>\n",
              "      <td>0.0</td>\n",
              "      <td>338.923013</td>\n",
              "      <td>4</td>\n",
              "      <td>5703</td>\n",
              "    </tr>\n",
              "    <tr>\n",
              "      <th>...</th>\n",
              "      <td>...</td>\n",
              "      <td>...</td>\n",
              "      <td>...</td>\n",
              "      <td>...</td>\n",
              "      <td>...</td>\n",
              "      <td>...</td>\n",
              "      <td>...</td>\n",
              "      <td>...</td>\n",
              "      <td>...</td>\n",
              "      <td>...</td>\n",
              "      <td>...</td>\n",
              "    </tr>\n",
              "    <tr>\n",
              "      <th>104219</th>\n",
              "      <td>J203.JO</td>\n",
              "      <td>2021-05-25</td>\n",
              "      <td>66054.921880</td>\n",
              "      <td>66812.453130</td>\n",
              "      <td>66022.976560</td>\n",
              "      <td>66076.679690</td>\n",
              "      <td>66076.679690</td>\n",
              "      <td>0.0</td>\n",
              "      <td>4625.367578</td>\n",
              "      <td>6</td>\n",
              "      <td>14649</td>\n",
              "    </tr>\n",
              "    <tr>\n",
              "      <th>104220</th>\n",
              "      <td>J203.JO</td>\n",
              "      <td>2021-05-26</td>\n",
              "      <td>66076.679690</td>\n",
              "      <td>66446.367190</td>\n",
              "      <td>66030.351560</td>\n",
              "      <td>66108.226560</td>\n",
              "      <td>66108.226560</td>\n",
              "      <td>0.0</td>\n",
              "      <td>4627.575859</td>\n",
              "      <td>6</td>\n",
              "      <td>14650</td>\n",
              "    </tr>\n",
              "    <tr>\n",
              "      <th>104221</th>\n",
              "      <td>J203.JO</td>\n",
              "      <td>2021-05-27</td>\n",
              "      <td>66108.226560</td>\n",
              "      <td>66940.250000</td>\n",
              "      <td>66102.546880</td>\n",
              "      <td>66940.250000</td>\n",
              "      <td>66940.250000</td>\n",
              "      <td>0.0</td>\n",
              "      <td>4685.817500</td>\n",
              "      <td>6</td>\n",
              "      <td>14651</td>\n",
              "    </tr>\n",
              "    <tr>\n",
              "      <th>104222</th>\n",
              "      <td>J203.JO</td>\n",
              "      <td>2021-05-28</td>\n",
              "      <td>66940.250000</td>\n",
              "      <td>67726.562500</td>\n",
              "      <td>66794.609380</td>\n",
              "      <td>67554.859380</td>\n",
              "      <td>67554.859380</td>\n",
              "      <td>0.0</td>\n",
              "      <td>4728.840157</td>\n",
              "      <td>6</td>\n",
              "      <td>14652</td>\n",
              "    </tr>\n",
              "    <tr>\n",
              "      <th>104223</th>\n",
              "      <td>J203.JO</td>\n",
              "      <td>2021-05-31</td>\n",
              "      <td>67554.859380</td>\n",
              "      <td>68140.851560</td>\n",
              "      <td>67554.859380</td>\n",
              "      <td>67964.039060</td>\n",
              "      <td>67964.039060</td>\n",
              "      <td>0.0</td>\n",
              "      <td>4757.482734</td>\n",
              "      <td>6</td>\n",
              "      <td>14653</td>\n",
              "    </tr>\n",
              "  </tbody>\n",
              "</table>\n",
              "<p>104224 rows × 11 columns</p>\n",
              "</div>"
            ],
            "text/plain": [
              "          Index        Date          Open  ...     CloseUSD  Index_enc  Date_enc\n",
              "0           HSI  1986-12-31   2568.300049  ...   333.879006          4      5699\n",
              "1           HSI  1987-01-02   2540.100098  ...   330.213013          4      5700\n",
              "2           HSI  1987-01-05   2552.399902  ...   331.811987          4      5701\n",
              "3           HSI  1987-01-06   2583.899902  ...   335.906987          4      5702\n",
              "4           HSI  1987-01-07   2607.100098  ...   338.923013          4      5703\n",
              "...         ...         ...           ...  ...          ...        ...       ...\n",
              "104219  J203.JO  2021-05-25  66054.921880  ...  4625.367578          6     14649\n",
              "104220  J203.JO  2021-05-26  66076.679690  ...  4627.575859          6     14650\n",
              "104221  J203.JO  2021-05-27  66108.226560  ...  4685.817500          6     14651\n",
              "104222  J203.JO  2021-05-28  66940.250000  ...  4728.840157          6     14652\n",
              "104223  J203.JO  2021-05-31  67554.859380  ...  4757.482734          6     14653\n",
              "\n",
              "[104224 rows x 11 columns]"
            ]
          },
          "metadata": {},
          "execution_count": 12
        }
      ]
    },
    {
      "cell_type": "code",
      "metadata": {
        "id": "c6e4a3fe",
        "colab": {
          "base_uri": "https://localhost:8080/",
          "height": 439
        },
        "outputId": "326440fe-a389-4f57-be99-cbb975e4be16"
      },
      "source": [
        "proc = proc.drop(['Index','Date'],axis=1)\n",
        "proc"
      ],
      "id": "c6e4a3fe",
      "execution_count": null,
      "outputs": [
        {
          "output_type": "execute_result",
          "data": {
            "text/html": [
              "<div>\n",
              "<style scoped>\n",
              "    .dataframe tbody tr th:only-of-type {\n",
              "        vertical-align: middle;\n",
              "    }\n",
              "\n",
              "    .dataframe tbody tr th {\n",
              "        vertical-align: top;\n",
              "    }\n",
              "\n",
              "    .dataframe thead th {\n",
              "        text-align: right;\n",
              "    }\n",
              "</style>\n",
              "<table border=\"1\" class=\"dataframe\">\n",
              "  <thead>\n",
              "    <tr style=\"text-align: right;\">\n",
              "      <th></th>\n",
              "      <th>Open</th>\n",
              "      <th>High</th>\n",
              "      <th>Low</th>\n",
              "      <th>Close</th>\n",
              "      <th>Adj Close</th>\n",
              "      <th>Volume</th>\n",
              "      <th>CloseUSD</th>\n",
              "      <th>Index_enc</th>\n",
              "      <th>Date_enc</th>\n",
              "    </tr>\n",
              "  </thead>\n",
              "  <tbody>\n",
              "    <tr>\n",
              "      <th>0</th>\n",
              "      <td>2568.300049</td>\n",
              "      <td>2568.300049</td>\n",
              "      <td>2568.300049</td>\n",
              "      <td>2568.300049</td>\n",
              "      <td>2568.300049</td>\n",
              "      <td>0.0</td>\n",
              "      <td>333.879006</td>\n",
              "      <td>4</td>\n",
              "      <td>5699</td>\n",
              "    </tr>\n",
              "    <tr>\n",
              "      <th>1</th>\n",
              "      <td>2540.100098</td>\n",
              "      <td>2540.100098</td>\n",
              "      <td>2540.100098</td>\n",
              "      <td>2540.100098</td>\n",
              "      <td>2540.100098</td>\n",
              "      <td>0.0</td>\n",
              "      <td>330.213013</td>\n",
              "      <td>4</td>\n",
              "      <td>5700</td>\n",
              "    </tr>\n",
              "    <tr>\n",
              "      <th>2</th>\n",
              "      <td>2552.399902</td>\n",
              "      <td>2552.399902</td>\n",
              "      <td>2552.399902</td>\n",
              "      <td>2552.399902</td>\n",
              "      <td>2552.399902</td>\n",
              "      <td>0.0</td>\n",
              "      <td>331.811987</td>\n",
              "      <td>4</td>\n",
              "      <td>5701</td>\n",
              "    </tr>\n",
              "    <tr>\n",
              "      <th>3</th>\n",
              "      <td>2583.899902</td>\n",
              "      <td>2583.899902</td>\n",
              "      <td>2583.899902</td>\n",
              "      <td>2583.899902</td>\n",
              "      <td>2583.899902</td>\n",
              "      <td>0.0</td>\n",
              "      <td>335.906987</td>\n",
              "      <td>4</td>\n",
              "      <td>5702</td>\n",
              "    </tr>\n",
              "    <tr>\n",
              "      <th>4</th>\n",
              "      <td>2607.100098</td>\n",
              "      <td>2607.100098</td>\n",
              "      <td>2607.100098</td>\n",
              "      <td>2607.100098</td>\n",
              "      <td>2607.100098</td>\n",
              "      <td>0.0</td>\n",
              "      <td>338.923013</td>\n",
              "      <td>4</td>\n",
              "      <td>5703</td>\n",
              "    </tr>\n",
              "    <tr>\n",
              "      <th>...</th>\n",
              "      <td>...</td>\n",
              "      <td>...</td>\n",
              "      <td>...</td>\n",
              "      <td>...</td>\n",
              "      <td>...</td>\n",
              "      <td>...</td>\n",
              "      <td>...</td>\n",
              "      <td>...</td>\n",
              "      <td>...</td>\n",
              "    </tr>\n",
              "    <tr>\n",
              "      <th>104219</th>\n",
              "      <td>66054.921880</td>\n",
              "      <td>66812.453130</td>\n",
              "      <td>66022.976560</td>\n",
              "      <td>66076.679690</td>\n",
              "      <td>66076.679690</td>\n",
              "      <td>0.0</td>\n",
              "      <td>4625.367578</td>\n",
              "      <td>6</td>\n",
              "      <td>14649</td>\n",
              "    </tr>\n",
              "    <tr>\n",
              "      <th>104220</th>\n",
              "      <td>66076.679690</td>\n",
              "      <td>66446.367190</td>\n",
              "      <td>66030.351560</td>\n",
              "      <td>66108.226560</td>\n",
              "      <td>66108.226560</td>\n",
              "      <td>0.0</td>\n",
              "      <td>4627.575859</td>\n",
              "      <td>6</td>\n",
              "      <td>14650</td>\n",
              "    </tr>\n",
              "    <tr>\n",
              "      <th>104221</th>\n",
              "      <td>66108.226560</td>\n",
              "      <td>66940.250000</td>\n",
              "      <td>66102.546880</td>\n",
              "      <td>66940.250000</td>\n",
              "      <td>66940.250000</td>\n",
              "      <td>0.0</td>\n",
              "      <td>4685.817500</td>\n",
              "      <td>6</td>\n",
              "      <td>14651</td>\n",
              "    </tr>\n",
              "    <tr>\n",
              "      <th>104222</th>\n",
              "      <td>66940.250000</td>\n",
              "      <td>67726.562500</td>\n",
              "      <td>66794.609380</td>\n",
              "      <td>67554.859380</td>\n",
              "      <td>67554.859380</td>\n",
              "      <td>0.0</td>\n",
              "      <td>4728.840157</td>\n",
              "      <td>6</td>\n",
              "      <td>14652</td>\n",
              "    </tr>\n",
              "    <tr>\n",
              "      <th>104223</th>\n",
              "      <td>67554.859380</td>\n",
              "      <td>68140.851560</td>\n",
              "      <td>67554.859380</td>\n",
              "      <td>67964.039060</td>\n",
              "      <td>67964.039060</td>\n",
              "      <td>0.0</td>\n",
              "      <td>4757.482734</td>\n",
              "      <td>6</td>\n",
              "      <td>14653</td>\n",
              "    </tr>\n",
              "  </tbody>\n",
              "</table>\n",
              "<p>104224 rows × 9 columns</p>\n",
              "</div>"
            ],
            "text/plain": [
              "                Open          High  ...  Index_enc  Date_enc\n",
              "0        2568.300049   2568.300049  ...          4      5699\n",
              "1        2540.100098   2540.100098  ...          4      5700\n",
              "2        2552.399902   2552.399902  ...          4      5701\n",
              "3        2583.899902   2583.899902  ...          4      5702\n",
              "4        2607.100098   2607.100098  ...          4      5703\n",
              "...              ...           ...  ...        ...       ...\n",
              "104219  66054.921880  66812.453130  ...          6     14649\n",
              "104220  66076.679690  66446.367190  ...          6     14650\n",
              "104221  66108.226560  66940.250000  ...          6     14651\n",
              "104222  66940.250000  67726.562500  ...          6     14652\n",
              "104223  67554.859380  68140.851560  ...          6     14653\n",
              "\n",
              "[104224 rows x 9 columns]"
            ]
          },
          "metadata": {},
          "execution_count": 13
        }
      ]
    },
    {
      "cell_type": "code",
      "metadata": {
        "scrolled": true,
        "id": "0cd02fa3",
        "colab": {
          "base_uri": "https://localhost:8080/",
          "height": 419
        },
        "outputId": "f5fe8f84-9b9a-40cd-99cd-15e5d790cca2"
      },
      "source": [
        "proc = proc.drop('Volume',axis=1)\n",
        "proc = proc.drop('CloseUSD',axis=1)\n",
        "proc"
      ],
      "id": "0cd02fa3",
      "execution_count": null,
      "outputs": [
        {
          "output_type": "execute_result",
          "data": {
            "text/html": [
              "<div>\n",
              "<style scoped>\n",
              "    .dataframe tbody tr th:only-of-type {\n",
              "        vertical-align: middle;\n",
              "    }\n",
              "\n",
              "    .dataframe tbody tr th {\n",
              "        vertical-align: top;\n",
              "    }\n",
              "\n",
              "    .dataframe thead th {\n",
              "        text-align: right;\n",
              "    }\n",
              "</style>\n",
              "<table border=\"1\" class=\"dataframe\">\n",
              "  <thead>\n",
              "    <tr style=\"text-align: right;\">\n",
              "      <th></th>\n",
              "      <th>Open</th>\n",
              "      <th>High</th>\n",
              "      <th>Low</th>\n",
              "      <th>Close</th>\n",
              "      <th>Adj Close</th>\n",
              "      <th>Index_enc</th>\n",
              "      <th>Date_enc</th>\n",
              "    </tr>\n",
              "  </thead>\n",
              "  <tbody>\n",
              "    <tr>\n",
              "      <th>0</th>\n",
              "      <td>2568.300049</td>\n",
              "      <td>2568.300049</td>\n",
              "      <td>2568.300049</td>\n",
              "      <td>2568.300049</td>\n",
              "      <td>2568.300049</td>\n",
              "      <td>4</td>\n",
              "      <td>5699</td>\n",
              "    </tr>\n",
              "    <tr>\n",
              "      <th>1</th>\n",
              "      <td>2540.100098</td>\n",
              "      <td>2540.100098</td>\n",
              "      <td>2540.100098</td>\n",
              "      <td>2540.100098</td>\n",
              "      <td>2540.100098</td>\n",
              "      <td>4</td>\n",
              "      <td>5700</td>\n",
              "    </tr>\n",
              "    <tr>\n",
              "      <th>2</th>\n",
              "      <td>2552.399902</td>\n",
              "      <td>2552.399902</td>\n",
              "      <td>2552.399902</td>\n",
              "      <td>2552.399902</td>\n",
              "      <td>2552.399902</td>\n",
              "      <td>4</td>\n",
              "      <td>5701</td>\n",
              "    </tr>\n",
              "    <tr>\n",
              "      <th>3</th>\n",
              "      <td>2583.899902</td>\n",
              "      <td>2583.899902</td>\n",
              "      <td>2583.899902</td>\n",
              "      <td>2583.899902</td>\n",
              "      <td>2583.899902</td>\n",
              "      <td>4</td>\n",
              "      <td>5702</td>\n",
              "    </tr>\n",
              "    <tr>\n",
              "      <th>4</th>\n",
              "      <td>2607.100098</td>\n",
              "      <td>2607.100098</td>\n",
              "      <td>2607.100098</td>\n",
              "      <td>2607.100098</td>\n",
              "      <td>2607.100098</td>\n",
              "      <td>4</td>\n",
              "      <td>5703</td>\n",
              "    </tr>\n",
              "    <tr>\n",
              "      <th>...</th>\n",
              "      <td>...</td>\n",
              "      <td>...</td>\n",
              "      <td>...</td>\n",
              "      <td>...</td>\n",
              "      <td>...</td>\n",
              "      <td>...</td>\n",
              "      <td>...</td>\n",
              "    </tr>\n",
              "    <tr>\n",
              "      <th>104219</th>\n",
              "      <td>66054.921880</td>\n",
              "      <td>66812.453130</td>\n",
              "      <td>66022.976560</td>\n",
              "      <td>66076.679690</td>\n",
              "      <td>66076.679690</td>\n",
              "      <td>6</td>\n",
              "      <td>14649</td>\n",
              "    </tr>\n",
              "    <tr>\n",
              "      <th>104220</th>\n",
              "      <td>66076.679690</td>\n",
              "      <td>66446.367190</td>\n",
              "      <td>66030.351560</td>\n",
              "      <td>66108.226560</td>\n",
              "      <td>66108.226560</td>\n",
              "      <td>6</td>\n",
              "      <td>14650</td>\n",
              "    </tr>\n",
              "    <tr>\n",
              "      <th>104221</th>\n",
              "      <td>66108.226560</td>\n",
              "      <td>66940.250000</td>\n",
              "      <td>66102.546880</td>\n",
              "      <td>66940.250000</td>\n",
              "      <td>66940.250000</td>\n",
              "      <td>6</td>\n",
              "      <td>14651</td>\n",
              "    </tr>\n",
              "    <tr>\n",
              "      <th>104222</th>\n",
              "      <td>66940.250000</td>\n",
              "      <td>67726.562500</td>\n",
              "      <td>66794.609380</td>\n",
              "      <td>67554.859380</td>\n",
              "      <td>67554.859380</td>\n",
              "      <td>6</td>\n",
              "      <td>14652</td>\n",
              "    </tr>\n",
              "    <tr>\n",
              "      <th>104223</th>\n",
              "      <td>67554.859380</td>\n",
              "      <td>68140.851560</td>\n",
              "      <td>67554.859380</td>\n",
              "      <td>67964.039060</td>\n",
              "      <td>67964.039060</td>\n",
              "      <td>6</td>\n",
              "      <td>14653</td>\n",
              "    </tr>\n",
              "  </tbody>\n",
              "</table>\n",
              "<p>104224 rows × 7 columns</p>\n",
              "</div>"
            ],
            "text/plain": [
              "                Open          High  ...  Index_enc  Date_enc\n",
              "0        2568.300049   2568.300049  ...          4      5699\n",
              "1        2540.100098   2540.100098  ...          4      5700\n",
              "2        2552.399902   2552.399902  ...          4      5701\n",
              "3        2583.899902   2583.899902  ...          4      5702\n",
              "4        2607.100098   2607.100098  ...          4      5703\n",
              "...              ...           ...  ...        ...       ...\n",
              "104219  66054.921880  66812.453130  ...          6     14649\n",
              "104220  66076.679690  66446.367190  ...          6     14650\n",
              "104221  66108.226560  66940.250000  ...          6     14651\n",
              "104222  66940.250000  67726.562500  ...          6     14652\n",
              "104223  67554.859380  68140.851560  ...          6     14653\n",
              "\n",
              "[104224 rows x 7 columns]"
            ]
          },
          "metadata": {},
          "execution_count": 14
        }
      ]
    },
    {
      "cell_type": "code",
      "metadata": {
        "id": "1e19f6a1",
        "colab": {
          "base_uri": "https://localhost:8080/",
          "height": 303
        },
        "outputId": "0589efa3-b2a3-4367-bdc1-804d117158ef"
      },
      "source": [
        "import seaborn as sns\n",
        "\n",
        "sns.boxplot(x=proc['Open'])"
      ],
      "id": "1e19f6a1",
      "execution_count": null,
      "outputs": [
        {
          "output_type": "execute_result",
          "data": {
            "text/plain": [
              "<matplotlib.axes._subplots.AxesSubplot at 0x7feb15425950>"
            ]
          },
          "metadata": {},
          "execution_count": 15
        },
        {
          "output_type": "display_data",
          "data": {
            "image/png": "[encoded data removed]",
            "text/plain": [
              "<Figure size 432x288 with 1 Axes>"
            ]
          },
          "metadata": {
            "needs_background": "light"
          }
        }
      ]
    },
    {
      "cell_type": "code",
      "metadata": {
        "id": "36886bb1",
        "colab": {
          "base_uri": "https://localhost:8080/",
          "height": 466
        },
        "outputId": "da358d75-f149-479d-b194-20869947e52e"
      },
      "source": [
        "plt.figure(figsize=(20,10))\n",
        "c = proc.corr()\n",
        "sns.heatmap(c, cmap='BrBG', annot=True)"
      ],
      "id": "36886bb1",
      "execution_count": null,
      "outputs": [
        {
          "output_type": "execute_result",
          "data": {
            "text/plain": [
              "<matplotlib.axes._subplots.AxesSubplot at 0x7feb15b78350>"
            ]
          },
          "metadata": {},
          "execution_count": 16
        },
        {
          "output_type": "display_data",
          "data": {
            "image/png": "[encoded data removed]",
            "text/plain": [
              "<Figure size 1440x720 with 2 Axes>"
            ]
          },
          "metadata": {
            "needs_background": "light"
          }
        }
      ]
    },
    {
      "cell_type": "code",
      "metadata": {
        "id": "e8c00b12",
        "colab": {
          "base_uri": "https://localhost:8080/",
          "height": 395
        },
        "outputId": "625be080-46f3-400c-a536-3250cd94197c"
      },
      "source": [
        "fig,ax = plt.subplots(figsize=(10,6))\n",
        "ax.scatter(proc['Date_enc'],proc['Open'])\n",
        "ax.set_xlabel('Date')\n",
        "ax.set_ylabel('Open_Price')\n",
        "plt.show()"
      ],
      "id": "e8c00b12",
      "execution_count": null,
      "outputs": [
        {
          "output_type": "display_data",
          "data": {
            "image/png": "[encoded data removed]",
            "text/plain": [
              "<Figure size 720x432 with 1 Axes>"
            ]
          },
          "metadata": {
            "needs_background": "light"
          }
        }
      ]
    },
    {
      "cell_type": "code",
      "metadata": {
        "scrolled": true,
        "id": "26471eb2",
        "colab": {
          "base_uri": "https://localhost:8080/",
          "height": 476
        },
        "outputId": "ba169599-a1ac-406c-e82c-147575d666c0"
      },
      "source": [
        "proc.Open.value_counts().nlargest(40).plot(kind='bar', figsize=(10,5))\n",
        "plt.title(\"?\")\n",
        "plt.ylabel('what')\n",
        "plt.xlabel('I_dont_know')\n",
        "plt.show()"
      ],
      "id": "26471eb2",
      "execution_count": null,
      "outputs": [
        {
          "output_type": "display_data",
          "data": {
            "image/png": "[encoded data removed]",
            "text/plain": [
              "<Figure size 720x360 with 1 Axes>"
            ]
          },
          "metadata": {
            "needs_background": "light"
          }
        }
      ]
    },
    {
      "cell_type": "code",
      "metadata": {
        "colab": {
          "base_uri": "https://localhost:8080/"
        },
        "id": "67bb45c2",
        "outputId": "d4b0f323-3e8f-4b54-e38f-c43d4e86836d"
      },
      "source": [
        "mean = [None]*len(proc)\n",
        "proc.insert(2,'Average',None,True)\n",
        "for i in range(0,len(proc)):\n",
        "    mean[i] = (proc['Open'][i] +proc['High'][i]+proc['Low'][i]+proc['Close'][i]+proc['Adj Close'][i])/5\n",
        "    proc['Average'][i] = mean[i]"
      ],
      "id": "67bb45c2",
      "execution_count": null,
      "outputs": [
        {
          "output_type": "stream",
          "name": "stderr",
          "text": [
            "/usr/local/lib/python3.7/dist-packages/ipykernel_launcher.py:5: SettingWithCopyWarning: \n",
            "A value is trying to be set on a copy of a slice from a DataFrame\n",
            "\n",
            "See the caveats in the documentation: https://pandas.pydata.org/pandas-docs/stable/user_guide/indexing.html#returning-a-view-versus-a-copy\n",
            "  \"\"\"\n"
          ]
        }
      ]
    },
    {
      "cell_type": "code",
      "metadata": {
        "id": "e7692a27",
        "colab": {
          "base_uri": "https://localhost:8080/",
          "height": 204
        },
        "outputId": "369e5543-98ce-416f-83c8-fdf9231a2ed1"
      },
      "source": [
        "proc.head()"
      ],
      "id": "e7692a27",
      "execution_count": null,
      "outputs": [
        {
          "output_type": "execute_result",
          "data": {
            "text/html": [
              "<div>\n",
              "<style scoped>\n",
              "    .dataframe tbody tr th:only-of-type {\n",
              "        vertical-align: middle;\n",
              "    }\n",
              "\n",
              "    .dataframe tbody tr th {\n",
              "        vertical-align: top;\n",
              "    }\n",
              "\n",
              "    .dataframe thead th {\n",
              "        text-align: right;\n",
              "    }\n",
              "</style>\n",
              "<table border=\"1\" class=\"dataframe\">\n",
              "  <thead>\n",
              "    <tr style=\"text-align: right;\">\n",
              "      <th></th>\n",
              "      <th>Open</th>\n",
              "      <th>High</th>\n",
              "      <th>Average</th>\n",
              "      <th>Low</th>\n",
              "      <th>Close</th>\n",
              "      <th>Adj Close</th>\n",
              "      <th>Index_enc</th>\n",
              "      <th>Date_enc</th>\n",
              "    </tr>\n",
              "  </thead>\n",
              "  <tbody>\n",
              "    <tr>\n",
              "      <th>0</th>\n",
              "      <td>2568.300049</td>\n",
              "      <td>2568.300049</td>\n",
              "      <td>2568.3</td>\n",
              "      <td>2568.300049</td>\n",
              "      <td>2568.300049</td>\n",
              "      <td>2568.300049</td>\n",
              "      <td>4</td>\n",
              "      <td>5699</td>\n",
              "    </tr>\n",
              "    <tr>\n",
              "      <th>1</th>\n",
              "      <td>2540.100098</td>\n",
              "      <td>2540.100098</td>\n",
              "      <td>2540.1</td>\n",
              "      <td>2540.100098</td>\n",
              "      <td>2540.100098</td>\n",
              "      <td>2540.100098</td>\n",
              "      <td>4</td>\n",
              "      <td>5700</td>\n",
              "    </tr>\n",
              "    <tr>\n",
              "      <th>2</th>\n",
              "      <td>2552.399902</td>\n",
              "      <td>2552.399902</td>\n",
              "      <td>2552.4</td>\n",
              "      <td>2552.399902</td>\n",
              "      <td>2552.399902</td>\n",
              "      <td>2552.399902</td>\n",
              "      <td>4</td>\n",
              "      <td>5701</td>\n",
              "    </tr>\n",
              "    <tr>\n",
              "      <th>3</th>\n",
              "      <td>2583.899902</td>\n",
              "      <td>2583.899902</td>\n",
              "      <td>2583.9</td>\n",
              "      <td>2583.899902</td>\n",
              "      <td>2583.899902</td>\n",
              "      <td>2583.899902</td>\n",
              "      <td>4</td>\n",
              "      <td>5702</td>\n",
              "    </tr>\n",
              "    <tr>\n",
              "      <th>4</th>\n",
              "      <td>2607.100098</td>\n",
              "      <td>2607.100098</td>\n",
              "      <td>2607.1</td>\n",
              "      <td>2607.100098</td>\n",
              "      <td>2607.100098</td>\n",
              "      <td>2607.100098</td>\n",
              "      <td>4</td>\n",
              "      <td>5703</td>\n",
              "    </tr>\n",
              "  </tbody>\n",
              "</table>\n",
              "</div>"
            ],
            "text/plain": [
              "          Open         High Average  ...    Adj Close  Index_enc  Date_enc\n",
              "0  2568.300049  2568.300049  2568.3  ...  2568.300049          4      5699\n",
              "1  2540.100098  2540.100098  2540.1  ...  2540.100098          4      5700\n",
              "2  2552.399902  2552.399902  2552.4  ...  2552.399902          4      5701\n",
              "3  2583.899902  2583.899902  2583.9  ...  2583.899902          4      5702\n",
              "4  2607.100098  2607.100098  2607.1  ...  2607.100098          4      5703\n",
              "\n",
              "[5 rows x 8 columns]"
            ]
          },
          "metadata": {},
          "execution_count": 20
        }
      ]
    },
    {
      "cell_type": "code",
      "metadata": {
        "id": "8da4679b"
      },
      "source": [
        "from sklearn.model_selection import train_test_split\n",
        "\n",
        "X = proc['Average'].values.reshape(-1,1)\n",
        "y = proc['Date_enc']\n",
        "\n",
        "#X = X.values.reshape(-1,1)\n",
        "\n",
        "X_train, X_test, y_train, y_test = train_test_split(X,y,test_size=0.3, random_state=42)"
      ],
      "id": "8da4679b",
      "execution_count": null,
      "outputs": []
    },
    {
      "cell_type": "markdown",
      "metadata": {
        "id": "9dd6d290"
      },
      "source": [
        "Linear regression with normal equation"
      ],
      "id": "9dd6d290"
    },
    {
      "cell_type": "code",
      "metadata": {
        "colab": {
          "base_uri": "https://localhost:8080/"
        },
        "id": "900d9397",
        "outputId": "46ddbca7-da5e-4612-f676-3b1f6e76b7a6"
      },
      "source": [
        "import numpy as np\n",
        "from sklearn.linear_model import LinearRegression\n",
        "\n",
        "lin_reg = LinearRegression()\n",
        "lin_reg.fit(X,y)\n",
        "lin_reg.intercept_, lin_reg.coef_"
      ],
      "id": "900d9397",
      "execution_count": null,
      "outputs": [
        {
          "output_type": "execute_result",
          "data": {
            "text/plain": [
              "(8313.087958548236, array([0.16111213]))"
            ]
          },
          "metadata": {},
          "execution_count": 22
        }
      ]
    },
    {
      "cell_type": "markdown",
      "metadata": {
        "id": "398cb96a"
      },
      "source": [
        "Polynomial regression"
      ],
      "id": "398cb96a"
    },
    {
      "cell_type": "code",
      "metadata": {
        "id": "278acefc"
      },
      "source": [
        "import numpy.random as rnd\n",
        "\n",
        "np.random.seed(42)"
      ],
      "id": "278acefc",
      "execution_count": null,
      "outputs": []
    },
    {
      "cell_type": "code",
      "metadata": {
        "id": "2ef407cd"
      },
      "source": [
        "from sklearn.preprocessing import PolynomialFeatures\n",
        "\n",
        "poly_features = PolynomialFeatures(degree=5, include_bias=False)\n",
        "X_poly = poly_features.fit_transform(X)"
      ],
      "id": "2ef407cd",
      "execution_count": null,
      "outputs": []
    },
    {
      "cell_type": "code",
      "metadata": {
        "colab": {
          "base_uri": "https://localhost:8080/"
        },
        "id": "2680667f",
        "outputId": "e97e60eb-512b-4c14-ce5d-5b1d23ed2c5a"
      },
      "source": [
        "X_poly[0]"
      ],
      "id": "2680667f",
      "execution_count": null,
      "outputs": [
        {
          "output_type": "execute_result",
          "data": {
            "text/plain": [
              "array([2.56830005e+03, 6.59616514e+06, 1.69409313e+10, 4.35093946e+13,\n",
              "       1.11745180e+17])"
            ]
          },
          "metadata": {},
          "execution_count": 25
        }
      ]
    },
    {
      "cell_type": "code",
      "metadata": {
        "colab": {
          "base_uri": "https://localhost:8080/"
        },
        "id": "7292ce01",
        "outputId": "404ae782-51d4-4227-ec9a-57a39b55173e"
      },
      "source": [
        "lin_reg = LinearRegression()\n",
        "lin_reg.fit(X_poly, y)\n",
        "lin_reg.intercept_, lin_reg.coef_"
      ],
      "id": "7292ce01",
      "execution_count": null,
      "outputs": [
        {
          "output_type": "execute_result",
          "data": {
            "text/plain": [
              "(7475.086182107855,\n",
              " array([ 1.11468267e-08,  7.96715106e-05, -5.23753970e-09,  1.12170943e-13,\n",
              "        -7.72494048e-19]))"
            ]
          },
          "metadata": {},
          "execution_count": 26
        }
      ]
    },
    {
      "cell_type": "markdown",
      "metadata": {
        "id": "99ca2712"
      },
      "source": [
        "Trees"
      ],
      "id": "99ca2712"
    },
    {
      "cell_type": "code",
      "metadata": {
        "id": "C8_Ml1FJyYG4"
      },
      "source": [
        "from sklearn.model_selection import train_test_split\n",
        "\n",
        "X = proc['Date_enc'].values.reshape(-1,1).astype('int')\n",
        "y = proc['Average'].astype('int')\n",
        "\n",
        "X_train, X_test, y_train, y_test = train_test_split(X,y,test_size=0.2, random_state=42)\n"
      ],
      "id": "C8_Ml1FJyYG4",
      "execution_count": null,
      "outputs": []
    },
    {
      "cell_type": "code",
      "metadata": {
        "colab": {
          "base_uri": "https://localhost:8080/"
        },
        "id": "d30eb786",
        "outputId": "e54c623a-10d9-45c0-cefb-032a0c4db345"
      },
      "source": [
        "from sklearn.tree import DecisionTreeClassifier\n",
        "\n",
        "\n",
        "tree_clf = DecisionTreeClassifier(max_depth=2, random_state=42)\n",
        "tree_clf.fit(X,y)"
      ],
      "id": "d30eb786",
      "execution_count": null,
      "outputs": [
        {
          "output_type": "execute_result",
          "data": {
            "text/plain": [
              "DecisionTreeClassifier(ccp_alpha=0.0, class_weight=None, criterion='gini',\n",
              "                       max_depth=2, max_features=None, max_leaf_nodes=None,\n",
              "                       min_impurity_decrease=0.0, min_impurity_split=None,\n",
              "                       min_samples_leaf=1, min_samples_split=2,\n",
              "                       min_weight_fraction_leaf=0.0, presort='deprecated',\n",
              "                       random_state=42, splitter='best')"
            ]
          },
          "metadata": {},
          "execution_count": 28
        }
      ]
    },
    {
      "cell_type": "code",
      "metadata": {
        "colab": {
          "base_uri": "https://localhost:8080/"
        },
        "id": "383b3a96",
        "outputId": "2e5b1641-1a85-4ac6-a3ff-4d002b23476e"
      },
      "source": [
        "tree_clf_tuned = DecisionTreeClassifier(max_depth=2, random_state=40)\n",
        "tree_clf_tuned.fit(X,y)"
      ],
      "id": "383b3a96",
      "execution_count": null,
      "outputs": [
        {
          "output_type": "execute_result",
          "data": {
            "text/plain": [
              "DecisionTreeClassifier(ccp_alpha=0.0, class_weight=None, criterion='gini',\n",
              "                       max_depth=2, max_features=None, max_leaf_nodes=None,\n",
              "                       min_impurity_decrease=0.0, min_impurity_split=None,\n",
              "                       min_samples_leaf=1, min_samples_split=2,\n",
              "                       min_weight_fraction_leaf=0.0, presort='deprecated',\n",
              "                       random_state=40, splitter='best')"
            ]
          },
          "metadata": {},
          "execution_count": 29
        }
      ]
    },
    {
      "cell_type": "code",
      "metadata": {
        "colab": {
          "base_uri": "https://localhost:8080/"
        },
        "id": "83c329e7",
        "outputId": "0544d048-fd11-4297-ba9d-41ad3ca0752f"
      },
      "source": [
        "from sklearn.model_selection import cross_val_score\n",
        "cross_val_score(tree_clf, X_train, y_train, cv=3, scoring=\"accuracy\")\n"
      ],
      "id": "83c329e7",
      "execution_count": null,
      "outputs": [
        {
          "output_type": "stream",
          "name": "stderr",
          "text": [
            "/usr/local/lib/python3.7/dist-packages/sklearn/model_selection/_split.py:667: UserWarning: The least populated class in y has only 1 members, which is less than n_splits=3.\n",
            "  % (min_groups, self.n_splits)), UserWarning)\n"
          ]
        },
        {
          "output_type": "execute_result",
          "data": {
            "text/plain": [
              "array([0.00151117, 0.00158313, 0.00165509])"
            ]
          },
          "metadata": {},
          "execution_count": 30
        }
      ]
    },
    {
      "cell_type": "code",
      "metadata": {
        "colab": {
          "base_uri": "https://localhost:8080/"
        },
        "id": "1d34aa68",
        "outputId": "231997c6-fac3-4e13-ec03-7a179894b6cb"
      },
      "source": [
        "from sklearn.model_selection import cross_val_predict\n",
        "\n",
        "y_train_pred = cross_val_predict(tree_clf, X_train,y_train, cv=3\n",
        "                                )\n",
        "\n",
        "from sklearn.metrics import confusion_matrix\n",
        "\n",
        "confusion_matrix(y_train, y_train_pred)\n"
      ],
      "id": "1d34aa68",
      "execution_count": null,
      "outputs": [
        {
          "output_type": "stream",
          "name": "stderr",
          "text": [
            "/usr/local/lib/python3.7/dist-packages/sklearn/model_selection/_split.py:667: UserWarning: The least populated class in y has only 1 members, which is less than n_splits=3.\n",
            "  % (min_groups, self.n_splits)), UserWarning)\n"
          ]
        },
        {
          "output_type": "execute_result",
          "data": {
            "text/plain": [
              "array([[0, 0, 0, ..., 0, 0, 0],\n",
              "       [0, 0, 0, ..., 0, 0, 0],\n",
              "       [0, 0, 0, ..., 0, 0, 0],\n",
              "       ...,\n",
              "       [0, 0, 0, ..., 0, 0, 0],\n",
              "       [0, 0, 0, ..., 0, 0, 0],\n",
              "       [0, 0, 0, ..., 0, 0, 0]])"
            ]
          },
          "metadata": {},
          "execution_count": 31
        }
      ]
    },
    {
      "cell_type": "code",
      "metadata": {
        "colab": {
          "base_uri": "https://localhost:8080/"
        },
        "id": "db0b45d5",
        "outputId": "ad9e1d71-8643-413f-f2b6-33b060303add"
      },
      "source": [
        "y_train_perfect_predictions = y_train\n",
        "confusion_matrix(y_train, y_train_perfect_predictions\n",
        "                )"
      ],
      "id": "db0b45d5",
      "execution_count": null,
      "outputs": [
        {
          "output_type": "execute_result",
          "data": {
            "text/plain": [
              "array([[1, 0, 0, ..., 0, 0, 0],\n",
              "       [0, 4, 0, ..., 0, 0, 0],\n",
              "       [0, 0, 3, ..., 0, 0, 0],\n",
              "       ...,\n",
              "       [0, 0, 0, ..., 1, 0, 0],\n",
              "       [0, 0, 0, ..., 0, 1, 0],\n",
              "       [0, 0, 0, ..., 0, 0, 1]])"
            ]
          },
          "metadata": {},
          "execution_count": 32
        }
      ]
    },
    {
      "cell_type": "code",
      "metadata": {
        "colab": {
          "base_uri": "https://localhost:8080/"
        },
        "id": "dcfee6a3",
        "outputId": "d4d7d7be-6150-48f8-fe79-0f5db1eee6c0"
      },
      "source": [
        "from sklearn.metrics import precision_score, recall_score\n",
        "\n",
        "precision_score(y_train, y_train_pred, average='micro')\n"
      ],
      "id": "dcfee6a3",
      "execution_count": null,
      "outputs": [
        {
          "output_type": "execute_result",
          "data": {
            "text/plain": [
              "0.0015831324434210053"
            ]
          },
          "metadata": {},
          "execution_count": 33
        }
      ]
    },
    {
      "cell_type": "code",
      "metadata": {
        "id": "fpKjO5ZojqFy"
      },
      "source": [
        "from sklearn.preprocessing import StandardScaler\n",
        "\n",
        "scaler = StandardScaler()\n",
        "proc_scaled = scaler.fit(proc)"
      ],
      "id": "fpKjO5ZojqFy",
      "execution_count": null,
      "outputs": []
    },
    {
      "cell_type": "markdown",
      "metadata": {
        "id": "G2Co7vvHTuSV"
      },
      "source": [
        "*Random Forests*"
      ],
      "id": "G2Co7vvHTuSV"
    },
    {
      "cell_type": "code",
      "metadata": {
        "id": "5b90c88d"
      },
      "source": [
        "from sklearn.model_selection import train_test_split\n",
        "from sklearn.ensemble import RandomForestClassifier\n",
        "from sklearn.linear_model import LogisticRegression\n",
        "from sklearn.ensemble import VotingClassifier\n",
        "from sklearn.svm import SVC\n",
        "\n",
        "X = proc['Average'].values.reshape(-1,1)\n",
        "y = proc['Date_enc']\n",
        "\n",
        "X_train, X_test, y_train, y_test = train_test_split(X,y,random_state=42)\n",
        "\n",
        "log_clf = LogisticRegression(solver=\"lbfgs\", random_state=42)\n",
        "rnd_clf = RandomForestClassifier(n_estimators=100, random_state=42)\n",
        "svm_clf = SVC(gamma=\"scale\", random_state=42)\n",
        "\n",
        "voting_clf = VotingClassifier(estimators=[('lr',log_clf),('rf',rnd_clf),('svc',svm_clf)],voting='hard')\n",
        "\n",
        "voting_clf.fit(X_train, y_train)"
      ],
      "id": "5b90c88d",
      "execution_count": null,
      "outputs": []
    },
    {
      "cell_type": "code",
      "metadata": {
        "id": "WLI3eSZIoqK9"
      },
      "source": [
        "from sklearn.metrics import accuracy_score\n",
        "\n",
        "for clf in (log_clf,rnd_clf,svm_clf,voting_clf):\n",
        "  clf.fit(X_train,y_train)\n",
        "  y_pred = clf.predict(X_test)\n",
        "  print(clf.__class__.__name__, accuracy_score(y_test,y_pred))\n"
      ],
      "id": "WLI3eSZIoqK9",
      "execution_count": null,
      "outputs": []
    }
  ]
}