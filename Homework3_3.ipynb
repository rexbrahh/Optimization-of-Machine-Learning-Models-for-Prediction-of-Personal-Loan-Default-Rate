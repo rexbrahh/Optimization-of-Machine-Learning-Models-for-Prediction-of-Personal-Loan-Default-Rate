{
  "nbformat": 4,
  "nbformat_minor": 5,
  "metadata": {
    "kernelspec": {
      "display_name": "Python 3",
      "language": "python",
      "name": "python3"
    },
    "language_info": {
      "codemirror_mode": {
        "name": "ipython",
        "version": 3
      },
      "file_extension": ".py",
      "mimetype": "text/x-python",
      "name": "python",
      "nbconvert_exporter": "python",
      "pygments_lexer": "ipython3",
      "version": "3.8.8"
    },
    "colab": {
      "provenance": [],
      "include_colab_link": true
    }
  },
  "cells": [
    {
      "cell_type": "markdown",
      "metadata": {
        "id": "view-in-github",
        "colab_type": "text"
      },
      "source": [
        "<a href=\"https://colab.research.google.com/github/rexbrahh/Optimization-of-Machine-Learning-Models-for-Prediction-of-Personal-Loan-Default-Rate/blob/main/Homework3_3.ipynb\" target=\"_parent\"><img src=\"https://colab.research.google.com/assets/colab-badge.svg\" alt=\"Open In Colab\"/></a>"
      ]
    },
    {
      "cell_type": "markdown",
      "metadata": {
        "id": "11d82045"
      },
      "source": [
        "# Problem Sheet 3\n",
        "\n"
      ],
      "id": "11d82045"
    },
    {
      "cell_type": "code",
      "metadata": {
        "id": "G1LGyolqc8Pi"
      },
      "source": [
        "import sys\n",
        "assert sys.version_info >=(3,5)\n",
        "import sklearn\n",
        "assert sklearn.__version__ >=\"0.20\"\n",
        "import numpy as np\n",
        "import os\n",
        "np.random.seed(42)\n",
        "%matplotlib inline\n",
        "import matplotlib as mpl\n",
        "import matplotlib.pyplot as plt\n",
        "mpl.rc('axes', labelsize=14)\n",
        "mpl.rc('xtick', labelsize=12)\n",
        "mpl.rc('ytick', labelsize=12)\n",
        "PROJECT_ROOT_DIR = \".\"\n",
        "CHAPTER_ID = \"decision_trees\"\n",
        "IMAGES_PATH = os.path.join(PROJECT_ROOT_DIR, \"images\", CHAPTER_ID)\n",
        "os.makedirs(IMAGES_PATH, exist_ok=True)\n",
        "\n",
        "def save_fig(fig_id, tight_layout=True, fig_extension=\"png\", resolution=300):\n",
        "  path = os.path.join(IMAGES_PATH, fig_id + \".\" + fig_extension)\n",
        "  print(\"Saving figure\", fig_id)\n",
        "  if tight_layout:\n",
        "    plt.tight_layout()\n",
        "  plt.savefig(path, format=fig_ext4nsion, dpi=resolution)\n",
        ""
      ],
      "id": "G1LGyolqc8Pi",
      "execution_count": null,
      "outputs": []
    },
    {
      "cell_type": "markdown",
      "metadata": {
        "id": "4cb1df69"
      },
      "source": [
        "In this problem sheet, you are expected to apply the following methods for a simplified model in finance trading signal classification using the average prices of different period:\n",
        "- Decision Tree ;\n",
        "- Bagging ;\n",
        "- Random Forest ;\n",
        "- Boost."
      ],
      "id": "4cb1df69"
    },
    {
      "cell_type": "markdown",
      "metadata": {
        "id": "e38ae995"
      },
      "source": [
        "#### Suppose Bob is a speculator in the stock market, who would like to try a strategy based on several average prices of different period. We know that\n",
        "\n",
        "- Bob does not want to take the long run risk, neither does he want to pay too much commission. As a result, once he is sure to take action, he will open a position and then holding it for 3 days, then close the position.\n",
        "- Bob wants to focus on simple technical index. He will only analyse the trading signal by using the average prices of different periods.\n",
        "- Bob only consult the **closed price** of each day."
      ],
      "id": "e38ae995"
    },
    {
      "cell_type": "markdown",
      "metadata": {
        "id": "506c4286"
      },
      "source": [
        "### Question 1\n",
        "- Suppose we are in day n. Write down the formula for\n",
        "    - Find a formula for the 7 day average (i.e. the average price of day n-6,n-5,...,n)\n",
        "    - Find a function that takes n as input, and output\n",
        "    \n",
        "      - 1, if the price on day n+3 is larger than 1.01 times the price on day n,\n",
        "      - -1, if the price on day n+3 is less than 0.99 times the price on day n, and\n",
        "      - 0 otherwise\n",
        "\n"
      ],
      "id": "506c4286"
    },
    {
      "cell_type": "markdown",
      "metadata": {
        "id": "fh5ojSfAHlo6"
      },
      "source": [
        "Answer:\n",
        "  1. Assuming that P(n) represents the price of day n , we can get the average price of the 7 days is (P(n)+P(n+1)+P(n+2)+...+P(n+6))/7\n",
        "  \n",
        "  2. please refer to the code below"
      ],
      "id": "fh5ojSfAHlo6"
    },
    {
      "cell_type": "code",
      "metadata": {
        "id": "-0Qy33G9OGjw",
        "colab": {
          "base_uri": "https://localhost:8080/",
          "height": 443
        },
        "outputId": "5c1bac5f-8f31-4f27-d2cf-9f99287bdc5f"
      },
      "source": [
        "import pandas as pd\n",
        "\n",
        "df = pd.read_csv(path)\n",
        "p = df['open']  #assuming that we only take the prices in the 'open' column for example\n",
        "n = 0\n",
        "\n",
        "\n",
        "def a_lil_function(n):\n",
        "  for n in p:\n",
        "    if p[n+3] > 1.01*p[n]:\n",
        "      print('1')\n",
        "    else:\n",
        "      if p[n+3] < 0.99*p[n]:\n",
        "        print('-1')\n",
        "      else:\n",
        "        print('0')\n",
        "  return(n)"
      ],
      "id": "-0Qy33G9OGjw",
      "execution_count": null,
      "outputs": [
        {
          "output_type": "error",
          "ename": "FileNotFoundError",
          "evalue": "ignored",
          "traceback": [
            "\u001b[0;31m---------------------------------------------------------------------------\u001b[0m",
            "\u001b[0;31mFileNotFoundError\u001b[0m                         Traceback (most recent call last)",
            "\u001b[0;32m<ipython-input-1-d9b55543d7ed>\u001b[0m in \u001b[0;36m<module>\u001b[0;34m()\u001b[0m\n\u001b[1;32m      2\u001b[0m \u001b[0;34m\u001b[0m\u001b[0m\n\u001b[1;32m      3\u001b[0m \u001b[0mpath\u001b[0m \u001b[0;34m=\u001b[0m \u001b[0;34m\"/Users/rexliu/Library/jupyter/Datasets\"\u001b[0m\u001b[0;34m\u001b[0m\u001b[0;34m\u001b[0m\u001b[0m\n\u001b[0;32m----> 4\u001b[0;31m \u001b[0mdf\u001b[0m \u001b[0;34m=\u001b[0m \u001b[0mpd\u001b[0m\u001b[0;34m.\u001b[0m\u001b[0mread_csv\u001b[0m\u001b[0;34m(\u001b[0m\u001b[0mpath\u001b[0m\u001b[0;34m)\u001b[0m\u001b[0;34m\u001b[0m\u001b[0;34m\u001b[0m\u001b[0m\n\u001b[0m\u001b[1;32m      5\u001b[0m \u001b[0mp\u001b[0m \u001b[0;34m=\u001b[0m \u001b[0mdf\u001b[0m\u001b[0;34m[\u001b[0m\u001b[0;34m'open'\u001b[0m\u001b[0;34m]\u001b[0m  \u001b[0;31m#assuming that we only take the prices in the 'open' column for example\u001b[0m\u001b[0;34m\u001b[0m\u001b[0;34m\u001b[0m\u001b[0m\n\u001b[1;32m      6\u001b[0m \u001b[0mn\u001b[0m \u001b[0;34m=\u001b[0m \u001b[0;36m0\u001b[0m\u001b[0;34m\u001b[0m\u001b[0;34m\u001b[0m\u001b[0m\n",
            "\u001b[0;32m/usr/local/lib/python3.7/dist-packages/pandas/io/parsers.py\u001b[0m in \u001b[0;36mread_csv\u001b[0;34m(filepath_or_buffer, sep, delimiter, header, names, index_col, usecols, squeeze, prefix, mangle_dupe_cols, dtype, engine, converters, true_values, false_values, skipinitialspace, skiprows, skipfooter, nrows, na_values, keep_default_na, na_filter, verbose, skip_blank_lines, parse_dates, infer_datetime_format, keep_date_col, date_parser, dayfirst, cache_dates, iterator, chunksize, compression, thousands, decimal, lineterminator, quotechar, quoting, doublequote, escapechar, comment, encoding, dialect, error_bad_lines, warn_bad_lines, delim_whitespace, low_memory, memory_map, float_precision)\u001b[0m\n\u001b[1;32m    686\u001b[0m     )\n\u001b[1;32m    687\u001b[0m \u001b[0;34m\u001b[0m\u001b[0m\n\u001b[0;32m--> 688\u001b[0;31m     \u001b[0;32mreturn\u001b[0m \u001b[0m_read\u001b[0m\u001b[0;34m(\u001b[0m\u001b[0mfilepath_or_buffer\u001b[0m\u001b[0;34m,\u001b[0m \u001b[0mkwds\u001b[0m\u001b[0;34m)\u001b[0m\u001b[0;34m\u001b[0m\u001b[0;34m\u001b[0m\u001b[0m\n\u001b[0m\u001b[1;32m    689\u001b[0m \u001b[0;34m\u001b[0m\u001b[0m\n\u001b[1;32m    690\u001b[0m \u001b[0;34m\u001b[0m\u001b[0m\n",
            "\u001b[0;32m/usr/local/lib/python3.7/dist-packages/pandas/io/parsers.py\u001b[0m in \u001b[0;36m_read\u001b[0;34m(filepath_or_buffer, kwds)\u001b[0m\n\u001b[1;32m    452\u001b[0m \u001b[0;34m\u001b[0m\u001b[0m\n\u001b[1;32m    453\u001b[0m     \u001b[0;31m# Create the parser.\u001b[0m\u001b[0;34m\u001b[0m\u001b[0;34m\u001b[0m\u001b[0;34m\u001b[0m\u001b[0m\n\u001b[0;32m--> 454\u001b[0;31m     \u001b[0mparser\u001b[0m \u001b[0;34m=\u001b[0m \u001b[0mTextFileReader\u001b[0m\u001b[0;34m(\u001b[0m\u001b[0mfp_or_buf\u001b[0m\u001b[0;34m,\u001b[0m \u001b[0;34m**\u001b[0m\u001b[0mkwds\u001b[0m\u001b[0;34m)\u001b[0m\u001b[0;34m\u001b[0m\u001b[0;34m\u001b[0m\u001b[0m\n\u001b[0m\u001b[1;32m    455\u001b[0m \u001b[0;34m\u001b[0m\u001b[0m\n\u001b[1;32m    456\u001b[0m     \u001b[0;32mif\u001b[0m \u001b[0mchunksize\u001b[0m \u001b[0;32mor\u001b[0m \u001b[0miterator\u001b[0m\u001b[0;34m:\u001b[0m\u001b[0;34m\u001b[0m\u001b[0;34m\u001b[0m\u001b[0m\n",
            "\u001b[0;32m/usr/local/lib/python3.7/dist-packages/pandas/io/parsers.py\u001b[0m in \u001b[0;36m__init__\u001b[0;34m(self, f, engine, **kwds)\u001b[0m\n\u001b[1;32m    946\u001b[0m             \u001b[0mself\u001b[0m\u001b[0;34m.\u001b[0m\u001b[0moptions\u001b[0m\u001b[0;34m[\u001b[0m\u001b[0;34m\"has_index_names\"\u001b[0m\u001b[0;34m]\u001b[0m \u001b[0;34m=\u001b[0m \u001b[0mkwds\u001b[0m\u001b[0;34m[\u001b[0m\u001b[0;34m\"has_index_names\"\u001b[0m\u001b[0;34m]\u001b[0m\u001b[0;34m\u001b[0m\u001b[0;34m\u001b[0m\u001b[0m\n\u001b[1;32m    947\u001b[0m \u001b[0;34m\u001b[0m\u001b[0m\n\u001b[0;32m--> 948\u001b[0;31m         \u001b[0mself\u001b[0m\u001b[0;34m.\u001b[0m\u001b[0m_make_engine\u001b[0m\u001b[0;34m(\u001b[0m\u001b[0mself\u001b[0m\u001b[0;34m.\u001b[0m\u001b[0mengine\u001b[0m\u001b[0;34m)\u001b[0m\u001b[0;34m\u001b[0m\u001b[0;34m\u001b[0m\u001b[0m\n\u001b[0m\u001b[1;32m    949\u001b[0m \u001b[0;34m\u001b[0m\u001b[0m\n\u001b[1;32m    950\u001b[0m     \u001b[0;32mdef\u001b[0m \u001b[0mclose\u001b[0m\u001b[0;34m(\u001b[0m\u001b[0mself\u001b[0m\u001b[0;34m)\u001b[0m\u001b[0;34m:\u001b[0m\u001b[0;34m\u001b[0m\u001b[0;34m\u001b[0m\u001b[0m\n",
            "\u001b[0;32m/usr/local/lib/python3.7/dist-packages/pandas/io/parsers.py\u001b[0m in \u001b[0;36m_make_engine\u001b[0;34m(self, engine)\u001b[0m\n\u001b[1;32m   1178\u001b[0m     \u001b[0;32mdef\u001b[0m \u001b[0m_make_engine\u001b[0m\u001b[0;34m(\u001b[0m\u001b[0mself\u001b[0m\u001b[0;34m,\u001b[0m \u001b[0mengine\u001b[0m\u001b[0;34m=\u001b[0m\u001b[0;34m\"c\"\u001b[0m\u001b[0;34m)\u001b[0m\u001b[0;34m:\u001b[0m\u001b[0;34m\u001b[0m\u001b[0;34m\u001b[0m\u001b[0m\n\u001b[1;32m   1179\u001b[0m         \u001b[0;32mif\u001b[0m \u001b[0mengine\u001b[0m \u001b[0;34m==\u001b[0m \u001b[0;34m\"c\"\u001b[0m\u001b[0;34m:\u001b[0m\u001b[0;34m\u001b[0m\u001b[0;34m\u001b[0m\u001b[0m\n\u001b[0;32m-> 1180\u001b[0;31m             \u001b[0mself\u001b[0m\u001b[0;34m.\u001b[0m\u001b[0m_engine\u001b[0m \u001b[0;34m=\u001b[0m \u001b[0mCParserWrapper\u001b[0m\u001b[0;34m(\u001b[0m\u001b[0mself\u001b[0m\u001b[0;34m.\u001b[0m\u001b[0mf\u001b[0m\u001b[0;34m,\u001b[0m \u001b[0;34m**\u001b[0m\u001b[0mself\u001b[0m\u001b[0;34m.\u001b[0m\u001b[0moptions\u001b[0m\u001b[0;34m)\u001b[0m\u001b[0;34m\u001b[0m\u001b[0;34m\u001b[0m\u001b[0m\n\u001b[0m\u001b[1;32m   1181\u001b[0m         \u001b[0;32melse\u001b[0m\u001b[0;34m:\u001b[0m\u001b[0;34m\u001b[0m\u001b[0;34m\u001b[0m\u001b[0m\n\u001b[1;32m   1182\u001b[0m             \u001b[0;32mif\u001b[0m \u001b[0mengine\u001b[0m \u001b[0;34m==\u001b[0m \u001b[0;34m\"python\"\u001b[0m\u001b[0;34m:\u001b[0m\u001b[0;34m\u001b[0m\u001b[0;34m\u001b[0m\u001b[0m\n",
            "\u001b[0;32m/usr/local/lib/python3.7/dist-packages/pandas/io/parsers.py\u001b[0m in \u001b[0;36m__init__\u001b[0;34m(self, src, **kwds)\u001b[0m\n\u001b[1;32m   2008\u001b[0m         \u001b[0mkwds\u001b[0m\u001b[0;34m[\u001b[0m\u001b[0;34m\"usecols\"\u001b[0m\u001b[0;34m]\u001b[0m \u001b[0;34m=\u001b[0m \u001b[0mself\u001b[0m\u001b[0;34m.\u001b[0m\u001b[0musecols\u001b[0m\u001b[0;34m\u001b[0m\u001b[0;34m\u001b[0m\u001b[0m\n\u001b[1;32m   2009\u001b[0m \u001b[0;34m\u001b[0m\u001b[0m\n\u001b[0;32m-> 2010\u001b[0;31m         \u001b[0mself\u001b[0m\u001b[0;34m.\u001b[0m\u001b[0m_reader\u001b[0m \u001b[0;34m=\u001b[0m \u001b[0mparsers\u001b[0m\u001b[0;34m.\u001b[0m\u001b[0mTextReader\u001b[0m\u001b[0;34m(\u001b[0m\u001b[0msrc\u001b[0m\u001b[0;34m,\u001b[0m \u001b[0;34m**\u001b[0m\u001b[0mkwds\u001b[0m\u001b[0;34m)\u001b[0m\u001b[0;34m\u001b[0m\u001b[0;34m\u001b[0m\u001b[0m\n\u001b[0m\u001b[1;32m   2011\u001b[0m         \u001b[0mself\u001b[0m\u001b[0;34m.\u001b[0m\u001b[0munnamed_cols\u001b[0m \u001b[0;34m=\u001b[0m \u001b[0mself\u001b[0m\u001b[0;34m.\u001b[0m\u001b[0m_reader\u001b[0m\u001b[0;34m.\u001b[0m\u001b[0munnamed_cols\u001b[0m\u001b[0;34m\u001b[0m\u001b[0;34m\u001b[0m\u001b[0m\n\u001b[1;32m   2012\u001b[0m \u001b[0;34m\u001b[0m\u001b[0m\n",
            "\u001b[0;32mpandas/_libs/parsers.pyx\u001b[0m in \u001b[0;36mpandas._libs.parsers.TextReader.__cinit__\u001b[0;34m()\u001b[0m\n",
            "\u001b[0;32mpandas/_libs/parsers.pyx\u001b[0m in \u001b[0;36mpandas._libs.parsers.TextReader._setup_parser_source\u001b[0;34m()\u001b[0m\n",
            "\u001b[0;31mFileNotFoundError\u001b[0m: [Errno 2] No such file or directory: '/Users/rexliu/Library/jupyter/Datasets'"
          ]
        }
      ]
    },
    {
      "cell_type": "markdown",
      "metadata": {
        "id": "a2c229d5"
      },
      "source": [
        "### Question 2\n",
        "- Import the S&P500 stocks price datas (all_stocks_5yr.csv) as pandas Dataframe into your notebook, from the source dataset: https://www.kaggle.com/camnugent/sandp500, name this data frame as \"sp500\".\n"
      ],
      "id": "a2c229d5"
    },
    {
      "cell_type": "code",
      "metadata": {
        "id": "WJ3dR8uAVdcf"
      },
      "source": [
        "#from google.colab import drive\n",
        "#drive.mount('/content/drive')\n",
        "\n",
        "import pandas as pd\n",
        "\n",
        "sp500 = pd.read_csv('all_stocks_5yr.csv')\n"
      ],
      "id": "WJ3dR8uAVdcf",
      "execution_count": null,
      "outputs": []
    },
    {
      "cell_type": "markdown",
      "metadata": {
        "id": "1ab85c37"
      },
      "source": [
        "### Question 3\n",
        "Extract the data for Apple. Based on the functions in Question 1,\n",
        "- For each date n, associate the following **features** :\n",
        "    - The 5 days averge\n",
        "    - The 10 days average\n",
        "    - The 15 days average\n",
        "    - The 30 days average\n",
        "    - The 60 days average\n",
        "    - The 180 days average\n",
        "(Note that for some dates you cannot associate one or some of the averages, if the date is too early)\n",
        "\n",
        "\n",
        "- For each date n, associate a **label**, based on the comparation of prices in day n and in n+3,"
      ],
      "id": "1ab85c37"
    },
    {
      "cell_type": "code",
      "metadata": {
        "id": "f872cdb7",
        "colab": {
          "base_uri": "https://localhost:8080/",
          "height": 419
        },
        "outputId": "80407330-1b98-444b-ed67-f73504c2b71b"
      },
      "source": [
        "grouped = sp500.groupby(sp500.Name)\n",
        "apple = grouped.get_group('AAPL')\n",
        "\n",
        "apple"
      ],
      "id": "f872cdb7",
      "execution_count": null,
      "outputs": [
        {
          "output_type": "execute_result",
          "data": {
            "text/html": [
              "<div>\n",
              "<style scoped>\n",
              "    .dataframe tbody tr th:only-of-type {\n",
              "        vertical-align: middle;\n",
              "    }\n",
              "\n",
              "    .dataframe tbody tr th {\n",
              "        vertical-align: top;\n",
              "    }\n",
              "\n",
              "    .dataframe thead th {\n",
              "        text-align: right;\n",
              "    }\n",
              "</style>\n",
              "<table border=\"1\" class=\"dataframe\">\n",
              "  <thead>\n",
              "    <tr style=\"text-align: right;\">\n",
              "      <th></th>\n",
              "      <th>date</th>\n",
              "      <th>open</th>\n",
              "      <th>high</th>\n",
              "      <th>low</th>\n",
              "      <th>close</th>\n",
              "      <th>volume</th>\n",
              "      <th>Name</th>\n",
              "    </tr>\n",
              "  </thead>\n",
              "  <tbody>\n",
              "    <tr>\n",
              "      <th>1259</th>\n",
              "      <td>2013-02-08</td>\n",
              "      <td>67.7142</td>\n",
              "      <td>68.4014</td>\n",
              "      <td>66.8928</td>\n",
              "      <td>67.8542</td>\n",
              "      <td>158168416</td>\n",
              "      <td>AAPL</td>\n",
              "    </tr>\n",
              "    <tr>\n",
              "      <th>1260</th>\n",
              "      <td>2013-02-11</td>\n",
              "      <td>68.0714</td>\n",
              "      <td>69.2771</td>\n",
              "      <td>67.6071</td>\n",
              "      <td>68.5614</td>\n",
              "      <td>129029425</td>\n",
              "      <td>AAPL</td>\n",
              "    </tr>\n",
              "    <tr>\n",
              "      <th>1261</th>\n",
              "      <td>2013-02-12</td>\n",
              "      <td>68.5014</td>\n",
              "      <td>68.9114</td>\n",
              "      <td>66.8205</td>\n",
              "      <td>66.8428</td>\n",
              "      <td>151829363</td>\n",
              "      <td>AAPL</td>\n",
              "    </tr>\n",
              "    <tr>\n",
              "      <th>1262</th>\n",
              "      <td>2013-02-13</td>\n",
              "      <td>66.7442</td>\n",
              "      <td>67.6628</td>\n",
              "      <td>66.1742</td>\n",
              "      <td>66.7156</td>\n",
              "      <td>118721995</td>\n",
              "      <td>AAPL</td>\n",
              "    </tr>\n",
              "    <tr>\n",
              "      <th>1263</th>\n",
              "      <td>2013-02-14</td>\n",
              "      <td>66.3599</td>\n",
              "      <td>67.3771</td>\n",
              "      <td>66.2885</td>\n",
              "      <td>66.6556</td>\n",
              "      <td>88809154</td>\n",
              "      <td>AAPL</td>\n",
              "    </tr>\n",
              "    <tr>\n",
              "      <th>...</th>\n",
              "      <td>...</td>\n",
              "      <td>...</td>\n",
              "      <td>...</td>\n",
              "      <td>...</td>\n",
              "      <td>...</td>\n",
              "      <td>...</td>\n",
              "      <td>...</td>\n",
              "    </tr>\n",
              "    <tr>\n",
              "      <th>2513</th>\n",
              "      <td>2018-02-01</td>\n",
              "      <td>167.1650</td>\n",
              "      <td>168.6200</td>\n",
              "      <td>166.7600</td>\n",
              "      <td>167.7800</td>\n",
              "      <td>47230787</td>\n",
              "      <td>AAPL</td>\n",
              "    </tr>\n",
              "    <tr>\n",
              "      <th>2514</th>\n",
              "      <td>2018-02-02</td>\n",
              "      <td>166.0000</td>\n",
              "      <td>166.8000</td>\n",
              "      <td>160.1000</td>\n",
              "      <td>160.5000</td>\n",
              "      <td>86593825</td>\n",
              "      <td>AAPL</td>\n",
              "    </tr>\n",
              "    <tr>\n",
              "      <th>2515</th>\n",
              "      <td>2018-02-05</td>\n",
              "      <td>159.1000</td>\n",
              "      <td>163.8800</td>\n",
              "      <td>156.0000</td>\n",
              "      <td>156.4900</td>\n",
              "      <td>72738522</td>\n",
              "      <td>AAPL</td>\n",
              "    </tr>\n",
              "    <tr>\n",
              "      <th>2516</th>\n",
              "      <td>2018-02-06</td>\n",
              "      <td>154.8300</td>\n",
              "      <td>163.7200</td>\n",
              "      <td>154.0000</td>\n",
              "      <td>163.0300</td>\n",
              "      <td>68243838</td>\n",
              "      <td>AAPL</td>\n",
              "    </tr>\n",
              "    <tr>\n",
              "      <th>2517</th>\n",
              "      <td>2018-02-07</td>\n",
              "      <td>163.0850</td>\n",
              "      <td>163.4000</td>\n",
              "      <td>159.0685</td>\n",
              "      <td>159.5400</td>\n",
              "      <td>51608580</td>\n",
              "      <td>AAPL</td>\n",
              "    </tr>\n",
              "  </tbody>\n",
              "</table>\n",
              "<p>1259 rows × 7 columns</p>\n",
              "</div>"
            ],
            "text/plain": [
              "            date      open      high       low     close     volume  Name\n",
              "1259  2013-02-08   67.7142   68.4014   66.8928   67.8542  158168416  AAPL\n",
              "1260  2013-02-11   68.0714   69.2771   67.6071   68.5614  129029425  AAPL\n",
              "1261  2013-02-12   68.5014   68.9114   66.8205   66.8428  151829363  AAPL\n",
              "1262  2013-02-13   66.7442   67.6628   66.1742   66.7156  118721995  AAPL\n",
              "1263  2013-02-14   66.3599   67.3771   66.2885   66.6556   88809154  AAPL\n",
              "...          ...       ...       ...       ...       ...        ...   ...\n",
              "2513  2018-02-01  167.1650  168.6200  166.7600  167.7800   47230787  AAPL\n",
              "2514  2018-02-02  166.0000  166.8000  160.1000  160.5000   86593825  AAPL\n",
              "2515  2018-02-05  159.1000  163.8800  156.0000  156.4900   72738522  AAPL\n",
              "2516  2018-02-06  154.8300  163.7200  154.0000  163.0300   68243838  AAPL\n",
              "2517  2018-02-07  163.0850  163.4000  159.0685  159.5400   51608580  AAPL\n",
              "\n",
              "[1259 rows x 7 columns]"
            ]
          },
          "metadata": {},
          "execution_count": 16
        }
      ]
    },
    {
      "cell_type": "code",
      "metadata": {
        "id": "1dkRPt4FYtPB"
      },
      "source": [
        "import numpy as np\n",
        "\n",
        "avg_5 = []\n",
        "avg_10 = []\n",
        "avg_15 = []\n",
        "avg_30 = []\n",
        "avg_60 = []\n",
        "avg_price = []\n",
        "for i in (1, 1259):\n",
        "  avg_price[i] = (sp500['open'][i] + sp500['high'][i] + sp500['low'][i] + sp500['close'][i])/4\n",
        "  if i >= 5:\n",
        "    sum = 0\n",
        "    for j in (1 ,4):\n",
        "      sum = sum + avg_price[i-j]\n",
        "    avg_5[i] = sum/5\n",
        "  if i >= 10:\n",
        "    sum = 0\n",
        "    for j in (1,9):\n",
        "      sum = sum + avg_price[i-j]\n",
        "    avg_10[i] = sum/10\n",
        "  if i >= 15:\n",
        "    sum = 0\n",
        "    for j in (1,14):\n",
        "      sum = sum + avg_price[i-j]\n",
        "    avg_15[i] = sum/15\n",
        "  if i >= 30:\n",
        "    sum = 0\n",
        "    for j in (1,29):\n",
        "      sum = sum + avg_price[i-j]\n",
        "    avg_30[i] = sum/30\n",
        "  if i >= 60:\n",
        "    sum = 0\n",
        "    for j in (1,59):\n",
        "      sum = sum +avg_price[i-j]\n",
        "    avg_60[i] = sum/60\n",
        "\n",
        "print(avg_5)\n",
        "print(avg_10)\n",
        "print(avg_15)\n",
        "print(avg_30)\n",
        "print(avg_60)"
      ],
      "id": "1dkRPt4FYtPB",
      "execution_count": null,
      "outputs": []
    },
    {
      "cell_type": "markdown",
      "metadata": {
        "id": "7f00aa46"
      },
      "source": [
        "### Question 4\n",
        "Train the decision tree using\n",
        "- Gini;\n",
        "- Entropy.\n",
        "\n",
        "and report the decision diagram respectively."
      ],
      "id": "7f00aa46"
    },
    {
      "cell_type": "code",
      "metadata": {
        "id": "78d897d8"
      },
      "source": [
        "#from sklearn.datasets import load_iris\n",
        "from sklearn.tree import DecisionTreeClassifier\n",
        "\n",
        "X =\n",
        "y =\n",
        "\n",
        "from sklearn.model_selection import train_test_split\n",
        "X_train , X_test, y_train, y_test = train_test_split(X, y, random_state = 42)\n",
        "\n",
        "tree_clf = DecisionTreeClassifier(max_depth=5, random_state=42)\n",
        "tree_clf.fit(X_train, y_train)\n",
        "\n",
        "from sklearn import tree\n",
        "tree.plot_tree(tree_clf)"
      ],
      "id": "78d897d8",
      "execution_count": null,
      "outputs": []
    },
    {
      "cell_type": "code",
      "metadata": {
        "colab": {
          "base_uri": "https://localhost:8080/",
          "height": 248
        },
        "id": "nBibn1vRf1At",
        "outputId": "751ee1ee-3b5e-482a-e3ed-da5a66072c87"
      },
      "source": [
        "tree_clf = DecisionTreeClassifier(criterion=\"entropy\", max_depth=5, random_state=42)\n",
        "tree_clf.fit(X_train,y_train)\n",
        "\n",
        "tree.plot_tree(tree_clf)\n",
        "\n",
        "y_pred = tree_clf.predict(X_test)"
      ],
      "id": "nBibn1vRf1At",
      "execution_count": null,
      "outputs": [
        {
          "output_type": "display_data",
          "data": {
            "image/png": "[encoded data removed]",
            "text/plain": [
              "<Figure size 432x288 with 1 Axes>"
            ]
          },
          "metadata": {
            "needs_background": "light"
          }
        }
      ]
    },
    {
      "cell_type": "code",
      "metadata": {
        "colab": {
          "base_uri": "https://localhost:8080/"
        },
        "id": "3uUFjpv5pUTD",
        "outputId": "1d175ffc-0717-47d4-b228-7c804138a1cc"
      },
      "source": [
        "from sklearn.metrics import accuracy_score\n",
        "print(accuracy_score(y_test, y_pred))"
      ],
      "id": "3uUFjpv5pUTD",
      "execution_count": null,
      "outputs": [
        {
          "output_type": "stream",
          "text": [
            "1.0\n"
          ],
          "name": "stdout"
        }
      ]
    },
    {
      "cell_type": "markdown",
      "metadata": {
        "id": "c9f20242"
      },
      "source": [
        "### Question 5\n",
        "\n",
        "Use the bagging to train an ensemble of 500 trees for the same classification problem. Does that improve the prediction?  \n"
      ],
      "id": "c9f20242"
    },
    {
      "cell_type": "code",
      "metadata": {
        "id": "GJAteA8XkXuY"
      },
      "source": [
        "from sklearn.model_selection import train_test_split\n",
        "X_train, X_test, y_train, y_test = train_test_split(X, y, random_state=42)"
      ],
      "id": "GJAteA8XkXuY",
      "execution_count": null,
      "outputs": []
    },
    {
      "cell_type": "code",
      "metadata": {
        "id": "3b3bd7b8"
      },
      "source": [
        "from sklearn.ensemble import BaggingClassifier\n",
        "from sklearn.tree import DecisionTreeClassifier\n",
        "\n",
        "bag_clf = BaggingClassifier(\n",
        "    DecisionTreeClassifier(),\n",
        "    n_estimators=500,\n",
        "    max_samples=100,\n",
        "    bootstrap=True,\n",
        "    random_state=42)\n",
        "bag_clf.fit(X_train, y_train)\n",
        "y_pred = bag_clf.predict(X_test)"
      ],
      "id": "3b3bd7b8",
      "execution_count": null,
      "outputs": []
    },
    {
      "cell_type": "code",
      "metadata": {
        "colab": {
          "base_uri": "https://localhost:8080/"
        },
        "id": "Oar5n6IvkxuR",
        "outputId": "5a6340d6-44e2-4fab-bd5f-e9d6bbea71f3"
      },
      "source": [
        "from sklearn.metrics import accuracy_score\n",
        "print(accuracy_score(y_test, y_pred))"
      ],
      "id": "Oar5n6IvkxuR",
      "execution_count": null,
      "outputs": [
        {
          "output_type": "stream",
          "text": [
            "1.0\n"
          ],
          "name": "stdout"
        }
      ]
    },
    {
      "cell_type": "markdown",
      "metadata": {
        "id": "efdfbd60"
      },
      "source": [
        "### Question 6\n",
        "\n",
        "Now use the random forest classifier with the number of estimater = 500, report the feature importances."
      ],
      "id": "efdfbd60"
    },
    {
      "cell_type": "code",
      "metadata": {
        "id": "20efd714"
      },
      "source": [
        "from sklearn.ensemble import RandomForestClassifier\n",
        "\n",
        "rnd_clf = RandomForestClassifier(n_estimators=500, max_leaf_nodes=16, random_state=42)\n",
        "rnd_clf.fit(X_train, y_train)\n",
        "\n",
        "y_pred_rf = rnd_clf.predict(X_test)"
      ],
      "id": "20efd714",
      "execution_count": null,
      "outputs": []
    },
    {
      "cell_type": "code",
      "metadata": {
        "colab": {
          "base_uri": "https://localhost:8080/"
        },
        "id": "7adjpTeZuyGi",
        "outputId": "cc6f8c0a-ab75-4f13-be30-7562cdd2f4d8"
      },
      "source": [
        "rnd_clf.feature_importances_"
      ],
      "id": "7adjpTeZuyGi",
      "execution_count": null,
      "outputs": [
        {
          "output_type": "execute_result",
          "data": {
            "text/plain": [
              "array([0.52376228, 0.47623772])"
            ]
          },
          "metadata": {},
          "execution_count": 49
        }
      ]
    },
    {
      "cell_type": "markdown",
      "metadata": {
        "id": "3a3d3040"
      },
      "source": [
        "### Question 7\n",
        "\n",
        "Now try the [gradient boost classifier](https://scikit-learn.org/stable/modules/generated/sklearn.ensemble.GradientBoostingClassifier.html) for the same problem."
      ],
      "id": "3a3d3040"
    },
    {
      "cell_type": "code",
      "metadata": {
        "id": "647222f7"
      },
      "source": [
        "from sklearn.ensemble import GradientBoostingClassifier\n",
        "\n",
        "gdb_clf = GradientBoostingClassifier(n_estimators=500,\n",
        "                                     max_depth = 5,\n",
        "                                     random_state=42\n",
        "                                     )\n",
        "gdb_clf.fit(X_train, y_train)\n",
        "\n",
        "y_pred_gdb = gdb_clf.predict(X_test)"
      ],
      "id": "647222f7",
      "execution_count": null,
      "outputs": []
    },
    {
      "cell_type": "markdown",
      "metadata": {
        "id": "8bcb07ae"
      },
      "source": [
        "### Question 8\n",
        "\n",
        "Now on day n, using the Gradient boost regessor from the library XGBoost (see p208 of textbook) to predict the price of n+3 by using the same average features as in Question 7."
      ],
      "id": "8bcb07ae"
    },
    {
      "cell_type": "code",
      "metadata": {
        "id": "15571b29"
      },
      "source": [
        "from sklearn.ensemble import GradientBoostingRegressor\n",
        "\n"
      ],
      "id": "15571b29",
      "execution_count": null,
      "outputs": []
    }
  ]
}