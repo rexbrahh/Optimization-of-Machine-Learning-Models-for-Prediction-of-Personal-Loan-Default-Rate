{
  "nbformat": 4,
  "nbformat_minor": 5,
  "metadata": {
    "kernelspec": {
      "display_name": "Python 3",
      "language": "python",
      "name": "python3"
    },
    "language_info": {
      "codemirror_mode": {
        "name": "ipython",
        "version": 3
      },
      "file_extension": ".py",
      "mimetype": "text/x-python",
      "name": "python",
      "nbconvert_exporter": "python",
      "pygments_lexer": "ipython3",
      "version": "3.7.10"
    },
    "colab": {
      "provenance": [],
      "include_colab_link": true
    }
  },
  "cells": [
    {
      "cell_type": "markdown",
      "metadata": {
        "id": "view-in-github",
        "colab_type": "text"
      },
      "source": [
        "<a href=\"https://colab.research.google.com/github/rexbrahh/Optimization-of-Machine-Learning-Models-for-Prediction-of-Personal-Loan-Default-Rate/blob/main/Homework_4_2.ipynb\" target=\"_parent\"><img src=\"https://colab.research.google.com/assets/colab-badge.svg\" alt=\"Open In Colab\"/></a>"
      ]
    },
    {
      "cell_type": "markdown",
      "metadata": {
        "id": "11d82045"
      },
      "source": [
        "# Problem Sheet 4\n",
        "\n"
      ],
      "id": "11d82045"
    },
    {
      "cell_type": "markdown",
      "metadata": {
        "id": "4cb1df69"
      },
      "source": [
        "In this problem sheet, you are expected to apply the neural network to predict the price of sp500 by using indices of other important world economic entities. You will need to\n",
        "\n",
        "- Get some experience on tensorflow\n",
        "- Understand the interaction between different markets\n",
        "- Implement some neural network models to predict\n"
      ],
      "id": "4cb1df69"
    },
    {
      "cell_type": "markdown",
      "metadata": {
        "id": "e38ae995"
      },
      "source": [
        "#### Suppose Bob is a speculator in the stock market, who would like to try a strategy based on several different world's principle entities' indices, and that\n",
        "\n",
        "- Bob can only trade on sp500\n",
        "- Bob will mainly take Japan, Germany, UK, France, and Hong Kong SAR of China as the main benchmark references.  \n",
        "- Bob only consult the **closed price** of each day."
      ],
      "id": "e38ae995"
    },
    {
      "cell_type": "code",
      "metadata": {
        "id": "66f04f41"
      },
      "source": [
        "# Python ≥3.5 is required\n",
        "import sys\n",
        "assert sys.version_info >= (3, 5)\n",
        "\n",
        "# Scikit-Learn ≥0.20 is required\n",
        "import sklearn\n",
        "assert sklearn.__version__ >= \"0.20\"\n",
        "\n",
        "try:\n",
        "    # %tensorflow_version only exists in Colab.\n",
        "    %tensorflow_version 2.x\n",
        "except Exception:\n",
        "    pass\n",
        "\n",
        "# TensorFlow ≥2.0 is required\n",
        "import tensorflow as tf\n",
        "assert tf.__version__ >= \"2.0\"\n",
        "\n",
        "# Common imports\n",
        "import numpy as np\n",
        "import os\n",
        "\n",
        "# to make this notebook's output stable across runs\n",
        "np.random.seed(42)\n",
        "\n",
        "# To plot pretty figures\n",
        "%matplotlib inline\n",
        "import matplotlib as mpl\n",
        "import matplotlib.pyplot as plt\n",
        "mpl.rc('axes', labelsize=14)\n",
        "mpl.rc('xtick', labelsize=12)\n",
        "mpl.rc('ytick', labelsize=12)\n",
        "\n",
        "# Where to save the figures\n",
        "PROJECT_ROOT_DIR = \".\"\n",
        "CHAPTER_ID = \"ann\"\n",
        "IMAGES_PATH = os.path.join(PROJECT_ROOT_DIR, \"images\", CHAPTER_ID)\n",
        "os.makedirs(IMAGES_PATH, exist_ok=True)\n",
        "\n",
        "def save_fig(fig_id, tight_layout=True, fig_extension=\"png\", resolution=300):\n",
        "    path = os.path.join(IMAGES_PATH, fig_id + \".\" + fig_extension)\n",
        "    print(\"Saving figure\", fig_id)\n",
        "    if tight_layout:\n",
        "        plt.tight_layout()\n",
        "    plt.savefig(path, format=fig_extension, dpi=resolution)\n",
        "\n"
      ],
      "id": "66f04f41",
      "execution_count": null,
      "outputs": []
    },
    {
      "cell_type": "markdown",
      "metadata": {
        "id": "506c4286"
      },
      "source": [
        "### Question 1\n",
        "Find out the principle index of US, Japan, Germany, UK, France, and Hong Kong SAR of China. For example,\n",
        "* US: SP500\n",
        "* Japan: ?\n",
        "* Germany: ?\n",
        "* UK: ?\n",
        "* France: ?\n",
        "* Hong Kong SAR of China: ?\n",
        "\n"
      ],
      "id": "506c4286"
    },
    {
      "cell_type": "code",
      "metadata": {
        "id": "f42a8572"
      },
      "source": [
        "# Japan: Nikkei 225\n",
        "# Germany: DAX\n",
        "# UK: FTSE 100\n",
        "# France: CAC 40\n",
        "# Hong Kong SAR of China: HK50\n"
      ],
      "id": "f42a8572",
      "execution_count": null,
      "outputs": []
    },
    {
      "cell_type": "markdown",
      "metadata": {
        "id": "a2c229d5"
      },
      "source": [
        "### Question 2\n",
        "- Import the indices' price datas as pandas Dataframe into your notebook, from the source dataset: https://www.kaggle.com/rohitktiwari04/top-10-stock-indices, name this data frame as \"all indices\".\n"
      ],
      "id": "a2c229d5"
    },
    {
      "cell_type": "code",
      "metadata": {
        "colab": {
          "resources": {
            "http://localhost:8080/nbextensions/google.colab/files.js": {
              "data": "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",
              "ok": true,
              "headers": [
                [
                  "content-type",
                  "application/javascript"
                ]
              ],
              "status": 200,
              "status_text": "OK"
            }
          },
          "base_uri": "https://localhost:8080/",
          "height": 434
        },
        "id": "QBoqttTVaTW2",
        "outputId": "b078199e-f49a-450b-a9dd-61582acc8c9b"
      },
      "source": [
        "from google.colab import files\n",
        "uploaded = files.upload()"
      ],
      "id": "QBoqttTVaTW2",
      "execution_count": null,
      "outputs": [
        {
          "output_type": "display_data",
          "data": {
            "text/html": [
              "\n",
              "     <input type=\"file\" id=\"files-d3f356d0-8222-4ed9-b1ec-6938f0a280ed\" name=\"files[]\" multiple disabled\n",
              "        style=\"border:none\" />\n",
              "     <output id=\"result-d3f356d0-8222-4ed9-b1ec-6938f0a280ed\">\n",
              "      Upload widget is only available when the cell has been executed in the\n",
              "      current browser session. Please rerun this cell to enable.\n",
              "      </output>\n",
              "      <script src=\"/nbextensions/google.colab/files.js\"></script> "
            ],
            "text/plain": [
              "<IPython.core.display.HTML object>"
            ]
          },
          "metadata": {}
        },
        {
          "output_type": "error",
          "ename": "MessageError",
          "evalue": "ignored",
          "traceback": [
            "\u001b[0;31m---------------------------------------------------------------------------\u001b[0m",
            "\u001b[0;31mMessageError\u001b[0m                              Traceback (most recent call last)",
            "\u001b[0;32m<ipython-input-9-21dc3c638f66>\u001b[0m in \u001b[0;36m<module>\u001b[0;34m()\u001b[0m\n\u001b[1;32m      1\u001b[0m \u001b[0;32mfrom\u001b[0m \u001b[0mgoogle\u001b[0m\u001b[0;34m.\u001b[0m\u001b[0mcolab\u001b[0m \u001b[0;32mimport\u001b[0m \u001b[0mfiles\u001b[0m\u001b[0;34m\u001b[0m\u001b[0;34m\u001b[0m\u001b[0m\n\u001b[0;32m----> 2\u001b[0;31m \u001b[0muploaded\u001b[0m \u001b[0;34m=\u001b[0m \u001b[0mfiles\u001b[0m\u001b[0;34m.\u001b[0m\u001b[0mupload\u001b[0m\u001b[0;34m(\u001b[0m\u001b[0;34m)\u001b[0m\u001b[0;34m\u001b[0m\u001b[0;34m\u001b[0m\u001b[0m\n\u001b[0m",
            "\u001b[0;32m/usr/local/lib/python3.7/dist-packages/google/colab/files.py\u001b[0m in \u001b[0;36mupload\u001b[0;34m()\u001b[0m\n\u001b[1;32m     70\u001b[0m     result = _output.eval_js(\n\u001b[1;32m     71\u001b[0m         'google.colab._files._uploadFilesContinue(\"{output_id}\")'.format(\n\u001b[0;32m---> 72\u001b[0;31m             output_id=output_id))\n\u001b[0m\u001b[1;32m     73\u001b[0m     \u001b[0;32mif\u001b[0m \u001b[0mresult\u001b[0m\u001b[0;34m[\u001b[0m\u001b[0;34m'action'\u001b[0m\u001b[0;34m]\u001b[0m \u001b[0;34m!=\u001b[0m \u001b[0;34m'append'\u001b[0m\u001b[0;34m:\u001b[0m\u001b[0;34m\u001b[0m\u001b[0;34m\u001b[0m\u001b[0m\n\u001b[1;32m     74\u001b[0m       \u001b[0;31m# JS side uses a generator of promises to process all of the files- some\u001b[0m\u001b[0;34m\u001b[0m\u001b[0;34m\u001b[0m\u001b[0;34m\u001b[0m\u001b[0m\n",
            "\u001b[0;32m/usr/local/lib/python3.7/dist-packages/google/colab/output/_js.py\u001b[0m in \u001b[0;36meval_js\u001b[0;34m(script, ignore_result, timeout_sec)\u001b[0m\n\u001b[1;32m     38\u001b[0m   \u001b[0;32mif\u001b[0m \u001b[0mignore_result\u001b[0m\u001b[0;34m:\u001b[0m\u001b[0;34m\u001b[0m\u001b[0;34m\u001b[0m\u001b[0m\n\u001b[1;32m     39\u001b[0m     \u001b[0;32mreturn\u001b[0m\u001b[0;34m\u001b[0m\u001b[0;34m\u001b[0m\u001b[0m\n\u001b[0;32m---> 40\u001b[0;31m   \u001b[0;32mreturn\u001b[0m \u001b[0m_message\u001b[0m\u001b[0;34m.\u001b[0m\u001b[0mread_reply_from_input\u001b[0m\u001b[0;34m(\u001b[0m\u001b[0mrequest_id\u001b[0m\u001b[0;34m,\u001b[0m \u001b[0mtimeout_sec\u001b[0m\u001b[0;34m)\u001b[0m\u001b[0;34m\u001b[0m\u001b[0;34m\u001b[0m\u001b[0m\n\u001b[0m\u001b[1;32m     41\u001b[0m \u001b[0;34m\u001b[0m\u001b[0m\n\u001b[1;32m     42\u001b[0m \u001b[0;34m\u001b[0m\u001b[0m\n",
            "\u001b[0;32m/usr/local/lib/python3.7/dist-packages/google/colab/_message.py\u001b[0m in \u001b[0;36mread_reply_from_input\u001b[0;34m(message_id, timeout_sec)\u001b[0m\n\u001b[1;32m    104\u001b[0m         reply.get('colab_msg_id') == message_id):\n\u001b[1;32m    105\u001b[0m       \u001b[0;32mif\u001b[0m \u001b[0;34m'error'\u001b[0m \u001b[0;32min\u001b[0m \u001b[0mreply\u001b[0m\u001b[0;34m:\u001b[0m\u001b[0;34m\u001b[0m\u001b[0;34m\u001b[0m\u001b[0m\n\u001b[0;32m--> 106\u001b[0;31m         \u001b[0;32mraise\u001b[0m \u001b[0mMessageError\u001b[0m\u001b[0;34m(\u001b[0m\u001b[0mreply\u001b[0m\u001b[0;34m[\u001b[0m\u001b[0;34m'error'\u001b[0m\u001b[0;34m]\u001b[0m\u001b[0;34m)\u001b[0m\u001b[0;34m\u001b[0m\u001b[0;34m\u001b[0m\u001b[0m\n\u001b[0m\u001b[1;32m    107\u001b[0m       \u001b[0;32mreturn\u001b[0m \u001b[0mreply\u001b[0m\u001b[0;34m.\u001b[0m\u001b[0mget\u001b[0m\u001b[0;34m(\u001b[0m\u001b[0;34m'data'\u001b[0m\u001b[0;34m,\u001b[0m \u001b[0;32mNone\u001b[0m\u001b[0;34m)\u001b[0m\u001b[0;34m\u001b[0m\u001b[0;34m\u001b[0m\u001b[0m\n\u001b[1;32m    108\u001b[0m \u001b[0;34m\u001b[0m\u001b[0m\n",
            "\u001b[0;31mMessageError\u001b[0m: RangeError: Maximum call stack size exceeded."
          ]
        }
      ]
    },
    {
      "cell_type": "code",
      "metadata": {
        "colab": {
          "base_uri": "https://localhost:8080/",
          "height": 483
        },
        "id": "d5f28cba",
        "outputId": "2a0a21ee-f6af-4a87-a25f-b4354cc543d0"
      },
      "source": [
        "import pandas as pd\n",
        "\n",
        "df = pd.concat(map(pd.read_csv, ['SSE.csv', 'Nikkei 225.csv', 'Nifty50.csv', 'Nasdaq.csv', 'Kospi.csv', 'Hang Seng.csv', 'FTSE.csv', 'Dow Jones.csv', 'DAX.csv', 'CAC.csv']), ignore_index=True)\n",
        "\n",
        "all_indices = pd.DataFrame(df)\n",
        "\n",
        "all_indices"
      ],
      "id": "d5f28cba",
      "execution_count": null,
      "outputs": [
        {
          "output_type": "error",
          "ename": "FileNotFoundError",
          "evalue": "ignored",
          "traceback": [
            "\u001b[0;31m---------------------------------------------------------------------------\u001b[0m",
            "\u001b[0;31mFileNotFoundError\u001b[0m                         Traceback (most recent call last)",
            "\u001b[0;32m<ipython-input-4-0dd27b5e39d6>\u001b[0m in \u001b[0;36m<module>\u001b[0;34m()\u001b[0m\n\u001b[1;32m      1\u001b[0m \u001b[0;32mimport\u001b[0m \u001b[0mpandas\u001b[0m \u001b[0;32mas\u001b[0m \u001b[0mpd\u001b[0m\u001b[0;34m\u001b[0m\u001b[0;34m\u001b[0m\u001b[0m\n\u001b[1;32m      2\u001b[0m \u001b[0;34m\u001b[0m\u001b[0m\n\u001b[0;32m----> 3\u001b[0;31m \u001b[0mdf\u001b[0m \u001b[0;34m=\u001b[0m \u001b[0mpd\u001b[0m\u001b[0;34m.\u001b[0m\u001b[0mconcat\u001b[0m\u001b[0;34m(\u001b[0m\u001b[0mmap\u001b[0m\u001b[0;34m(\u001b[0m\u001b[0mpd\u001b[0m\u001b[0;34m.\u001b[0m\u001b[0mread_csv\u001b[0m\u001b[0;34m,\u001b[0m \u001b[0;34m[\u001b[0m\u001b[0;34m'SSE.csv'\u001b[0m\u001b[0;34m,\u001b[0m \u001b[0;34m'Nikkei 225.csv'\u001b[0m\u001b[0;34m,\u001b[0m \u001b[0;34m'Nifty50.csv'\u001b[0m\u001b[0;34m,\u001b[0m \u001b[0;34m'Nasdaq.csv'\u001b[0m\u001b[0;34m,\u001b[0m \u001b[0;34m'Kospi.csv'\u001b[0m\u001b[0;34m,\u001b[0m \u001b[0;34m'Hang Seng.csv'\u001b[0m\u001b[0;34m,\u001b[0m \u001b[0;34m'FTSE.csv'\u001b[0m\u001b[0;34m,\u001b[0m \u001b[0;34m'Dow Jones.csv'\u001b[0m\u001b[0;34m,\u001b[0m \u001b[0;34m'DAX.csv'\u001b[0m\u001b[0;34m,\u001b[0m \u001b[0;34m'CAC.csv'\u001b[0m\u001b[0;34m]\u001b[0m\u001b[0;34m)\u001b[0m\u001b[0;34m,\u001b[0m \u001b[0mignore_index\u001b[0m\u001b[0;34m=\u001b[0m\u001b[0;32mTrue\u001b[0m\u001b[0;34m)\u001b[0m\u001b[0;34m\u001b[0m\u001b[0;34m\u001b[0m\u001b[0m\n\u001b[0m\u001b[1;32m      4\u001b[0m \u001b[0;34m\u001b[0m\u001b[0m\n\u001b[1;32m      5\u001b[0m \u001b[0mall_indices\u001b[0m \u001b[0;34m=\u001b[0m \u001b[0mpd\u001b[0m\u001b[0;34m.\u001b[0m\u001b[0mDataFrame\u001b[0m\u001b[0;34m(\u001b[0m\u001b[0mdf\u001b[0m\u001b[0;34m)\u001b[0m\u001b[0;34m\u001b[0m\u001b[0;34m\u001b[0m\u001b[0m\n",
            "\u001b[0;32m/usr/local/lib/python3.7/dist-packages/pandas/core/reshape/concat.py\u001b[0m in \u001b[0;36mconcat\u001b[0;34m(objs, axis, join, ignore_index, keys, levels, names, verify_integrity, sort, copy)\u001b[0m\n\u001b[1;32m    282\u001b[0m         \u001b[0mverify_integrity\u001b[0m\u001b[0;34m=\u001b[0m\u001b[0mverify_integrity\u001b[0m\u001b[0;34m,\u001b[0m\u001b[0;34m\u001b[0m\u001b[0;34m\u001b[0m\u001b[0m\n\u001b[1;32m    283\u001b[0m         \u001b[0mcopy\u001b[0m\u001b[0;34m=\u001b[0m\u001b[0mcopy\u001b[0m\u001b[0;34m,\u001b[0m\u001b[0;34m\u001b[0m\u001b[0;34m\u001b[0m\u001b[0m\n\u001b[0;32m--> 284\u001b[0;31m         \u001b[0msort\u001b[0m\u001b[0;34m=\u001b[0m\u001b[0msort\u001b[0m\u001b[0;34m,\u001b[0m\u001b[0;34m\u001b[0m\u001b[0;34m\u001b[0m\u001b[0m\n\u001b[0m\u001b[1;32m    285\u001b[0m     )\n\u001b[1;32m    286\u001b[0m \u001b[0;34m\u001b[0m\u001b[0m\n",
            "\u001b[0;32m/usr/local/lib/python3.7/dist-packages/pandas/core/reshape/concat.py\u001b[0m in \u001b[0;36m__init__\u001b[0;34m(self, objs, axis, join, keys, levels, names, ignore_index, verify_integrity, copy, sort)\u001b[0m\n\u001b[1;32m    326\u001b[0m             \u001b[0mobjs\u001b[0m \u001b[0;34m=\u001b[0m \u001b[0;34m[\u001b[0m\u001b[0mobjs\u001b[0m\u001b[0;34m[\u001b[0m\u001b[0mk\u001b[0m\u001b[0;34m]\u001b[0m \u001b[0;32mfor\u001b[0m \u001b[0mk\u001b[0m \u001b[0;32min\u001b[0m \u001b[0mkeys\u001b[0m\u001b[0;34m]\u001b[0m\u001b[0;34m\u001b[0m\u001b[0;34m\u001b[0m\u001b[0m\n\u001b[1;32m    327\u001b[0m         \u001b[0;32melse\u001b[0m\u001b[0;34m:\u001b[0m\u001b[0;34m\u001b[0m\u001b[0;34m\u001b[0m\u001b[0m\n\u001b[0;32m--> 328\u001b[0;31m             \u001b[0mobjs\u001b[0m \u001b[0;34m=\u001b[0m \u001b[0mlist\u001b[0m\u001b[0;34m(\u001b[0m\u001b[0mobjs\u001b[0m\u001b[0;34m)\u001b[0m\u001b[0;34m\u001b[0m\u001b[0;34m\u001b[0m\u001b[0m\n\u001b[0m\u001b[1;32m    329\u001b[0m \u001b[0;34m\u001b[0m\u001b[0m\n\u001b[1;32m    330\u001b[0m         \u001b[0;32mif\u001b[0m \u001b[0mlen\u001b[0m\u001b[0;34m(\u001b[0m\u001b[0mobjs\u001b[0m\u001b[0;34m)\u001b[0m \u001b[0;34m==\u001b[0m \u001b[0;36m0\u001b[0m\u001b[0;34m:\u001b[0m\u001b[0;34m\u001b[0m\u001b[0;34m\u001b[0m\u001b[0m\n",
            "\u001b[0;32m/usr/local/lib/python3.7/dist-packages/pandas/io/parsers.py\u001b[0m in \u001b[0;36mread_csv\u001b[0;34m(filepath_or_buffer, sep, delimiter, header, names, index_col, usecols, squeeze, prefix, mangle_dupe_cols, dtype, engine, converters, true_values, false_values, skipinitialspace, skiprows, skipfooter, nrows, na_values, keep_default_na, na_filter, verbose, skip_blank_lines, parse_dates, infer_datetime_format, keep_date_col, date_parser, dayfirst, cache_dates, iterator, chunksize, compression, thousands, decimal, lineterminator, quotechar, quoting, doublequote, escapechar, comment, encoding, dialect, error_bad_lines, warn_bad_lines, delim_whitespace, low_memory, memory_map, float_precision)\u001b[0m\n\u001b[1;32m    686\u001b[0m     )\n\u001b[1;32m    687\u001b[0m \u001b[0;34m\u001b[0m\u001b[0m\n\u001b[0;32m--> 688\u001b[0;31m     \u001b[0;32mreturn\u001b[0m \u001b[0m_read\u001b[0m\u001b[0;34m(\u001b[0m\u001b[0mfilepath_or_buffer\u001b[0m\u001b[0;34m,\u001b[0m \u001b[0mkwds\u001b[0m\u001b[0;34m)\u001b[0m\u001b[0;34m\u001b[0m\u001b[0;34m\u001b[0m\u001b[0m\n\u001b[0m\u001b[1;32m    689\u001b[0m \u001b[0;34m\u001b[0m\u001b[0m\n\u001b[1;32m    690\u001b[0m \u001b[0;34m\u001b[0m\u001b[0m\n",
            "\u001b[0;32m/usr/local/lib/python3.7/dist-packages/pandas/io/parsers.py\u001b[0m in \u001b[0;36m_read\u001b[0;34m(filepath_or_buffer, kwds)\u001b[0m\n\u001b[1;32m    452\u001b[0m \u001b[0;34m\u001b[0m\u001b[0m\n\u001b[1;32m    453\u001b[0m     \u001b[0;31m# Create the parser.\u001b[0m\u001b[0;34m\u001b[0m\u001b[0;34m\u001b[0m\u001b[0;34m\u001b[0m\u001b[0m\n\u001b[0;32m--> 454\u001b[0;31m     \u001b[0mparser\u001b[0m \u001b[0;34m=\u001b[0m \u001b[0mTextFileReader\u001b[0m\u001b[0;34m(\u001b[0m\u001b[0mfp_or_buf\u001b[0m\u001b[0;34m,\u001b[0m \u001b[0;34m**\u001b[0m\u001b[0mkwds\u001b[0m\u001b[0;34m)\u001b[0m\u001b[0;34m\u001b[0m\u001b[0;34m\u001b[0m\u001b[0m\n\u001b[0m\u001b[1;32m    455\u001b[0m \u001b[0;34m\u001b[0m\u001b[0m\n\u001b[1;32m    456\u001b[0m     \u001b[0;32mif\u001b[0m \u001b[0mchunksize\u001b[0m \u001b[0;32mor\u001b[0m \u001b[0miterator\u001b[0m\u001b[0;34m:\u001b[0m\u001b[0;34m\u001b[0m\u001b[0;34m\u001b[0m\u001b[0m\n",
            "\u001b[0;32m/usr/local/lib/python3.7/dist-packages/pandas/io/parsers.py\u001b[0m in \u001b[0;36m__init__\u001b[0;34m(self, f, engine, **kwds)\u001b[0m\n\u001b[1;32m    946\u001b[0m             \u001b[0mself\u001b[0m\u001b[0;34m.\u001b[0m\u001b[0moptions\u001b[0m\u001b[0;34m[\u001b[0m\u001b[0;34m\"has_index_names\"\u001b[0m\u001b[0;34m]\u001b[0m \u001b[0;34m=\u001b[0m \u001b[0mkwds\u001b[0m\u001b[0;34m[\u001b[0m\u001b[0;34m\"has_index_names\"\u001b[0m\u001b[0;34m]\u001b[0m\u001b[0;34m\u001b[0m\u001b[0;34m\u001b[0m\u001b[0m\n\u001b[1;32m    947\u001b[0m \u001b[0;34m\u001b[0m\u001b[0m\n\u001b[0;32m--> 948\u001b[0;31m         \u001b[0mself\u001b[0m\u001b[0;34m.\u001b[0m\u001b[0m_make_engine\u001b[0m\u001b[0;34m(\u001b[0m\u001b[0mself\u001b[0m\u001b[0;34m.\u001b[0m\u001b[0mengine\u001b[0m\u001b[0;34m)\u001b[0m\u001b[0;34m\u001b[0m\u001b[0;34m\u001b[0m\u001b[0m\n\u001b[0m\u001b[1;32m    949\u001b[0m \u001b[0;34m\u001b[0m\u001b[0m\n\u001b[1;32m    950\u001b[0m     \u001b[0;32mdef\u001b[0m \u001b[0mclose\u001b[0m\u001b[0;34m(\u001b[0m\u001b[0mself\u001b[0m\u001b[0;34m)\u001b[0m\u001b[0;34m:\u001b[0m\u001b[0;34m\u001b[0m\u001b[0;34m\u001b[0m\u001b[0m\n",
            "\u001b[0;32m/usr/local/lib/python3.7/dist-packages/pandas/io/parsers.py\u001b[0m in \u001b[0;36m_make_engine\u001b[0;34m(self, engine)\u001b[0m\n\u001b[1;32m   1178\u001b[0m     \u001b[0;32mdef\u001b[0m \u001b[0m_make_engine\u001b[0m\u001b[0;34m(\u001b[0m\u001b[0mself\u001b[0m\u001b[0;34m,\u001b[0m \u001b[0mengine\u001b[0m\u001b[0;34m=\u001b[0m\u001b[0;34m\"c\"\u001b[0m\u001b[0;34m)\u001b[0m\u001b[0;34m:\u001b[0m\u001b[0;34m\u001b[0m\u001b[0;34m\u001b[0m\u001b[0m\n\u001b[1;32m   1179\u001b[0m         \u001b[0;32mif\u001b[0m \u001b[0mengine\u001b[0m \u001b[0;34m==\u001b[0m \u001b[0;34m\"c\"\u001b[0m\u001b[0;34m:\u001b[0m\u001b[0;34m\u001b[0m\u001b[0;34m\u001b[0m\u001b[0m\n\u001b[0;32m-> 1180\u001b[0;31m             \u001b[0mself\u001b[0m\u001b[0;34m.\u001b[0m\u001b[0m_engine\u001b[0m \u001b[0;34m=\u001b[0m \u001b[0mCParserWrapper\u001b[0m\u001b[0;34m(\u001b[0m\u001b[0mself\u001b[0m\u001b[0;34m.\u001b[0m\u001b[0mf\u001b[0m\u001b[0;34m,\u001b[0m \u001b[0;34m**\u001b[0m\u001b[0mself\u001b[0m\u001b[0;34m.\u001b[0m\u001b[0moptions\u001b[0m\u001b[0;34m)\u001b[0m\u001b[0;34m\u001b[0m\u001b[0;34m\u001b[0m\u001b[0m\n\u001b[0m\u001b[1;32m   1181\u001b[0m         \u001b[0;32melse\u001b[0m\u001b[0;34m:\u001b[0m\u001b[0;34m\u001b[0m\u001b[0;34m\u001b[0m\u001b[0m\n\u001b[1;32m   1182\u001b[0m             \u001b[0;32mif\u001b[0m \u001b[0mengine\u001b[0m \u001b[0;34m==\u001b[0m \u001b[0;34m\"python\"\u001b[0m\u001b[0;34m:\u001b[0m\u001b[0;34m\u001b[0m\u001b[0;34m\u001b[0m\u001b[0m\n",
            "\u001b[0;32m/usr/local/lib/python3.7/dist-packages/pandas/io/parsers.py\u001b[0m in \u001b[0;36m__init__\u001b[0;34m(self, src, **kwds)\u001b[0m\n\u001b[1;32m   2008\u001b[0m         \u001b[0mkwds\u001b[0m\u001b[0;34m[\u001b[0m\u001b[0;34m\"usecols\"\u001b[0m\u001b[0;34m]\u001b[0m \u001b[0;34m=\u001b[0m \u001b[0mself\u001b[0m\u001b[0;34m.\u001b[0m\u001b[0musecols\u001b[0m\u001b[0;34m\u001b[0m\u001b[0;34m\u001b[0m\u001b[0m\n\u001b[1;32m   2009\u001b[0m \u001b[0;34m\u001b[0m\u001b[0m\n\u001b[0;32m-> 2010\u001b[0;31m         \u001b[0mself\u001b[0m\u001b[0;34m.\u001b[0m\u001b[0m_reader\u001b[0m \u001b[0;34m=\u001b[0m \u001b[0mparsers\u001b[0m\u001b[0;34m.\u001b[0m\u001b[0mTextReader\u001b[0m\u001b[0;34m(\u001b[0m\u001b[0msrc\u001b[0m\u001b[0;34m,\u001b[0m \u001b[0;34m**\u001b[0m\u001b[0mkwds\u001b[0m\u001b[0;34m)\u001b[0m\u001b[0;34m\u001b[0m\u001b[0;34m\u001b[0m\u001b[0m\n\u001b[0m\u001b[1;32m   2011\u001b[0m         \u001b[0mself\u001b[0m\u001b[0;34m.\u001b[0m\u001b[0munnamed_cols\u001b[0m \u001b[0;34m=\u001b[0m \u001b[0mself\u001b[0m\u001b[0;34m.\u001b[0m\u001b[0m_reader\u001b[0m\u001b[0;34m.\u001b[0m\u001b[0munnamed_cols\u001b[0m\u001b[0;34m\u001b[0m\u001b[0;34m\u001b[0m\u001b[0m\n\u001b[1;32m   2012\u001b[0m \u001b[0;34m\u001b[0m\u001b[0m\n",
            "\u001b[0;32mpandas/_libs/parsers.pyx\u001b[0m in \u001b[0;36mpandas._libs.parsers.TextReader.__cinit__\u001b[0;34m()\u001b[0m\n",
            "\u001b[0;32mpandas/_libs/parsers.pyx\u001b[0m in \u001b[0;36mpandas._libs.parsers.TextReader._setup_parser_source\u001b[0;34m()\u001b[0m\n",
            "\u001b[0;31mFileNotFoundError\u001b[0m: [Errno 2] No such file or directory: 'SSE.csv'"
          ]
        }
      ]
    },
    {
      "cell_type": "code",
      "metadata": {
        "id": "1275ee32",
        "outputId": "53bb6d2f-af05-404f-bcf1-8a211ca8a429"
      },
      "source": [
        "import os\n",
        "import numpy as np\n",
        "import pandas as pd\n",
        "\n",
        "missing_col =['Open',\"High\",\"Low\",\"Close\",\"Adj Close\", \"Volume\", \"Open\", \"High\",\"Low\",\"Close\"]\n",
        "\n",
        "for i in missing_col:\n",
        "    all_indices.loc[all_indices.loc[:,i].isnull(),i] = all_indices.loc[:,i].mean()\n",
        "\n",
        "all_indices.dropna(axis='columns',how='any',thresh=None,subset=None, inplace=False)\n",
        "all_indices.isnull().sum()\n"
      ],
      "id": "1275ee32",
      "execution_count": null,
      "outputs": [
        {
          "data": {
            "text/plain": [
              "Date             0\n",
              "Open             0\n",
              "High             0\n",
              "Low              0\n",
              "Close            0\n",
              "Adj Close        0\n",
              "Volume           0\n",
              " Open        30510\n",
              " High        30510\n",
              " Low         30510\n",
              " Close       30510\n",
              "dtype: int64"
            ]
          },
          "execution_count": 156,
          "metadata": {},
          "output_type": "execute_result"
        }
      ]
    },
    {
      "cell_type": "markdown",
      "metadata": {
        "id": "1ab85c37"
      },
      "source": [
        "### Question 3\n",
        "- Extract the data for the above indices. For each day n, associate the logdiff, i.e., log P_{n}- log P_{n-1}, which can be seen as the increments. Here P_{n} is the price of day n.\n"
      ],
      "id": "1ab85c37"
    },
    {
      "cell_type": "code",
      "metadata": {
        "id": "f872cdb7",
        "outputId": "e9e66f1a-4645-4c70-b371-753c68d41bc8"
      },
      "source": [
        "all_indices\n",
        "cols = [0,4]\n",
        "bob = all_indices[all_indices.columns[cols]]\n",
        "bob"
      ],
      "id": "f872cdb7",
      "execution_count": null,
      "outputs": [
        {
          "data": {
            "text/html": [
              "<div>\n",
              "<style scoped>\n",
              "    .dataframe tbody tr th:only-of-type {\n",
              "        vertical-align: middle;\n",
              "    }\n",
              "\n",
              "    .dataframe tbody tr th {\n",
              "        vertical-align: top;\n",
              "    }\n",
              "\n",
              "    .dataframe thead th {\n",
              "        text-align: right;\n",
              "    }\n",
              "</style>\n",
              "<table border=\"1\" class=\"dataframe\">\n",
              "  <thead>\n",
              "    <tr style=\"text-align: right;\">\n",
              "      <th></th>\n",
              "      <th>Date</th>\n",
              "      <th>Close</th>\n",
              "    </tr>\n",
              "  </thead>\n",
              "  <tbody>\n",
              "    <tr>\n",
              "      <th>0</th>\n",
              "      <td>2007-01-04</td>\n",
              "      <td>2715.718994</td>\n",
              "    </tr>\n",
              "    <tr>\n",
              "      <th>1</th>\n",
              "      <td>2007-01-05</td>\n",
              "      <td>2641.333984</td>\n",
              "    </tr>\n",
              "    <tr>\n",
              "      <th>2</th>\n",
              "      <td>2007-01-08</td>\n",
              "      <td>2707.198975</td>\n",
              "    </tr>\n",
              "    <tr>\n",
              "      <th>3</th>\n",
              "      <td>2007-01-09</td>\n",
              "      <td>2807.803955</td>\n",
              "    </tr>\n",
              "    <tr>\n",
              "      <th>4</th>\n",
              "      <td>2007-01-10</td>\n",
              "      <td>2825.575928</td>\n",
              "    </tr>\n",
              "    <tr>\n",
              "      <th>...</th>\n",
              "      <td>...</td>\n",
              "      <td>...</td>\n",
              "    </tr>\n",
              "    <tr>\n",
              "      <th>34157</th>\n",
              "      <td>2021-06-25</td>\n",
              "      <td>6622.870117</td>\n",
              "    </tr>\n",
              "    <tr>\n",
              "      <th>34158</th>\n",
              "      <td>2021-06-28</td>\n",
              "      <td>6558.020020</td>\n",
              "    </tr>\n",
              "    <tr>\n",
              "      <th>34159</th>\n",
              "      <td>2021-06-29</td>\n",
              "      <td>6567.430176</td>\n",
              "    </tr>\n",
              "    <tr>\n",
              "      <th>34160</th>\n",
              "      <td>2021-06-30</td>\n",
              "      <td>6507.830078</td>\n",
              "    </tr>\n",
              "    <tr>\n",
              "      <th>34161</th>\n",
              "      <td>2021-07-01</td>\n",
              "      <td>6553.819824</td>\n",
              "    </tr>\n",
              "  </tbody>\n",
              "</table>\n",
              "<p>34162 rows × 2 columns</p>\n",
              "</div>"
            ],
            "text/plain": [
              "             Date        Close\n",
              "0      2007-01-04  2715.718994\n",
              "1      2007-01-05  2641.333984\n",
              "2      2007-01-08  2707.198975\n",
              "3      2007-01-09  2807.803955\n",
              "4      2007-01-10  2825.575928\n",
              "...           ...          ...\n",
              "34157  2021-06-25  6622.870117\n",
              "34158  2021-06-28  6558.020020\n",
              "34159  2021-06-29  6567.430176\n",
              "34160  2021-06-30  6507.830078\n",
              "34161  2021-07-01  6553.819824\n",
              "\n",
              "[34162 rows x 2 columns]"
            ]
          },
          "execution_count": 157,
          "metadata": {},
          "output_type": "execute_result"
        }
      ]
    },
    {
      "cell_type": "code",
      "metadata": {
        "id": "aac6c648",
        "outputId": "157aabf0-2d6e-4077-d1b7-4e8b093e773c"
      },
      "source": [
        "import math\n",
        "\n",
        "logdiff = [0]*bob.shape[0]\n",
        "for i in range(1,bob.shape[0] ): #skip the first day\n",
        "    logdiff[i] = math.log(bob.loc[i,'Close']) - math.log(bob.loc[i-1,'Close'])\n",
        "\n",
        "bob.insert(2,\"LogDiff\",logdiff, True)\n",
        "bob"
      ],
      "id": "aac6c648",
      "execution_count": null,
      "outputs": [
        {
          "data": {
            "text/html": [
              "<div>\n",
              "<style scoped>\n",
              "    .dataframe tbody tr th:only-of-type {\n",
              "        vertical-align: middle;\n",
              "    }\n",
              "\n",
              "    .dataframe tbody tr th {\n",
              "        vertical-align: top;\n",
              "    }\n",
              "\n",
              "    .dataframe thead th {\n",
              "        text-align: right;\n",
              "    }\n",
              "</style>\n",
              "<table border=\"1\" class=\"dataframe\">\n",
              "  <thead>\n",
              "    <tr style=\"text-align: right;\">\n",
              "      <th></th>\n",
              "      <th>Date</th>\n",
              "      <th>Close</th>\n",
              "      <th>LogDiff</th>\n",
              "    </tr>\n",
              "  </thead>\n",
              "  <tbody>\n",
              "    <tr>\n",
              "      <th>0</th>\n",
              "      <td>2007-01-04</td>\n",
              "      <td>2715.718994</td>\n",
              "      <td>0.000000</td>\n",
              "    </tr>\n",
              "    <tr>\n",
              "      <th>1</th>\n",
              "      <td>2007-01-05</td>\n",
              "      <td>2641.333984</td>\n",
              "      <td>-0.027773</td>\n",
              "    </tr>\n",
              "    <tr>\n",
              "      <th>2</th>\n",
              "      <td>2007-01-08</td>\n",
              "      <td>2707.198975</td>\n",
              "      <td>0.024630</td>\n",
              "    </tr>\n",
              "    <tr>\n",
              "      <th>3</th>\n",
              "      <td>2007-01-09</td>\n",
              "      <td>2807.803955</td>\n",
              "      <td>0.036488</td>\n",
              "    </tr>\n",
              "    <tr>\n",
              "      <th>4</th>\n",
              "      <td>2007-01-10</td>\n",
              "      <td>2825.575928</td>\n",
              "      <td>0.006310</td>\n",
              "    </tr>\n",
              "    <tr>\n",
              "      <th>...</th>\n",
              "      <td>...</td>\n",
              "      <td>...</td>\n",
              "      <td>...</td>\n",
              "    </tr>\n",
              "    <tr>\n",
              "      <th>34157</th>\n",
              "      <td>2021-06-25</td>\n",
              "      <td>6622.870117</td>\n",
              "      <td>-0.001249</td>\n",
              "    </tr>\n",
              "    <tr>\n",
              "      <th>34158</th>\n",
              "      <td>2021-06-28</td>\n",
              "      <td>6558.020020</td>\n",
              "      <td>-0.009840</td>\n",
              "    </tr>\n",
              "    <tr>\n",
              "      <th>34159</th>\n",
              "      <td>2021-06-29</td>\n",
              "      <td>6567.430176</td>\n",
              "      <td>0.001434</td>\n",
              "    </tr>\n",
              "    <tr>\n",
              "      <th>34160</th>\n",
              "      <td>2021-06-30</td>\n",
              "      <td>6507.830078</td>\n",
              "      <td>-0.009117</td>\n",
              "    </tr>\n",
              "    <tr>\n",
              "      <th>34161</th>\n",
              "      <td>2021-07-01</td>\n",
              "      <td>6553.819824</td>\n",
              "      <td>0.007042</td>\n",
              "    </tr>\n",
              "  </tbody>\n",
              "</table>\n",
              "<p>34162 rows × 3 columns</p>\n",
              "</div>"
            ],
            "text/plain": [
              "             Date        Close   LogDiff\n",
              "0      2007-01-04  2715.718994  0.000000\n",
              "1      2007-01-05  2641.333984 -0.027773\n",
              "2      2007-01-08  2707.198975  0.024630\n",
              "3      2007-01-09  2807.803955  0.036488\n",
              "4      2007-01-10  2825.575928  0.006310\n",
              "...           ...          ...       ...\n",
              "34157  2021-06-25  6622.870117 -0.001249\n",
              "34158  2021-06-28  6558.020020 -0.009840\n",
              "34159  2021-06-29  6567.430176  0.001434\n",
              "34160  2021-06-30  6507.830078 -0.009117\n",
              "34161  2021-07-01  6553.819824  0.007042\n",
              "\n",
              "[34162 rows x 3 columns]"
            ]
          },
          "execution_count": 158,
          "metadata": {},
          "output_type": "execute_result"
        }
      ]
    },
    {
      "cell_type": "markdown",
      "metadata": {
        "id": "7f00aa46"
      },
      "source": [
        "### Question 4\n",
        "- Take the logdiff of US as the output value, and logdiffs of other 5 indices as input. Do some EDA."
      ],
      "id": "7f00aa46"
    },
    {
      "cell_type": "code",
      "metadata": {
        "id": "78d897d8"
      },
      "source": [
        "nasdaq = pd.read_csv('Nasdaq.csv')#SP500 data not found on the website, using nasdaq as the main principle instead\n",
        "#dowj = pd.read_csv('Dow Jones.csv')\n",
        "nikkei225 = pd.read_csv('Nikkei 225.csv')\n",
        "dax = pd.read_csv('DAX.csv')\n",
        "ftse = pd.read_csv('FTSE.csv')\n",
        "cac = pd.read_csv('CAC.csv')\n",
        "hs = pd.read_csv('Hang Seng.csv')"
      ],
      "id": "78d897d8",
      "execution_count": null,
      "outputs": []
    },
    {
      "cell_type": "code",
      "metadata": {
        "id": "47ccc626",
        "outputId": "0df0a7c6-94f0-4321-faae-e526810feff2"
      },
      "source": [
        "nasdaq.head()"
      ],
      "id": "47ccc626",
      "execution_count": null,
      "outputs": [
        {
          "data": {
            "text/html": [
              "<div>\n",
              "<style scoped>\n",
              "    .dataframe tbody tr th:only-of-type {\n",
              "        vertical-align: middle;\n",
              "    }\n",
              "\n",
              "    .dataframe tbody tr th {\n",
              "        vertical-align: top;\n",
              "    }\n",
              "\n",
              "    .dataframe thead th {\n",
              "        text-align: right;\n",
              "    }\n",
              "</style>\n",
              "<table border=\"1\" class=\"dataframe\">\n",
              "  <thead>\n",
              "    <tr style=\"text-align: right;\">\n",
              "      <th></th>\n",
              "      <th>Date</th>\n",
              "      <th>Open</th>\n",
              "      <th>High</th>\n",
              "      <th>Low</th>\n",
              "      <th>Close</th>\n",
              "      <th>Adj Close</th>\n",
              "      <th>Volume</th>\n",
              "    </tr>\n",
              "  </thead>\n",
              "  <tbody>\n",
              "    <tr>\n",
              "      <th>0</th>\n",
              "      <td>2001-01-02</td>\n",
              "      <td>2474.159912</td>\n",
              "      <td>2474.159912</td>\n",
              "      <td>2273.070068</td>\n",
              "      <td>2291.860107</td>\n",
              "      <td>2291.860107</td>\n",
              "      <td>1918930000</td>\n",
              "    </tr>\n",
              "    <tr>\n",
              "      <th>1</th>\n",
              "      <td>2001-01-03</td>\n",
              "      <td>2254.560059</td>\n",
              "      <td>2618.030029</td>\n",
              "      <td>2251.709961</td>\n",
              "      <td>2616.689941</td>\n",
              "      <td>2616.689941</td>\n",
              "      <td>3188000000</td>\n",
              "    </tr>\n",
              "    <tr>\n",
              "      <th>2</th>\n",
              "      <td>2001-01-04</td>\n",
              "      <td>2593.959961</td>\n",
              "      <td>2644.800049</td>\n",
              "      <td>2549.830078</td>\n",
              "      <td>2566.830078</td>\n",
              "      <td>2566.830078</td>\n",
              "      <td>2610680000</td>\n",
              "    </tr>\n",
              "    <tr>\n",
              "      <th>3</th>\n",
              "      <td>2001-01-05</td>\n",
              "      <td>2573.110107</td>\n",
              "      <td>2574.620117</td>\n",
              "      <td>2395.389893</td>\n",
              "      <td>2407.649902</td>\n",
              "      <td>2407.649902</td>\n",
              "      <td>2104670000</td>\n",
              "    </tr>\n",
              "    <tr>\n",
              "      <th>4</th>\n",
              "      <td>2001-01-08</td>\n",
              "      <td>2388.719971</td>\n",
              "      <td>2397.060059</td>\n",
              "      <td>2299.649902</td>\n",
              "      <td>2395.919922</td>\n",
              "      <td>2395.919922</td>\n",
              "      <td>1850590000</td>\n",
              "    </tr>\n",
              "  </tbody>\n",
              "</table>\n",
              "</div>"
            ],
            "text/plain": [
              "         Date         Open         High          Low        Close  \\\n",
              "0  2001-01-02  2474.159912  2474.159912  2273.070068  2291.860107   \n",
              "1  2001-01-03  2254.560059  2618.030029  2251.709961  2616.689941   \n",
              "2  2001-01-04  2593.959961  2644.800049  2549.830078  2566.830078   \n",
              "3  2001-01-05  2573.110107  2574.620117  2395.389893  2407.649902   \n",
              "4  2001-01-08  2388.719971  2397.060059  2299.649902  2395.919922   \n",
              "\n",
              "     Adj Close      Volume  \n",
              "0  2291.860107  1918930000  \n",
              "1  2616.689941  3188000000  \n",
              "2  2566.830078  2610680000  \n",
              "3  2407.649902  2104670000  \n",
              "4  2395.919922  1850590000  "
            ]
          },
          "execution_count": 183,
          "metadata": {},
          "output_type": "execute_result"
        }
      ]
    },
    {
      "cell_type": "code",
      "metadata": {
        "id": "8eed36a2",
        "outputId": "06cb0081-6921-4cb0-b546-6b2b82c3dc42"
      },
      "source": [
        "nikkei225.head()"
      ],
      "id": "8eed36a2",
      "execution_count": null,
      "outputs": [
        {
          "data": {
            "text/html": [
              "<div>\n",
              "<style scoped>\n",
              "    .dataframe tbody tr th:only-of-type {\n",
              "        vertical-align: middle;\n",
              "    }\n",
              "\n",
              "    .dataframe tbody tr th {\n",
              "        vertical-align: top;\n",
              "    }\n",
              "\n",
              "    .dataframe thead th {\n",
              "        text-align: right;\n",
              "    }\n",
              "</style>\n",
              "<table border=\"1\" class=\"dataframe\">\n",
              "  <thead>\n",
              "    <tr style=\"text-align: right;\">\n",
              "      <th></th>\n",
              "      <th>Date</th>\n",
              "      <th>Close</th>\n",
              "      <th>Adj Close</th>\n",
              "      <th>Volume</th>\n",
              "    </tr>\n",
              "  </thead>\n",
              "  <tbody>\n",
              "    <tr>\n",
              "      <th>0</th>\n",
              "      <td>2007-01-04</td>\n",
              "      <td>17353.669922</td>\n",
              "      <td>17353.669922</td>\n",
              "      <td>80100000.0</td>\n",
              "    </tr>\n",
              "    <tr>\n",
              "      <th>1</th>\n",
              "      <td>2007-01-05</td>\n",
              "      <td>17091.589844</td>\n",
              "      <td>17091.589844</td>\n",
              "      <td>158600000.0</td>\n",
              "    </tr>\n",
              "    <tr>\n",
              "      <th>2</th>\n",
              "      <td>2007-01-09</td>\n",
              "      <td>17237.769531</td>\n",
              "      <td>17237.769531</td>\n",
              "      <td>142400000.0</td>\n",
              "    </tr>\n",
              "    <tr>\n",
              "      <th>3</th>\n",
              "      <td>2007-01-10</td>\n",
              "      <td>16942.400391</td>\n",
              "      <td>16942.400391</td>\n",
              "      <td>133500000.0</td>\n",
              "    </tr>\n",
              "    <tr>\n",
              "      <th>4</th>\n",
              "      <td>2007-01-11</td>\n",
              "      <td>16838.169922</td>\n",
              "      <td>16838.169922</td>\n",
              "      <td>121900000.0</td>\n",
              "    </tr>\n",
              "  </tbody>\n",
              "</table>\n",
              "</div>"
            ],
            "text/plain": [
              "         Date         Close     Adj Close       Volume\n",
              "0  2007-01-04  17353.669922  17353.669922   80100000.0\n",
              "1  2007-01-05  17091.589844  17091.589844  158600000.0\n",
              "2  2007-01-09  17237.769531  17237.769531  142400000.0\n",
              "3  2007-01-10  16942.400391  16942.400391  133500000.0\n",
              "4  2007-01-11  16838.169922  16838.169922  121900000.0"
            ]
          },
          "execution_count": 184,
          "metadata": {},
          "output_type": "execute_result"
        }
      ]
    },
    {
      "cell_type": "code",
      "metadata": {
        "id": "0c5198cd",
        "outputId": "45538384-89a3-4f15-8d0f-cab153ab618a"
      },
      "source": [
        "dax.head()"
      ],
      "id": "0c5198cd",
      "execution_count": null,
      "outputs": [
        {
          "data": {
            "text/html": [
              "<div>\n",
              "<style scoped>\n",
              "    .dataframe tbody tr th:only-of-type {\n",
              "        vertical-align: middle;\n",
              "    }\n",
              "\n",
              "    .dataframe tbody tr th {\n",
              "        vertical-align: top;\n",
              "    }\n",
              "\n",
              "    .dataframe thead th {\n",
              "        text-align: right;\n",
              "    }\n",
              "</style>\n",
              "<table border=\"1\" class=\"dataframe\">\n",
              "  <thead>\n",
              "    <tr style=\"text-align: right;\">\n",
              "      <th></th>\n",
              "      <th>Date</th>\n",
              "      <th>Close</th>\n",
              "      <th>Adj Close</th>\n",
              "      <th>Volume</th>\n",
              "    </tr>\n",
              "  </thead>\n",
              "  <tbody>\n",
              "    <tr>\n",
              "      <th>0</th>\n",
              "      <td>2007-01-02</td>\n",
              "      <td>6681.129883</td>\n",
              "      <td>6681.129883</td>\n",
              "      <td>70947800.0</td>\n",
              "    </tr>\n",
              "    <tr>\n",
              "      <th>1</th>\n",
              "      <td>2007-01-03</td>\n",
              "      <td>6691.319824</td>\n",
              "      <td>6691.319824</td>\n",
              "      <td>105913800.0</td>\n",
              "    </tr>\n",
              "    <tr>\n",
              "      <th>2</th>\n",
              "      <td>2007-01-04</td>\n",
              "      <td>6674.399902</td>\n",
              "      <td>6674.399902</td>\n",
              "      <td>143461600.0</td>\n",
              "    </tr>\n",
              "    <tr>\n",
              "      <th>3</th>\n",
              "      <td>2007-01-05</td>\n",
              "      <td>6593.089844</td>\n",
              "      <td>6593.089844</td>\n",
              "      <td>142562500.0</td>\n",
              "    </tr>\n",
              "    <tr>\n",
              "      <th>4</th>\n",
              "      <td>2007-01-08</td>\n",
              "      <td>6607.589844</td>\n",
              "      <td>6607.589844</td>\n",
              "      <td>116670200.0</td>\n",
              "    </tr>\n",
              "  </tbody>\n",
              "</table>\n",
              "</div>"
            ],
            "text/plain": [
              "         Date        Close    Adj Close       Volume\n",
              "0  2007-01-02  6681.129883  6681.129883   70947800.0\n",
              "1  2007-01-03  6691.319824  6691.319824  105913800.0\n",
              "2  2007-01-04  6674.399902  6674.399902  143461600.0\n",
              "3  2007-01-05  6593.089844  6593.089844  142562500.0\n",
              "4  2007-01-08  6607.589844  6607.589844  116670200.0"
            ]
          },
          "execution_count": 185,
          "metadata": {},
          "output_type": "execute_result"
        }
      ]
    },
    {
      "cell_type": "code",
      "metadata": {
        "id": "32c6dd18",
        "outputId": "c0ea6237-5618-4019-bf41-9974faf748de"
      },
      "source": [
        "ftse.head()"
      ],
      "id": "32c6dd18",
      "execution_count": null,
      "outputs": [
        {
          "data": {
            "text/html": [
              "<div>\n",
              "<style scoped>\n",
              "    .dataframe tbody tr th:only-of-type {\n",
              "        vertical-align: middle;\n",
              "    }\n",
              "\n",
              "    .dataframe tbody tr th {\n",
              "        vertical-align: top;\n",
              "    }\n",
              "\n",
              "    .dataframe thead th {\n",
              "        text-align: right;\n",
              "    }\n",
              "</style>\n",
              "<table border=\"1\" class=\"dataframe\">\n",
              "  <thead>\n",
              "    <tr style=\"text-align: right;\">\n",
              "      <th></th>\n",
              "      <th>Date</th>\n",
              "      <th>Close</th>\n",
              "      <th>Adj Close</th>\n",
              "      <th>Volume</th>\n",
              "    </tr>\n",
              "  </thead>\n",
              "  <tbody>\n",
              "    <tr>\n",
              "      <th>0</th>\n",
              "      <td>2020-04-24</td>\n",
              "      <td>5752.200195</td>\n",
              "      <td>5752.200195</td>\n",
              "      <td>8.088216e+08</td>\n",
              "    </tr>\n",
              "    <tr>\n",
              "      <th>1</th>\n",
              "      <td>2020-04-27</td>\n",
              "      <td>5846.799805</td>\n",
              "      <td>5846.799805</td>\n",
              "      <td>7.922464e+08</td>\n",
              "    </tr>\n",
              "    <tr>\n",
              "      <th>2</th>\n",
              "      <td>2020-04-28</td>\n",
              "      <td>5958.500000</td>\n",
              "      <td>5958.500000</td>\n",
              "      <td>1.196851e+09</td>\n",
              "    </tr>\n",
              "    <tr>\n",
              "      <th>3</th>\n",
              "      <td>2020-04-29</td>\n",
              "      <td>6115.299805</td>\n",
              "      <td>6115.299805</td>\n",
              "      <td>1.288097e+09</td>\n",
              "    </tr>\n",
              "    <tr>\n",
              "      <th>4</th>\n",
              "      <td>2020-04-30</td>\n",
              "      <td>5901.200195</td>\n",
              "      <td>5901.200195</td>\n",
              "      <td>1.933349e+09</td>\n",
              "    </tr>\n",
              "  </tbody>\n",
              "</table>\n",
              "</div>"
            ],
            "text/plain": [
              "         Date        Close    Adj Close        Volume\n",
              "0  2020-04-24  5752.200195  5752.200195  8.088216e+08\n",
              "1  2020-04-27  5846.799805  5846.799805  7.922464e+08\n",
              "2  2020-04-28  5958.500000  5958.500000  1.196851e+09\n",
              "3  2020-04-29  6115.299805  6115.299805  1.288097e+09\n",
              "4  2020-04-30  5901.200195  5901.200195  1.933349e+09"
            ]
          },
          "execution_count": 186,
          "metadata": {},
          "output_type": "execute_result"
        }
      ]
    },
    {
      "cell_type": "code",
      "metadata": {
        "id": "9964f770",
        "outputId": "3a3001e3-6a22-4eba-cb4d-f80908cb38d1"
      },
      "source": [
        "cac.head()"
      ],
      "id": "9964f770",
      "execution_count": null,
      "outputs": [
        {
          "data": {
            "text/html": [
              "<div>\n",
              "<style scoped>\n",
              "    .dataframe tbody tr th:only-of-type {\n",
              "        vertical-align: middle;\n",
              "    }\n",
              "\n",
              "    .dataframe tbody tr th {\n",
              "        vertical-align: top;\n",
              "    }\n",
              "\n",
              "    .dataframe thead th {\n",
              "        text-align: right;\n",
              "    }\n",
              "</style>\n",
              "<table border=\"1\" class=\"dataframe\">\n",
              "  <thead>\n",
              "    <tr style=\"text-align: right;\">\n",
              "      <th></th>\n",
              "      <th>Date</th>\n",
              "      <th>Close</th>\n",
              "      <th>Adj Close</th>\n",
              "      <th>Volume</th>\n",
              "    </tr>\n",
              "  </thead>\n",
              "  <tbody>\n",
              "    <tr>\n",
              "      <th>0</th>\n",
              "      <td>2007-01-02</td>\n",
              "      <td>5617.709961</td>\n",
              "      <td>5617.709961</td>\n",
              "      <td>85910000.0</td>\n",
              "    </tr>\n",
              "    <tr>\n",
              "      <th>1</th>\n",
              "      <td>2007-01-03</td>\n",
              "      <td>5610.919922</td>\n",
              "      <td>5610.919922</td>\n",
              "      <td>118580700.0</td>\n",
              "    </tr>\n",
              "    <tr>\n",
              "      <th>2</th>\n",
              "      <td>2007-01-04</td>\n",
              "      <td>5574.560059</td>\n",
              "      <td>5574.560059</td>\n",
              "      <td>130465700.0</td>\n",
              "    </tr>\n",
              "    <tr>\n",
              "      <th>3</th>\n",
              "      <td>2007-01-05</td>\n",
              "      <td>5517.350098</td>\n",
              "      <td>5517.350098</td>\n",
              "      <td>126420500.0</td>\n",
              "    </tr>\n",
              "    <tr>\n",
              "      <th>4</th>\n",
              "      <td>2007-01-08</td>\n",
              "      <td>5518.589844</td>\n",
              "      <td>5518.589844</td>\n",
              "      <td>115053800.0</td>\n",
              "    </tr>\n",
              "  </tbody>\n",
              "</table>\n",
              "</div>"
            ],
            "text/plain": [
              "         Date        Close    Adj Close       Volume\n",
              "0  2007-01-02  5617.709961  5617.709961   85910000.0\n",
              "1  2007-01-03  5610.919922  5610.919922  118580700.0\n",
              "2  2007-01-04  5574.560059  5574.560059  130465700.0\n",
              "3  2007-01-05  5517.350098  5517.350098  126420500.0\n",
              "4  2007-01-08  5518.589844  5518.589844  115053800.0"
            ]
          },
          "execution_count": 187,
          "metadata": {},
          "output_type": "execute_result"
        }
      ]
    },
    {
      "cell_type": "code",
      "metadata": {
        "id": "59db0cfe",
        "outputId": "8bc38eba-90d4-4b04-d445-35fa159bff10"
      },
      "source": [
        "hs.head()"
      ],
      "id": "59db0cfe",
      "execution_count": null,
      "outputs": [
        {
          "data": {
            "text/html": [
              "<div>\n",
              "<style scoped>\n",
              "    .dataframe tbody tr th:only-of-type {\n",
              "        vertical-align: middle;\n",
              "    }\n",
              "\n",
              "    .dataframe tbody tr th {\n",
              "        vertical-align: top;\n",
              "    }\n",
              "\n",
              "    .dataframe thead th {\n",
              "        text-align: right;\n",
              "    }\n",
              "</style>\n",
              "<table border=\"1\" class=\"dataframe\">\n",
              "  <thead>\n",
              "    <tr style=\"text-align: right;\">\n",
              "      <th></th>\n",
              "      <th>Date</th>\n",
              "      <th>Close</th>\n",
              "      <th>Adj Close</th>\n",
              "      <th>Volume</th>\n",
              "    </tr>\n",
              "  </thead>\n",
              "  <tbody>\n",
              "    <tr>\n",
              "      <th>0</th>\n",
              "      <td>2007-01-02</td>\n",
              "      <td>20310.179688</td>\n",
              "      <td>20310.179688</td>\n",
              "      <td>1.264597e+09</td>\n",
              "    </tr>\n",
              "    <tr>\n",
              "      <th>1</th>\n",
              "      <td>2007-01-03</td>\n",
              "      <td>20413.390625</td>\n",
              "      <td>20413.390625</td>\n",
              "      <td>1.673969e+09</td>\n",
              "    </tr>\n",
              "    <tr>\n",
              "      <th>2</th>\n",
              "      <td>2007-01-04</td>\n",
              "      <td>20025.580078</td>\n",
              "      <td>20025.580078</td>\n",
              "      <td>2.130510e+09</td>\n",
              "    </tr>\n",
              "    <tr>\n",
              "      <th>3</th>\n",
              "      <td>2007-01-05</td>\n",
              "      <td>20211.279297</td>\n",
              "      <td>20211.279297</td>\n",
              "      <td>1.959114e+09</td>\n",
              "    </tr>\n",
              "    <tr>\n",
              "      <th>4</th>\n",
              "      <td>2007-01-08</td>\n",
              "      <td>20029.660156</td>\n",
              "      <td>20029.660156</td>\n",
              "      <td>1.438589e+09</td>\n",
              "    </tr>\n",
              "  </tbody>\n",
              "</table>\n",
              "</div>"
            ],
            "text/plain": [
              "         Date         Close     Adj Close        Volume\n",
              "0  2007-01-02  20310.179688  20310.179688  1.264597e+09\n",
              "1  2007-01-03  20413.390625  20413.390625  1.673969e+09\n",
              "2  2007-01-04  20025.580078  20025.580078  2.130510e+09\n",
              "3  2007-01-05  20211.279297  20211.279297  1.959114e+09\n",
              "4  2007-01-08  20029.660156  20029.660156  1.438589e+09"
            ]
          },
          "execution_count": 188,
          "metadata": {},
          "output_type": "execute_result"
        }
      ]
    },
    {
      "cell_type": "code",
      "metadata": {
        "id": "63e7282e",
        "outputId": "bfe54b02-0156-4722-bdef-2c79cd22e305"
      },
      "source": [
        "nasdaq.info()"
      ],
      "id": "63e7282e",
      "execution_count": null,
      "outputs": [
        {
          "name": "stdout",
          "output_type": "stream",
          "text": [
            "<class 'pandas.core.frame.DataFrame'>\n",
            "RangeIndex: 5157 entries, 0 to 5156\n",
            "Data columns (total 7 columns):\n",
            " #   Column     Non-Null Count  Dtype  \n",
            "---  ------     --------------  -----  \n",
            " 0   Date       5157 non-null   object \n",
            " 1   Open       5157 non-null   float64\n",
            " 2   High       5157 non-null   float64\n",
            " 3   Low        5157 non-null   float64\n",
            " 4   Close      5157 non-null   float64\n",
            " 5   Adj Close  5157 non-null   float64\n",
            " 6   Volume     5157 non-null   int64  \n",
            "dtypes: float64(5), int64(1), object(1)\n",
            "memory usage: 282.1+ KB\n"
          ]
        }
      ]
    },
    {
      "cell_type": "code",
      "metadata": {
        "id": "91f4814d",
        "outputId": "2df0732d-bc47-476a-80a7-985283d94e91"
      },
      "source": [
        "nasdaq.describe()"
      ],
      "id": "91f4814d",
      "execution_count": null,
      "outputs": [
        {
          "data": {
            "text/html": [
              "<div>\n",
              "<style scoped>\n",
              "    .dataframe tbody tr th:only-of-type {\n",
              "        vertical-align: middle;\n",
              "    }\n",
              "\n",
              "    .dataframe tbody tr th {\n",
              "        vertical-align: top;\n",
              "    }\n",
              "\n",
              "    .dataframe thead th {\n",
              "        text-align: right;\n",
              "    }\n",
              "</style>\n",
              "<table border=\"1\" class=\"dataframe\">\n",
              "  <thead>\n",
              "    <tr style=\"text-align: right;\">\n",
              "      <th></th>\n",
              "      <th>Open</th>\n",
              "      <th>High</th>\n",
              "      <th>Low</th>\n",
              "      <th>Close</th>\n",
              "      <th>Adj Close</th>\n",
              "      <th>Volume</th>\n",
              "    </tr>\n",
              "  </thead>\n",
              "  <tbody>\n",
              "    <tr>\n",
              "      <th>count</th>\n",
              "      <td>5157.000000</td>\n",
              "      <td>5157.000000</td>\n",
              "      <td>5157.000000</td>\n",
              "      <td>5157.000000</td>\n",
              "      <td>5157.000000</td>\n",
              "      <td>5.157000e+03</td>\n",
              "    </tr>\n",
              "    <tr>\n",
              "      <th>mean</th>\n",
              "      <td>4029.621082</td>\n",
              "      <td>4055.696617</td>\n",
              "      <td>4000.662047</td>\n",
              "      <td>4030.125791</td>\n",
              "      <td>4030.125791</td>\n",
              "      <td>2.127413e+09</td>\n",
              "    </tr>\n",
              "    <tr>\n",
              "      <th>std</th>\n",
              "      <td>2830.319295</td>\n",
              "      <td>2846.730753</td>\n",
              "      <td>2811.136162</td>\n",
              "      <td>2830.968376</td>\n",
              "      <td>2830.968376</td>\n",
              "      <td>8.674994e+08</td>\n",
              "    </tr>\n",
              "    <tr>\n",
              "      <th>min</th>\n",
              "      <td>1116.760010</td>\n",
              "      <td>1135.890015</td>\n",
              "      <td>1108.489990</td>\n",
              "      <td>1114.109985</td>\n",
              "      <td>1114.109985</td>\n",
              "      <td>1.494100e+08</td>\n",
              "    </tr>\n",
              "    <tr>\n",
              "      <th>25%</th>\n",
              "      <td>2093.540039</td>\n",
              "      <td>2106.989990</td>\n",
              "      <td>2077.709961</td>\n",
              "      <td>2091.239990</td>\n",
              "      <td>2091.239990</td>\n",
              "      <td>1.716160e+09</td>\n",
              "    </tr>\n",
              "    <tr>\n",
              "      <th>50%</th>\n",
              "      <td>2683.379883</td>\n",
              "      <td>2699.870117</td>\n",
              "      <td>2663.639893</td>\n",
              "      <td>2686.199951</td>\n",
              "      <td>2686.199951</td>\n",
              "      <td>1.932080e+09</td>\n",
              "    </tr>\n",
              "    <tr>\n",
              "      <th>75%</th>\n",
              "      <td>5085.390137</td>\n",
              "      <td>5106.649902</td>\n",
              "      <td>5062.509766</td>\n",
              "      <td>5089.930176</td>\n",
              "      <td>5089.930176</td>\n",
              "      <td>2.215530e+09</td>\n",
              "    </tr>\n",
              "    <tr>\n",
              "      <th>max</th>\n",
              "      <td>14509.849609</td>\n",
              "      <td>14535.969727</td>\n",
              "      <td>14478.059570</td>\n",
              "      <td>14528.330078</td>\n",
              "      <td>14528.330078</td>\n",
              "      <td>1.110216e+10</td>\n",
              "    </tr>\n",
              "  </tbody>\n",
              "</table>\n",
              "</div>"
            ],
            "text/plain": [
              "               Open          High           Low         Close     Adj Close  \\\n",
              "count   5157.000000   5157.000000   5157.000000   5157.000000   5157.000000   \n",
              "mean    4029.621082   4055.696617   4000.662047   4030.125791   4030.125791   \n",
              "std     2830.319295   2846.730753   2811.136162   2830.968376   2830.968376   \n",
              "min     1116.760010   1135.890015   1108.489990   1114.109985   1114.109985   \n",
              "25%     2093.540039   2106.989990   2077.709961   2091.239990   2091.239990   \n",
              "50%     2683.379883   2699.870117   2663.639893   2686.199951   2686.199951   \n",
              "75%     5085.390137   5106.649902   5062.509766   5089.930176   5089.930176   \n",
              "max    14509.849609  14535.969727  14478.059570  14528.330078  14528.330078   \n",
              "\n",
              "             Volume  \n",
              "count  5.157000e+03  \n",
              "mean   2.127413e+09  \n",
              "std    8.674994e+08  \n",
              "min    1.494100e+08  \n",
              "25%    1.716160e+09  \n",
              "50%    1.932080e+09  \n",
              "75%    2.215530e+09  \n",
              "max    1.110216e+10  "
            ]
          },
          "execution_count": 161,
          "metadata": {},
          "output_type": "execute_result"
        }
      ]
    },
    {
      "cell_type": "code",
      "metadata": {
        "id": "92b2ad46",
        "outputId": "fbb27c3e-0118-4cb6-bb41-98537208cd10"
      },
      "source": [
        "nikkei225.info()"
      ],
      "id": "92b2ad46",
      "execution_count": null,
      "outputs": [
        {
          "name": "stdout",
          "output_type": "stream",
          "text": [
            "<class 'pandas.core.frame.DataFrame'>\n",
            "RangeIndex: 3567 entries, 0 to 3566\n",
            "Data columns (total 7 columns):\n",
            " #   Column     Non-Null Count  Dtype  \n",
            "---  ------     --------------  -----  \n",
            " 0   Date       3567 non-null   object \n",
            " 1   Open       3544 non-null   float64\n",
            " 2   High       3544 non-null   float64\n",
            " 3   Low        3544 non-null   float64\n",
            " 4   Close      3544 non-null   float64\n",
            " 5   Adj Close  3544 non-null   float64\n",
            " 6   Volume     3544 non-null   float64\n",
            "dtypes: float64(6), object(1)\n",
            "memory usage: 195.2+ KB\n"
          ]
        }
      ]
    },
    {
      "cell_type": "code",
      "metadata": {
        "id": "3e893013",
        "outputId": "79878928-20d5-44b2-956f-23f6d2a243f2"
      },
      "source": [
        "nikkei225.describe()"
      ],
      "id": "3e893013",
      "execution_count": null,
      "outputs": [
        {
          "data": {
            "text/html": [
              "<div>\n",
              "<style scoped>\n",
              "    .dataframe tbody tr th:only-of-type {\n",
              "        vertical-align: middle;\n",
              "    }\n",
              "\n",
              "    .dataframe tbody tr th {\n",
              "        vertical-align: top;\n",
              "    }\n",
              "\n",
              "    .dataframe thead th {\n",
              "        text-align: right;\n",
              "    }\n",
              "</style>\n",
              "<table border=\"1\" class=\"dataframe\">\n",
              "  <thead>\n",
              "    <tr style=\"text-align: right;\">\n",
              "      <th></th>\n",
              "      <th>Open</th>\n",
              "      <th>High</th>\n",
              "      <th>Low</th>\n",
              "      <th>Close</th>\n",
              "      <th>Adj Close</th>\n",
              "      <th>Volume</th>\n",
              "    </tr>\n",
              "  </thead>\n",
              "  <tbody>\n",
              "    <tr>\n",
              "      <th>count</th>\n",
              "      <td>3544.000000</td>\n",
              "      <td>3544.000000</td>\n",
              "      <td>3544.000000</td>\n",
              "      <td>3544.000000</td>\n",
              "      <td>3544.000000</td>\n",
              "      <td>3.544000e+03</td>\n",
              "    </tr>\n",
              "    <tr>\n",
              "      <th>mean</th>\n",
              "      <td>16115.583779</td>\n",
              "      <td>16208.413907</td>\n",
              "      <td>16013.205832</td>\n",
              "      <td>16112.798268</td>\n",
              "      <td>16112.798268</td>\n",
              "      <td>1.280019e+08</td>\n",
              "    </tr>\n",
              "    <tr>\n",
              "      <th>std</th>\n",
              "      <td>5536.995793</td>\n",
              "      <td>5554.628102</td>\n",
              "      <td>5517.251511</td>\n",
              "      <td>5538.489448</td>\n",
              "      <td>5538.489448</td>\n",
              "      <td>5.326727e+07</td>\n",
              "    </tr>\n",
              "    <tr>\n",
              "      <th>min</th>\n",
              "      <td>7059.770020</td>\n",
              "      <td>7100.770020</td>\n",
              "      <td>6994.899902</td>\n",
              "      <td>7054.979980</td>\n",
              "      <td>7054.979980</td>\n",
              "      <td>0.000000e+00</td>\n",
              "    </tr>\n",
              "    <tr>\n",
              "      <th>25%</th>\n",
              "      <td>10329.109863</td>\n",
              "      <td>10377.750244</td>\n",
              "      <td>10268.262696</td>\n",
              "      <td>10331.362304</td>\n",
              "      <td>10331.362304</td>\n",
              "      <td>9.157500e+07</td>\n",
              "    </tr>\n",
              "    <tr>\n",
              "      <th>50%</th>\n",
              "      <td>16309.509765</td>\n",
              "      <td>16387.669922</td>\n",
              "      <td>16157.104981</td>\n",
              "      <td>16255.944824</td>\n",
              "      <td>16255.944824</td>\n",
              "      <td>1.253000e+08</td>\n",
              "    </tr>\n",
              "    <tr>\n",
              "      <th>75%</th>\n",
              "      <td>20432.004395</td>\n",
              "      <td>20507.564941</td>\n",
              "      <td>20331.571777</td>\n",
              "      <td>20420.873047</td>\n",
              "      <td>20420.873047</td>\n",
              "      <td>1.535000e+08</td>\n",
              "    </tr>\n",
              "    <tr>\n",
              "      <th>max</th>\n",
              "      <td>30366.820313</td>\n",
              "      <td>30714.519531</td>\n",
              "      <td>30191.650391</td>\n",
              "      <td>30467.750000</td>\n",
              "      <td>30467.750000</td>\n",
              "      <td>5.952000e+08</td>\n",
              "    </tr>\n",
              "  </tbody>\n",
              "</table>\n",
              "</div>"
            ],
            "text/plain": [
              "               Open          High           Low         Close     Adj Close  \\\n",
              "count   3544.000000   3544.000000   3544.000000   3544.000000   3544.000000   \n",
              "mean   16115.583779  16208.413907  16013.205832  16112.798268  16112.798268   \n",
              "std     5536.995793   5554.628102   5517.251511   5538.489448   5538.489448   \n",
              "min     7059.770020   7100.770020   6994.899902   7054.979980   7054.979980   \n",
              "25%    10329.109863  10377.750244  10268.262696  10331.362304  10331.362304   \n",
              "50%    16309.509765  16387.669922  16157.104981  16255.944824  16255.944824   \n",
              "75%    20432.004395  20507.564941  20331.571777  20420.873047  20420.873047   \n",
              "max    30366.820313  30714.519531  30191.650391  30467.750000  30467.750000   \n",
              "\n",
              "             Volume  \n",
              "count  3.544000e+03  \n",
              "mean   1.280019e+08  \n",
              "std    5.326727e+07  \n",
              "min    0.000000e+00  \n",
              "25%    9.157500e+07  \n",
              "50%    1.253000e+08  \n",
              "75%    1.535000e+08  \n",
              "max    5.952000e+08  "
            ]
          },
          "execution_count": 163,
          "metadata": {},
          "output_type": "execute_result"
        }
      ]
    },
    {
      "cell_type": "code",
      "metadata": {
        "id": "39c2ebba",
        "outputId": "d1d84039-dff7-4b70-fc4a-000bfbc1e67e"
      },
      "source": [
        "dax.info()"
      ],
      "id": "39c2ebba",
      "execution_count": null,
      "outputs": [
        {
          "name": "stdout",
          "output_type": "stream",
          "text": [
            "<class 'pandas.core.frame.DataFrame'>\n",
            "RangeIndex: 3676 entries, 0 to 3675\n",
            "Data columns (total 7 columns):\n",
            " #   Column     Non-Null Count  Dtype  \n",
            "---  ------     --------------  -----  \n",
            " 0   Date       3676 non-null   object \n",
            " 1   Open       3671 non-null   float64\n",
            " 2   High       3671 non-null   float64\n",
            " 3   Low        3671 non-null   float64\n",
            " 4   Close      3671 non-null   float64\n",
            " 5   Adj Close  3671 non-null   float64\n",
            " 6   Volume     3671 non-null   float64\n",
            "dtypes: float64(6), object(1)\n",
            "memory usage: 201.2+ KB\n"
          ]
        }
      ]
    },
    {
      "cell_type": "code",
      "metadata": {
        "id": "77ae9a3b",
        "outputId": "1ebc1bad-25f0-4745-fb29-e4babb287d7d"
      },
      "source": [
        "dax.describe()"
      ],
      "id": "77ae9a3b",
      "execution_count": null,
      "outputs": [
        {
          "data": {
            "text/html": [
              "<div>\n",
              "<style scoped>\n",
              "    .dataframe tbody tr th:only-of-type {\n",
              "        vertical-align: middle;\n",
              "    }\n",
              "\n",
              "    .dataframe tbody tr th {\n",
              "        vertical-align: top;\n",
              "    }\n",
              "\n",
              "    .dataframe thead th {\n",
              "        text-align: right;\n",
              "    }\n",
              "</style>\n",
              "<table border=\"1\" class=\"dataframe\">\n",
              "  <thead>\n",
              "    <tr style=\"text-align: right;\">\n",
              "      <th></th>\n",
              "      <th>Open</th>\n",
              "      <th>High</th>\n",
              "      <th>Low</th>\n",
              "      <th>Close</th>\n",
              "      <th>Adj Close</th>\n",
              "      <th>Volume</th>\n",
              "    </tr>\n",
              "  </thead>\n",
              "  <tbody>\n",
              "    <tr>\n",
              "      <th>count</th>\n",
              "      <td>3671.000000</td>\n",
              "      <td>3671.000000</td>\n",
              "      <td>3671.000000</td>\n",
              "      <td>3671.000000</td>\n",
              "      <td>3671.000000</td>\n",
              "      <td>3.671000e+03</td>\n",
              "    </tr>\n",
              "    <tr>\n",
              "      <th>mean</th>\n",
              "      <td>9221.936561</td>\n",
              "      <td>9284.463867</td>\n",
              "      <td>9152.741217</td>\n",
              "      <td>9220.883406</td>\n",
              "      <td>9220.883406</td>\n",
              "      <td>1.151953e+08</td>\n",
              "    </tr>\n",
              "    <tr>\n",
              "      <th>std</th>\n",
              "      <td>2826.973954</td>\n",
              "      <td>2832.379561</td>\n",
              "      <td>2820.755306</td>\n",
              "      <td>2826.696342</td>\n",
              "      <td>2826.696342</td>\n",
              "      <td>5.266268e+07</td>\n",
              "    </tr>\n",
              "    <tr>\n",
              "      <th>min</th>\n",
              "      <td>3677.070068</td>\n",
              "      <td>3706.320068</td>\n",
              "      <td>3588.889893</td>\n",
              "      <td>3666.409912</td>\n",
              "      <td>3666.409912</td>\n",
              "      <td>0.000000e+00</td>\n",
              "    </tr>\n",
              "    <tr>\n",
              "      <th>25%</th>\n",
              "      <td>6769.225098</td>\n",
              "      <td>6827.600098</td>\n",
              "      <td>6705.135010</td>\n",
              "      <td>6770.285157</td>\n",
              "      <td>6770.285157</td>\n",
              "      <td>8.038820e+07</td>\n",
              "    </tr>\n",
              "    <tr>\n",
              "      <th>50%</th>\n",
              "      <td>9295.320313</td>\n",
              "      <td>9351.870117</td>\n",
              "      <td>9214.179688</td>\n",
              "      <td>9290.070313</td>\n",
              "      <td>9290.070313</td>\n",
              "      <td>1.028354e+08</td>\n",
              "    </tr>\n",
              "    <tr>\n",
              "      <th>75%</th>\n",
              "      <td>11858.304688</td>\n",
              "      <td>11934.494629</td>\n",
              "      <td>11756.854981</td>\n",
              "      <td>11849.600098</td>\n",
              "      <td>11849.600098</td>\n",
              "      <td>1.366436e+08</td>\n",
              "    </tr>\n",
              "    <tr>\n",
              "      <th>max</th>\n",
              "      <td>15756.830078</td>\n",
              "      <td>15802.669922</td>\n",
              "      <td>15714.940430</td>\n",
              "      <td>15729.519531</td>\n",
              "      <td>15729.519531</td>\n",
              "      <td>4.940122e+08</td>\n",
              "    </tr>\n",
              "  </tbody>\n",
              "</table>\n",
              "</div>"
            ],
            "text/plain": [
              "               Open          High           Low         Close     Adj Close  \\\n",
              "count   3671.000000   3671.000000   3671.000000   3671.000000   3671.000000   \n",
              "mean    9221.936561   9284.463867   9152.741217   9220.883406   9220.883406   \n",
              "std     2826.973954   2832.379561   2820.755306   2826.696342   2826.696342   \n",
              "min     3677.070068   3706.320068   3588.889893   3666.409912   3666.409912   \n",
              "25%     6769.225098   6827.600098   6705.135010   6770.285157   6770.285157   \n",
              "50%     9295.320313   9351.870117   9214.179688   9290.070313   9290.070313   \n",
              "75%    11858.304688  11934.494629  11756.854981  11849.600098  11849.600098   \n",
              "max    15756.830078  15802.669922  15714.940430  15729.519531  15729.519531   \n",
              "\n",
              "             Volume  \n",
              "count  3.671000e+03  \n",
              "mean   1.151953e+08  \n",
              "std    5.266268e+07  \n",
              "min    0.000000e+00  \n",
              "25%    8.038820e+07  \n",
              "50%    1.028354e+08  \n",
              "75%    1.366436e+08  \n",
              "max    4.940122e+08  "
            ]
          },
          "execution_count": 165,
          "metadata": {},
          "output_type": "execute_result"
        }
      ]
    },
    {
      "cell_type": "code",
      "metadata": {
        "id": "ba40bb12",
        "outputId": "3827fd5d-1dc3-4213-9e82-cad20cd97104"
      },
      "source": [
        "ftse.info()"
      ],
      "id": "ba40bb12",
      "execution_count": null,
      "outputs": [
        {
          "name": "stdout",
          "output_type": "stream",
          "text": [
            "<class 'pandas.core.frame.DataFrame'>\n",
            "RangeIndex: 300 entries, 0 to 299\n",
            "Data columns (total 7 columns):\n",
            " #   Column     Non-Null Count  Dtype  \n",
            "---  ------     --------------  -----  \n",
            " 0   Date       300 non-null    object \n",
            " 1   Open       299 non-null    float64\n",
            " 2   High       299 non-null    float64\n",
            " 3   Low        299 non-null    float64\n",
            " 4   Close      299 non-null    float64\n",
            " 5   Adj Close  299 non-null    float64\n",
            " 6   Volume     299 non-null    float64\n",
            "dtypes: float64(6), object(1)\n",
            "memory usage: 16.5+ KB\n"
          ]
        }
      ]
    },
    {
      "cell_type": "code",
      "metadata": {
        "id": "ffb10845",
        "outputId": "f166b8a3-2f5d-4981-9e25-d664f59ea0ea"
      },
      "source": [
        "ftse.describe()"
      ],
      "id": "ffb10845",
      "execution_count": null,
      "outputs": [
        {
          "data": {
            "text/html": [
              "<div>\n",
              "<style scoped>\n",
              "    .dataframe tbody tr th:only-of-type {\n",
              "        vertical-align: middle;\n",
              "    }\n",
              "\n",
              "    .dataframe tbody tr th {\n",
              "        vertical-align: top;\n",
              "    }\n",
              "\n",
              "    .dataframe thead th {\n",
              "        text-align: right;\n",
              "    }\n",
              "</style>\n",
              "<table border=\"1\" class=\"dataframe\">\n",
              "  <thead>\n",
              "    <tr style=\"text-align: right;\">\n",
              "      <th></th>\n",
              "      <th>Open</th>\n",
              "      <th>High</th>\n",
              "      <th>Low</th>\n",
              "      <th>Close</th>\n",
              "      <th>Adj Close</th>\n",
              "      <th>Volume</th>\n",
              "    </tr>\n",
              "  </thead>\n",
              "  <tbody>\n",
              "    <tr>\n",
              "      <th>count</th>\n",
              "      <td>299.000000</td>\n",
              "      <td>299.000000</td>\n",
              "      <td>299.000000</td>\n",
              "      <td>299.000000</td>\n",
              "      <td>299.000000</td>\n",
              "      <td>2.990000e+02</td>\n",
              "    </tr>\n",
              "    <tr>\n",
              "      <th>mean</th>\n",
              "      <td>6414.070902</td>\n",
              "      <td>6463.381284</td>\n",
              "      <td>6368.276591</td>\n",
              "      <td>6418.290634</td>\n",
              "      <td>6418.290634</td>\n",
              "      <td>8.172405e+08</td>\n",
              "    </tr>\n",
              "    <tr>\n",
              "      <th>std</th>\n",
              "      <td>422.379544</td>\n",
              "      <td>414.015767</td>\n",
              "      <td>430.054641</td>\n",
              "      <td>422.989788</td>\n",
              "      <td>422.989788</td>\n",
              "      <td>2.819533e+08</td>\n",
              "    </tr>\n",
              "    <tr>\n",
              "      <th>min</th>\n",
              "      <td>5577.299805</td>\n",
              "      <td>5593.399902</td>\n",
              "      <td>5525.500000</td>\n",
              "      <td>5577.299805</td>\n",
              "      <td>5577.299805</td>\n",
              "      <td>8.378200e+06</td>\n",
              "    </tr>\n",
              "    <tr>\n",
              "      <th>25%</th>\n",
              "      <td>6041.300049</td>\n",
              "      <td>6106.700195</td>\n",
              "      <td>5995.900147</td>\n",
              "      <td>6047.100098</td>\n",
              "      <td>6047.100098</td>\n",
              "      <td>6.546666e+08</td>\n",
              "    </tr>\n",
              "    <tr>\n",
              "      <th>50%</th>\n",
              "      <td>6384.700195</td>\n",
              "      <td>6432.399902</td>\n",
              "      <td>6325.200195</td>\n",
              "      <td>6385.200195</td>\n",
              "      <td>6385.200195</td>\n",
              "      <td>7.535316e+08</td>\n",
              "    </tr>\n",
              "    <tr>\n",
              "      <th>75%</th>\n",
              "      <td>6743.050049</td>\n",
              "      <td>6783.250000</td>\n",
              "      <td>6713.600098</td>\n",
              "      <td>6747.199951</td>\n",
              "      <td>6747.199951</td>\n",
              "      <td>9.397102e+08</td>\n",
              "    </tr>\n",
              "    <tr>\n",
              "      <th>max</th>\n",
              "      <td>7185.000000</td>\n",
              "      <td>7217.500000</td>\n",
              "      <td>7169.200195</td>\n",
              "      <td>7185.000000</td>\n",
              "      <td>7185.000000</td>\n",
              "      <td>2.246313e+09</td>\n",
              "    </tr>\n",
              "  </tbody>\n",
              "</table>\n",
              "</div>"
            ],
            "text/plain": [
              "              Open         High          Low        Close    Adj Close  \\\n",
              "count   299.000000   299.000000   299.000000   299.000000   299.000000   \n",
              "mean   6414.070902  6463.381284  6368.276591  6418.290634  6418.290634   \n",
              "std     422.379544   414.015767   430.054641   422.989788   422.989788   \n",
              "min    5577.299805  5593.399902  5525.500000  5577.299805  5577.299805   \n",
              "25%    6041.300049  6106.700195  5995.900147  6047.100098  6047.100098   \n",
              "50%    6384.700195  6432.399902  6325.200195  6385.200195  6385.200195   \n",
              "75%    6743.050049  6783.250000  6713.600098  6747.199951  6747.199951   \n",
              "max    7185.000000  7217.500000  7169.200195  7185.000000  7185.000000   \n",
              "\n",
              "             Volume  \n",
              "count  2.990000e+02  \n",
              "mean   8.172405e+08  \n",
              "std    2.819533e+08  \n",
              "min    8.378200e+06  \n",
              "25%    6.546666e+08  \n",
              "50%    7.535316e+08  \n",
              "75%    9.397102e+08  \n",
              "max    2.246313e+09  "
            ]
          },
          "execution_count": 167,
          "metadata": {},
          "output_type": "execute_result"
        }
      ]
    },
    {
      "cell_type": "code",
      "metadata": {
        "id": "95cccd29",
        "outputId": "9b0164dd-d963-4a58-ce5c-77be7e595914"
      },
      "source": [
        "cac.info()"
      ],
      "id": "95cccd29",
      "execution_count": null,
      "outputs": [
        {
          "name": "stdout",
          "output_type": "stream",
          "text": [
            "<class 'pandas.core.frame.DataFrame'>\n",
            "RangeIndex: 3707 entries, 0 to 3706\n",
            "Data columns (total 7 columns):\n",
            " #   Column     Non-Null Count  Dtype  \n",
            "---  ------     --------------  -----  \n",
            " 0   Date       3707 non-null   object \n",
            " 1   Open       3704 non-null   float64\n",
            " 2   High       3704 non-null   float64\n",
            " 3   Low        3704 non-null   float64\n",
            " 4   Close      3704 non-null   float64\n",
            " 5   Adj Close  3704 non-null   float64\n",
            " 6   Volume     3704 non-null   float64\n",
            "dtypes: float64(6), object(1)\n",
            "memory usage: 202.9+ KB\n"
          ]
        }
      ]
    },
    {
      "cell_type": "code",
      "metadata": {
        "id": "2cfa54fd",
        "outputId": "f9103438-0ed0-43f1-bc16-1d695da44f2c"
      },
      "source": [
        "cac.describe()"
      ],
      "id": "2cfa54fd",
      "execution_count": null,
      "outputs": [
        {
          "data": {
            "text/html": [
              "<div>\n",
              "<style scoped>\n",
              "    .dataframe tbody tr th:only-of-type {\n",
              "        vertical-align: middle;\n",
              "    }\n",
              "\n",
              "    .dataframe tbody tr th {\n",
              "        vertical-align: top;\n",
              "    }\n",
              "\n",
              "    .dataframe thead th {\n",
              "        text-align: right;\n",
              "    }\n",
              "</style>\n",
              "<table border=\"1\" class=\"dataframe\">\n",
              "  <thead>\n",
              "    <tr style=\"text-align: right;\">\n",
              "      <th></th>\n",
              "      <th>Open</th>\n",
              "      <th>High</th>\n",
              "      <th>Low</th>\n",
              "      <th>Close</th>\n",
              "      <th>Adj Close</th>\n",
              "      <th>Volume</th>\n",
              "    </tr>\n",
              "  </thead>\n",
              "  <tbody>\n",
              "    <tr>\n",
              "      <th>count</th>\n",
              "      <td>3704.000000</td>\n",
              "      <td>3704.000000</td>\n",
              "      <td>3704.000000</td>\n",
              "      <td>3704.000000</td>\n",
              "      <td>3704.000000</td>\n",
              "      <td>3.704000e+03</td>\n",
              "    </tr>\n",
              "    <tr>\n",
              "      <th>mean</th>\n",
              "      <td>4530.158232</td>\n",
              "      <td>4560.569811</td>\n",
              "      <td>4495.711724</td>\n",
              "      <td>4529.114555</td>\n",
              "      <td>4529.114555</td>\n",
              "      <td>1.205472e+08</td>\n",
              "    </tr>\n",
              "    <tr>\n",
              "      <th>std</th>\n",
              "      <td>877.474895</td>\n",
              "      <td>875.662815</td>\n",
              "      <td>880.809183</td>\n",
              "      <td>878.387055</td>\n",
              "      <td>878.387055</td>\n",
              "      <td>5.280166e+07</td>\n",
              "    </tr>\n",
              "    <tr>\n",
              "      <th>min</th>\n",
              "      <td>2519.429932</td>\n",
              "      <td>2552.989990</td>\n",
              "      <td>2465.459961</td>\n",
              "      <td>2519.290039</td>\n",
              "      <td>2519.290039</td>\n",
              "      <td>0.000000e+00</td>\n",
              "    </tr>\n",
              "    <tr>\n",
              "      <th>25%</th>\n",
              "      <td>3823.049988</td>\n",
              "      <td>3849.637512</td>\n",
              "      <td>3790.457459</td>\n",
              "      <td>3819.099915</td>\n",
              "      <td>3819.099915</td>\n",
              "      <td>8.444900e+07</td>\n",
              "    </tr>\n",
              "    <tr>\n",
              "      <th>50%</th>\n",
              "      <td>4472.965088</td>\n",
              "      <td>4500.919922</td>\n",
              "      <td>4440.814941</td>\n",
              "      <td>4475.160157</td>\n",
              "      <td>4475.160157</td>\n",
              "      <td>1.125088e+08</td>\n",
              "    </tr>\n",
              "    <tr>\n",
              "      <th>75%</th>\n",
              "      <td>5281.509888</td>\n",
              "      <td>5305.980102</td>\n",
              "      <td>5253.407592</td>\n",
              "      <td>5277.039795</td>\n",
              "      <td>5277.039795</td>\n",
              "      <td>1.463491e+08</td>\n",
              "    </tr>\n",
              "    <tr>\n",
              "      <th>max</th>\n",
              "      <td>6657.520020</td>\n",
              "      <td>6687.290039</td>\n",
              "      <td>6634.450195</td>\n",
              "      <td>6666.259766</td>\n",
              "      <td>6666.259766</td>\n",
              "      <td>5.312476e+08</td>\n",
              "    </tr>\n",
              "  </tbody>\n",
              "</table>\n",
              "</div>"
            ],
            "text/plain": [
              "              Open         High          Low        Close    Adj Close  \\\n",
              "count  3704.000000  3704.000000  3704.000000  3704.000000  3704.000000   \n",
              "mean   4530.158232  4560.569811  4495.711724  4529.114555  4529.114555   \n",
              "std     877.474895   875.662815   880.809183   878.387055   878.387055   \n",
              "min    2519.429932  2552.989990  2465.459961  2519.290039  2519.290039   \n",
              "25%    3823.049988  3849.637512  3790.457459  3819.099915  3819.099915   \n",
              "50%    4472.965088  4500.919922  4440.814941  4475.160157  4475.160157   \n",
              "75%    5281.509888  5305.980102  5253.407592  5277.039795  5277.039795   \n",
              "max    6657.520020  6687.290039  6634.450195  6666.259766  6666.259766   \n",
              "\n",
              "             Volume  \n",
              "count  3.704000e+03  \n",
              "mean   1.205472e+08  \n",
              "std    5.280166e+07  \n",
              "min    0.000000e+00  \n",
              "25%    8.444900e+07  \n",
              "50%    1.125088e+08  \n",
              "75%    1.463491e+08  \n",
              "max    5.312476e+08  "
            ]
          },
          "execution_count": 169,
          "metadata": {},
          "output_type": "execute_result"
        }
      ]
    },
    {
      "cell_type": "code",
      "metadata": {
        "id": "86cd59c3",
        "outputId": "376b7c0e-9645-4307-900f-5a642bbaaaae"
      },
      "source": [
        "hs.info()"
      ],
      "id": "86cd59c3",
      "execution_count": null,
      "outputs": [
        {
          "name": "stdout",
          "output_type": "stream",
          "text": [
            "<class 'pandas.core.frame.DataFrame'>\n",
            "RangeIndex: 3579 entries, 0 to 3578\n",
            "Data columns (total 7 columns):\n",
            " #   Column     Non-Null Count  Dtype  \n",
            "---  ------     --------------  -----  \n",
            " 0   Date       3579 non-null   object \n",
            " 1   Open       3564 non-null   float64\n",
            " 2   High       3564 non-null   float64\n",
            " 3   Low        3564 non-null   float64\n",
            " 4   Close      3564 non-null   float64\n",
            " 5   Adj Close  3564 non-null   float64\n",
            " 6   Volume     3564 non-null   float64\n",
            "dtypes: float64(6), object(1)\n",
            "memory usage: 195.9+ KB\n"
          ]
        }
      ]
    },
    {
      "cell_type": "code",
      "metadata": {
        "id": "38b4d544",
        "outputId": "5070e164-c926-44da-c061-c78065ab1cd3"
      },
      "source": [
        "hs.describe()"
      ],
      "id": "38b4d544",
      "execution_count": null,
      "outputs": [
        {
          "data": {
            "text/html": [
              "<div>\n",
              "<style scoped>\n",
              "    .dataframe tbody tr th:only-of-type {\n",
              "        vertical-align: middle;\n",
              "    }\n",
              "\n",
              "    .dataframe tbody tr th {\n",
              "        vertical-align: top;\n",
              "    }\n",
              "\n",
              "    .dataframe thead th {\n",
              "        text-align: right;\n",
              "    }\n",
              "</style>\n",
              "<table border=\"1\" class=\"dataframe\">\n",
              "  <thead>\n",
              "    <tr style=\"text-align: right;\">\n",
              "      <th></th>\n",
              "      <th>Open</th>\n",
              "      <th>High</th>\n",
              "      <th>Low</th>\n",
              "      <th>Close</th>\n",
              "      <th>Adj Close</th>\n",
              "      <th>Volume</th>\n",
              "    </tr>\n",
              "  </thead>\n",
              "  <tbody>\n",
              "    <tr>\n",
              "      <th>count</th>\n",
              "      <td>3564.000000</td>\n",
              "      <td>3564.000000</td>\n",
              "      <td>3564.000000</td>\n",
              "      <td>3564.000000</td>\n",
              "      <td>3564.000000</td>\n",
              "      <td>3.564000e+03</td>\n",
              "    </tr>\n",
              "    <tr>\n",
              "      <th>mean</th>\n",
              "      <td>23423.723620</td>\n",
              "      <td>23563.668748</td>\n",
              "      <td>23249.725545</td>\n",
              "      <td>23409.385158</td>\n",
              "      <td>23409.385158</td>\n",
              "      <td>1.896302e+09</td>\n",
              "    </tr>\n",
              "    <tr>\n",
              "      <th>std</th>\n",
              "      <td>3735.991605</td>\n",
              "      <td>3737.689861</td>\n",
              "      <td>3726.523453</td>\n",
              "      <td>3731.134236</td>\n",
              "      <td>3731.134236</td>\n",
              "      <td>7.665143e+08</td>\n",
              "    </tr>\n",
              "    <tr>\n",
              "      <th>min</th>\n",
              "      <td>11154.570313</td>\n",
              "      <td>11747.110352</td>\n",
              "      <td>10676.290039</td>\n",
              "      <td>11015.839844</td>\n",
              "      <td>11015.839844</td>\n",
              "      <td>0.000000e+00</td>\n",
              "    </tr>\n",
              "    <tr>\n",
              "      <th>25%</th>\n",
              "      <td>21067.764649</td>\n",
              "      <td>21174.579590</td>\n",
              "      <td>20913.770508</td>\n",
              "      <td>21055.772461</td>\n",
              "      <td>21055.772461</td>\n",
              "      <td>1.409613e+09</td>\n",
              "    </tr>\n",
              "    <tr>\n",
              "      <th>50%</th>\n",
              "      <td>23130.819336</td>\n",
              "      <td>23261.849610</td>\n",
              "      <td>22974.719726</td>\n",
              "      <td>23127.120118</td>\n",
              "      <td>23127.120118</td>\n",
              "      <td>1.724638e+09</td>\n",
              "    </tr>\n",
              "    <tr>\n",
              "      <th>75%</th>\n",
              "      <td>26042.047852</td>\n",
              "      <td>26192.059082</td>\n",
              "      <td>25854.319824</td>\n",
              "      <td>26044.910644</td>\n",
              "      <td>26044.910644</td>\n",
              "      <td>2.171941e+09</td>\n",
              "    </tr>\n",
              "    <tr>\n",
              "      <th>max</th>\n",
              "      <td>33335.480469</td>\n",
              "      <td>33484.078125</td>\n",
              "      <td>32897.039063</td>\n",
              "      <td>33154.121094</td>\n",
              "      <td>33154.121094</td>\n",
              "      <td>9.799120e+09</td>\n",
              "    </tr>\n",
              "  </tbody>\n",
              "</table>\n",
              "</div>"
            ],
            "text/plain": [
              "               Open          High           Low         Close     Adj Close  \\\n",
              "count   3564.000000   3564.000000   3564.000000   3564.000000   3564.000000   \n",
              "mean   23423.723620  23563.668748  23249.725545  23409.385158  23409.385158   \n",
              "std     3735.991605   3737.689861   3726.523453   3731.134236   3731.134236   \n",
              "min    11154.570313  11747.110352  10676.290039  11015.839844  11015.839844   \n",
              "25%    21067.764649  21174.579590  20913.770508  21055.772461  21055.772461   \n",
              "50%    23130.819336  23261.849610  22974.719726  23127.120118  23127.120118   \n",
              "75%    26042.047852  26192.059082  25854.319824  26044.910644  26044.910644   \n",
              "max    33335.480469  33484.078125  32897.039063  33154.121094  33154.121094   \n",
              "\n",
              "             Volume  \n",
              "count  3.564000e+03  \n",
              "mean   1.896302e+09  \n",
              "std    7.665143e+08  \n",
              "min    0.000000e+00  \n",
              "25%    1.409613e+09  \n",
              "50%    1.724638e+09  \n",
              "75%    2.171941e+09  \n",
              "max    9.799120e+09  "
            ]
          },
          "execution_count": 171,
          "metadata": {},
          "output_type": "execute_result"
        }
      ]
    },
    {
      "cell_type": "code",
      "metadata": {
        "id": "5a65eb0d",
        "outputId": "2293c2a4-a18b-4cf4-afb7-6692107217a8"
      },
      "source": [
        "nasdaq.isnull().sum()"
      ],
      "id": "5a65eb0d",
      "execution_count": null,
      "outputs": [
        {
          "data": {
            "text/plain": [
              "Date         0\n",
              "Open         0\n",
              "High         0\n",
              "Low          0\n",
              "Close        0\n",
              "Adj Close    0\n",
              "Volume       0\n",
              "dtype: int64"
            ]
          },
          "execution_count": 172,
          "metadata": {},
          "output_type": "execute_result"
        }
      ]
    },
    {
      "cell_type": "code",
      "metadata": {
        "scrolled": true,
        "id": "d6f0941f",
        "outputId": "4c6eb001-e069-4297-d3ea-c5a9c251f8c8"
      },
      "source": [
        "nikkei225.isnull().sum()"
      ],
      "id": "d6f0941f",
      "execution_count": null,
      "outputs": [
        {
          "data": {
            "text/plain": [
              "Date          0\n",
              "Open         23\n",
              "High         23\n",
              "Low          23\n",
              "Close        23\n",
              "Adj Close    23\n",
              "Volume       23\n",
              "dtype: int64"
            ]
          },
          "execution_count": 173,
          "metadata": {},
          "output_type": "execute_result"
        }
      ]
    },
    {
      "cell_type": "code",
      "metadata": {
        "id": "bf6bb5f8",
        "outputId": "73b1b4d2-749d-4d30-a3ab-a70e205b2e95"
      },
      "source": [
        "list = ['Close','Adj Close','Volume']\n",
        "for i in list:\n",
        "    nikkei225[i].fillna(nikkei225[i].mean(),inplace=True)\n",
        "nikkei225 = nikkei225.drop(['Open','High','Low'],axis=1)\n",
        "nikkei225.isnull().sum()"
      ],
      "id": "bf6bb5f8",
      "execution_count": null,
      "outputs": [
        {
          "data": {
            "text/plain": [
              "Date         0\n",
              "Close        0\n",
              "Adj Close    0\n",
              "Volume       0\n",
              "dtype: int64"
            ]
          },
          "execution_count": 174,
          "metadata": {},
          "output_type": "execute_result"
        }
      ]
    },
    {
      "cell_type": "code",
      "metadata": {
        "id": "527fafc0",
        "outputId": "67538a2a-1424-4604-b0df-a90d2a58a260"
      },
      "source": [
        "dax.isnull().sum()"
      ],
      "id": "527fafc0",
      "execution_count": null,
      "outputs": [
        {
          "data": {
            "text/plain": [
              "Date         0\n",
              "Open         5\n",
              "High         5\n",
              "Low          5\n",
              "Close        5\n",
              "Adj Close    5\n",
              "Volume       5\n",
              "dtype: int64"
            ]
          },
          "execution_count": 175,
          "metadata": {},
          "output_type": "execute_result"
        }
      ]
    },
    {
      "cell_type": "code",
      "metadata": {
        "id": "7ad46119",
        "outputId": "a38a8b93-4dcf-4716-fd0e-06bc6e2c8aaa"
      },
      "source": [
        "list = ['Close','Adj Close','Volume']\n",
        "for i in list:\n",
        "    dax[i].fillna(dax[i].mean(),inplace=True)\n",
        "dax = dax.drop(['Open','High','Low'],axis=1)\n",
        "dax.isnull().sum()"
      ],
      "id": "7ad46119",
      "execution_count": null,
      "outputs": [
        {
          "data": {
            "text/plain": [
              "Date         0\n",
              "Close        0\n",
              "Adj Close    0\n",
              "Volume       0\n",
              "dtype: int64"
            ]
          },
          "execution_count": 176,
          "metadata": {},
          "output_type": "execute_result"
        }
      ]
    },
    {
      "cell_type": "code",
      "metadata": {
        "id": "ea5d6eb9",
        "outputId": "2bb9ec66-431b-4786-a870-b1da3ca2d96d"
      },
      "source": [
        "ftse.isnull().sum()"
      ],
      "id": "ea5d6eb9",
      "execution_count": null,
      "outputs": [
        {
          "data": {
            "text/plain": [
              "Date         0\n",
              "Open         1\n",
              "High         1\n",
              "Low          1\n",
              "Close        1\n",
              "Adj Close    1\n",
              "Volume       1\n",
              "dtype: int64"
            ]
          },
          "execution_count": 177,
          "metadata": {},
          "output_type": "execute_result"
        }
      ]
    },
    {
      "cell_type": "code",
      "metadata": {
        "id": "ccd1b7bc",
        "outputId": "ec809da8-96f4-49f3-8314-a0461c0b3bf4"
      },
      "source": [
        "list = ['Close','Adj Close','Volume']\n",
        "for i in list:\n",
        "    ftse[i].fillna(ftse[i].mean(),inplace=True)\n",
        "ftse = ftse.drop(['Open','High','Low'],axis=1)\n",
        "ftse.isnull().sum()"
      ],
      "id": "ccd1b7bc",
      "execution_count": null,
      "outputs": [
        {
          "data": {
            "text/plain": [
              "Date         0\n",
              "Close        0\n",
              "Adj Close    0\n",
              "Volume       0\n",
              "dtype: int64"
            ]
          },
          "execution_count": 178,
          "metadata": {},
          "output_type": "execute_result"
        }
      ]
    },
    {
      "cell_type": "code",
      "metadata": {
        "id": "f92328f1",
        "outputId": "18d1ffde-b1df-44b3-d9b0-4887ff33adc2"
      },
      "source": [
        "cac.isnull().sum()"
      ],
      "id": "f92328f1",
      "execution_count": null,
      "outputs": [
        {
          "data": {
            "text/plain": [
              "Date         0\n",
              "Open         3\n",
              "High         3\n",
              "Low          3\n",
              "Close        3\n",
              "Adj Close    3\n",
              "Volume       3\n",
              "dtype: int64"
            ]
          },
          "execution_count": 179,
          "metadata": {},
          "output_type": "execute_result"
        }
      ]
    },
    {
      "cell_type": "code",
      "metadata": {
        "id": "03442902",
        "outputId": "0e6f59bd-6152-4df6-e650-fbf5d829c66a"
      },
      "source": [
        "list = ['Close','Adj Close','Volume']\n",
        "for i in list:\n",
        "    cac[i].fillna(cac[i].mean(),inplace=True)\n",
        "cac = cac.drop(['Open','High','Low'],axis=1)\n",
        "cac.isnull().sum()"
      ],
      "id": "03442902",
      "execution_count": null,
      "outputs": [
        {
          "data": {
            "text/plain": [
              "Date         0\n",
              "Close        0\n",
              "Adj Close    0\n",
              "Volume       0\n",
              "dtype: int64"
            ]
          },
          "execution_count": 180,
          "metadata": {},
          "output_type": "execute_result"
        }
      ]
    },
    {
      "cell_type": "code",
      "metadata": {
        "id": "560278c9",
        "outputId": "d566c899-a9d5-4a40-9fe7-d56b4f7c890c"
      },
      "source": [
        "hs.isnull().sum()"
      ],
      "id": "560278c9",
      "execution_count": null,
      "outputs": [
        {
          "data": {
            "text/plain": [
              "Date          0\n",
              "Open         15\n",
              "High         15\n",
              "Low          15\n",
              "Close        15\n",
              "Adj Close    15\n",
              "Volume       15\n",
              "dtype: int64"
            ]
          },
          "execution_count": 181,
          "metadata": {},
          "output_type": "execute_result"
        }
      ]
    },
    {
      "cell_type": "code",
      "metadata": {
        "id": "b5720e21",
        "outputId": "954c2308-5986-4be5-8c6f-0ef1da11d090"
      },
      "source": [
        "list = ['Close','Adj Close','Volume']\n",
        "for i in list:\n",
        "    hs[i].fillna(hs[i].mean(),inplace=True)\n",
        "hs = hs.drop(['Open','High','Low'],axis=1)\n",
        "hs.isnull().sum()"
      ],
      "id": "b5720e21",
      "execution_count": null,
      "outputs": [
        {
          "data": {
            "text/plain": [
              "Date         0\n",
              "Close        0\n",
              "Adj Close    0\n",
              "Volume       0\n",
              "dtype: int64"
            ]
          },
          "execution_count": 182,
          "metadata": {},
          "output_type": "execute_result"
        }
      ]
    },
    {
      "cell_type": "code",
      "metadata": {
        "id": "21505bb7",
        "outputId": "7b917b2d-281f-489a-a269-1e0410d4f83f"
      },
      "source": [
        "import seaborn as sns\n",
        "\n",
        "sns.scatterplot(x=\"Date\", y=\"Close\",hue='Volume', data=nasdaq)"
      ],
      "id": "21505bb7",
      "execution_count": null,
      "outputs": [
        {
          "name": "stdout",
          "output_type": "stream",
          "text": [
            "Using categorical units to plot a list of strings that are all parsable as floats or dates. If these strings should be plotted as numbers, cast to the appropriate data type before plotting.\n",
            "Using categorical units to plot a list of strings that are all parsable as floats or dates. If these strings should be plotted as numbers, cast to the appropriate data type before plotting.\n"
          ]
        },
        {
          "data": {
            "text/plain": [
              "<AxesSubplot:xlabel='Date', ylabel='Close'>"
            ]
          },
          "execution_count": 198,
          "metadata": {},
          "output_type": "execute_result"
        },
        {
          "data": {
            "image/png": "[encoded data removed]",
            "text/plain": [
              "<Figure size 432x288 with 1 Axes>"
            ]
          },
          "metadata": {
            "needs_background": "light"
          },
          "output_type": "display_data"
        }
      ]
    },
    {
      "cell_type": "code",
      "metadata": {
        "id": "4b4884b8",
        "outputId": "f2888f4b-ed40-49c5-d3dc-cee60a9e85dc"
      },
      "source": [
        "sns.distplot(nasdaq['Volume'],kde=False)#i don't care if it'll be removed in the future :/"
      ],
      "id": "4b4884b8",
      "execution_count": null,
      "outputs": [
        {
          "name": "stderr",
          "output_type": "stream",
          "text": [
            "/Users/rexliu/opt/anaconda3/envs/tf2/lib/python3.7/site-packages/seaborn/distributions.py:2619: FutureWarning: `distplot` is a deprecated function and will be removed in a future version. Please adapt your code to use either `displot` (a figure-level function with similar flexibility) or `histplot` (an axes-level function for histograms).\n",
            "  warnings.warn(msg, FutureWarning)\n"
          ]
        },
        {
          "data": {
            "text/plain": [
              "<AxesSubplot:xlabel='Volume'>"
            ]
          },
          "execution_count": 199,
          "metadata": {},
          "output_type": "execute_result"
        },
        {
          "data": {
            "image/png": "[encoded data removed]",
            "text/plain": [
              "<Figure size 432x288 with 1 Axes>"
            ]
          },
          "metadata": {
            "needs_background": "light"
          },
          "output_type": "display_data"
        }
      ]
    },
    {
      "cell_type": "code",
      "metadata": {
        "id": "ebbf37d2",
        "outputId": "6fc05c8f-77fa-412c-9f36-845825bed308"
      },
      "source": [
        "sns.boxplot(x='Volume',y='Close',data=nasdaq)"
      ],
      "id": "ebbf37d2",
      "execution_count": null,
      "outputs": [
        {
          "data": {
            "text/plain": [
              "<AxesSubplot:xlabel='Volume', ylabel='Close'>"
            ]
          },
          "execution_count": 200,
          "metadata": {},
          "output_type": "execute_result"
        },
        {
          "data": {
            "image/png": "[encoded data removed]",
            "text/plain": [
              "<Figure size 432x288 with 1 Axes>"
            ]
          },
          "metadata": {
            "needs_background": "light"
          },
          "output_type": "display_data"
        }
      ]
    },
    {
      "cell_type": "code",
      "metadata": {
        "id": "0796a909",
        "outputId": "97ccd7b1-e89e-4070-91b1-07a7d240a9ea"
      },
      "source": [
        "sns.heatmap(nasdaq.corr(), fmt=\".2f\")"
      ],
      "id": "0796a909",
      "execution_count": null,
      "outputs": [
        {
          "data": {
            "text/plain": [
              "<AxesSubplot:>"
            ]
          },
          "execution_count": 201,
          "metadata": {},
          "output_type": "execute_result"
        },
        {
          "data": {
            "image/png": "[encoded data removed]",
            "text/plain": [
              "<Figure size 432x288 with 2 Axes>"
            ]
          },
          "metadata": {
            "needs_background": "light"
          },
          "output_type": "display_data"
        }
      ]
    },
    {
      "cell_type": "code",
      "metadata": {
        "id": "e7bc263c"
      },
      "source": [
        "#okay...i kinda just wanna skip the rest of these six datasets..."
      ],
      "id": "e7bc263c",
      "execution_count": null,
      "outputs": []
    },
    {
      "cell_type": "markdown",
      "metadata": {
        "id": "c9f20242"
      },
      "source": [
        "### Question 5\n",
        "\n",
        "Construct a MLP with only 1 hidden layer(with 100 neurons). Train the model with 30 epochs, report the result. Compare the performance on the training set and validation set, conclude that\n",
        "- whether the result is improving with more epochs\n",
        "- whether there exists overfitting\n"
      ],
      "id": "c9f20242"
    },
    {
      "cell_type": "code",
      "metadata": {
        "id": "21839195",
        "outputId": "86cf48c2-db6f-4176-9b93-d188c42ab9c5"
      },
      "source": [
        "nasdaq.head()"
      ],
      "id": "21839195",
      "execution_count": null,
      "outputs": [
        {
          "data": {
            "text/html": [
              "<div>\n",
              "<style scoped>\n",
              "    .dataframe tbody tr th:only-of-type {\n",
              "        vertical-align: middle;\n",
              "    }\n",
              "\n",
              "    .dataframe tbody tr th {\n",
              "        vertical-align: top;\n",
              "    }\n",
              "\n",
              "    .dataframe thead th {\n",
              "        text-align: right;\n",
              "    }\n",
              "</style>\n",
              "<table border=\"1\" class=\"dataframe\">\n",
              "  <thead>\n",
              "    <tr style=\"text-align: right;\">\n",
              "      <th></th>\n",
              "      <th>Date</th>\n",
              "      <th>Open</th>\n",
              "      <th>High</th>\n",
              "      <th>Low</th>\n",
              "      <th>Close</th>\n",
              "      <th>Adj Close</th>\n",
              "      <th>Volume</th>\n",
              "    </tr>\n",
              "  </thead>\n",
              "  <tbody>\n",
              "    <tr>\n",
              "      <th>0</th>\n",
              "      <td>2001-01-02</td>\n",
              "      <td>2474.159912</td>\n",
              "      <td>2474.159912</td>\n",
              "      <td>2273.070068</td>\n",
              "      <td>2291.860107</td>\n",
              "      <td>2291.860107</td>\n",
              "      <td>1918930000</td>\n",
              "    </tr>\n",
              "    <tr>\n",
              "      <th>1</th>\n",
              "      <td>2001-01-03</td>\n",
              "      <td>2254.560059</td>\n",
              "      <td>2618.030029</td>\n",
              "      <td>2251.709961</td>\n",
              "      <td>2616.689941</td>\n",
              "      <td>2616.689941</td>\n",
              "      <td>3188000000</td>\n",
              "    </tr>\n",
              "    <tr>\n",
              "      <th>2</th>\n",
              "      <td>2001-01-04</td>\n",
              "      <td>2593.959961</td>\n",
              "      <td>2644.800049</td>\n",
              "      <td>2549.830078</td>\n",
              "      <td>2566.830078</td>\n",
              "      <td>2566.830078</td>\n",
              "      <td>2610680000</td>\n",
              "    </tr>\n",
              "    <tr>\n",
              "      <th>3</th>\n",
              "      <td>2001-01-05</td>\n",
              "      <td>2573.110107</td>\n",
              "      <td>2574.620117</td>\n",
              "      <td>2395.389893</td>\n",
              "      <td>2407.649902</td>\n",
              "      <td>2407.649902</td>\n",
              "      <td>2104670000</td>\n",
              "    </tr>\n",
              "    <tr>\n",
              "      <th>4</th>\n",
              "      <td>2001-01-08</td>\n",
              "      <td>2388.719971</td>\n",
              "      <td>2397.060059</td>\n",
              "      <td>2299.649902</td>\n",
              "      <td>2395.919922</td>\n",
              "      <td>2395.919922</td>\n",
              "      <td>1850590000</td>\n",
              "    </tr>\n",
              "  </tbody>\n",
              "</table>\n",
              "</div>"
            ],
            "text/plain": [
              "         Date         Open         High          Low        Close  \\\n",
              "0  2001-01-02  2474.159912  2474.159912  2273.070068  2291.860107   \n",
              "1  2001-01-03  2254.560059  2618.030029  2251.709961  2616.689941   \n",
              "2  2001-01-04  2593.959961  2644.800049  2549.830078  2566.830078   \n",
              "3  2001-01-05  2573.110107  2574.620117  2395.389893  2407.649902   \n",
              "4  2001-01-08  2388.719971  2397.060059  2299.649902  2395.919922   \n",
              "\n",
              "     Adj Close      Volume  \n",
              "0  2291.860107  1918930000  \n",
              "1  2616.689941  3188000000  \n",
              "2  2566.830078  2610680000  \n",
              "3  2407.649902  2104670000  \n",
              "4  2395.919922  1850590000  "
            ]
          },
          "execution_count": 202,
          "metadata": {},
          "output_type": "execute_result"
        }
      ]
    },
    {
      "cell_type": "code",
      "metadata": {
        "colab": {
          "base_uri": "https://localhost:8080/",
          "height": 243
        },
        "id": "a6b8fc67",
        "outputId": "d789f1ec-333a-4bc8-a1d5-2c30612cb85d"
      },
      "source": [
        "import numpy as np\n",
        "from sklearn.linear_model import Perceptron\n",
        "\n",
        "X = nasdaq.drop(['Open','High','Low','Adj Close','Volume'], axis=1)\n",
        "y = nasdaq['Volume']\n",
        "\n",
        "per_clf = Perceptron(max_iter=1000, tol=1e-3, random_state=42)\n",
        "per_clf.fit(X,y)\n",
        "\n",
        "y_pred = per_clf.predict([[2,0.5]])"
      ],
      "id": "a6b8fc67",
      "execution_count": null,
      "outputs": [
        {
          "output_type": "error",
          "ename": "NameError",
          "evalue": "ignored",
          "traceback": [
            "\u001b[0;31m---------------------------------------------------------------------------\u001b[0m",
            "\u001b[0;31mNameError\u001b[0m                                 Traceback (most recent call last)",
            "\u001b[0;32m<ipython-input-1-74109ee6ab0f>\u001b[0m in \u001b[0;36m<module>\u001b[0;34m()\u001b[0m\n\u001b[1;32m      2\u001b[0m \u001b[0;32mfrom\u001b[0m \u001b[0msklearn\u001b[0m\u001b[0;34m.\u001b[0m\u001b[0mlinear_model\u001b[0m \u001b[0;32mimport\u001b[0m \u001b[0mPerceptron\u001b[0m\u001b[0;34m\u001b[0m\u001b[0;34m\u001b[0m\u001b[0m\n\u001b[1;32m      3\u001b[0m \u001b[0;34m\u001b[0m\u001b[0m\n\u001b[0;32m----> 4\u001b[0;31m \u001b[0mX\u001b[0m \u001b[0;34m=\u001b[0m \u001b[0mnasdaq\u001b[0m\u001b[0;34m.\u001b[0m\u001b[0mdrop\u001b[0m\u001b[0;34m(\u001b[0m\u001b[0;34m[\u001b[0m\u001b[0;34m'Open'\u001b[0m\u001b[0;34m,\u001b[0m\u001b[0;34m'High'\u001b[0m\u001b[0;34m,\u001b[0m\u001b[0;34m'Low'\u001b[0m\u001b[0;34m,\u001b[0m\u001b[0;34m'Adj Close'\u001b[0m\u001b[0;34m,\u001b[0m\u001b[0;34m'Volume'\u001b[0m\u001b[0;34m]\u001b[0m\u001b[0;34m,\u001b[0m \u001b[0maxis\u001b[0m\u001b[0;34m=\u001b[0m\u001b[0;36m1\u001b[0m\u001b[0;34m)\u001b[0m\u001b[0;34m\u001b[0m\u001b[0;34m\u001b[0m\u001b[0m\n\u001b[0m\u001b[1;32m      5\u001b[0m \u001b[0my\u001b[0m \u001b[0;34m=\u001b[0m \u001b[0mnasdaq\u001b[0m\u001b[0;34m[\u001b[0m\u001b[0;34m'Volume'\u001b[0m\u001b[0;34m]\u001b[0m\u001b[0;34m\u001b[0m\u001b[0;34m\u001b[0m\u001b[0m\n\u001b[1;32m      6\u001b[0m \u001b[0;34m\u001b[0m\u001b[0m\n",
            "\u001b[0;31mNameError\u001b[0m: name 'nasdaq' is not defined"
          ]
        }
      ]
    },
    {
      "cell_type": "code",
      "metadata": {
        "id": "44cc323d"
      },
      "source": [],
      "id": "44cc323d",
      "execution_count": null,
      "outputs": []
    },
    {
      "cell_type": "code",
      "metadata": {
        "id": "3b3bd7b8"
      },
      "source": [],
      "id": "3b3bd7b8",
      "execution_count": null,
      "outputs": []
    },
    {
      "cell_type": "markdown",
      "metadata": {
        "id": "efdfbd60"
      },
      "source": [
        "### Question 6\n",
        "\n",
        "Construct a MLP with 5 hidden layers (you decide how many neurons to put in each layer). Check the number of parameter to estimate, and print the model summary. Train your model. Save this as \"my_keras_model_for_finance.h5\".  Compare it with the result given by model in Question 5."
      ],
      "id": "efdfbd60"
    },
    {
      "cell_type": "code",
      "metadata": {
        "id": "392019f9"
      },
      "source": [],
      "id": "392019f9",
      "execution_count": null,
      "outputs": []
    },
    {
      "cell_type": "markdown",
      "metadata": {
        "id": "bcdb3210"
      },
      "source": [
        "#### Suppose Bob has changed his strategy and  would like to predict the sp500 price only based on its 30 days historical average logdiff (which you know how to calculate, as is similar to the previous homework)"
      ],
      "id": "bcdb3210"
    },
    {
      "cell_type": "markdown",
      "metadata": {
        "id": "3a3d3040"
      },
      "source": [
        "### Question 7\n",
        "\n",
        "Construct either a stacking LSTM model or a GRU model, and train it. Report the results. (you might want to consult the textbook chapter 15, page 514-520)"
      ],
      "id": "3a3d3040"
    },
    {
      "cell_type": "code",
      "metadata": {
        "id": "647222f7"
      },
      "source": [],
      "id": "647222f7",
      "execution_count": null,
      "outputs": []
    }
  ]
}